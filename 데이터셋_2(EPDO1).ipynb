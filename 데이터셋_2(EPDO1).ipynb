{
 "cells": [
  {
   "cell_type": "code",
   "execution_count": 1,
   "metadata": {},
   "outputs": [],
   "source": [
    "import pandas as pd"
   ]
  },
  {
   "cell_type": "code",
   "execution_count": 10,
   "metadata": {},
   "outputs": [],
   "source": [
    "df = pd.read_csv('./csv파일/데이터셋_2(EPDO1).csv',encoding='cp949')"
   ]
  },
  {
   "cell_type": "code",
   "execution_count": 23,
   "metadata": {},
   "outputs": [
    {
     "name": "stdout",
     "output_type": "stream",
     "text": [
      "<class 'pandas.core.frame.DataFrame'>\n",
      "RangeIndex: 58059 entries, 0 to 58058\n",
      "Data columns (total 12 columns):\n",
      " #   Column       Non-Null Count  Dtype \n",
      "---  ------       --------------  ----- \n",
      " 0   사고유형         58059 non-null  object\n",
      " 1   연령가해자        58059 non-null  object\n",
      " 2   법규위반가해자      58059 non-null  object\n",
      " 3   행동유형가해자      58059 non-null  object\n",
      " 4   신체상해정도피해자    58059 non-null  object\n",
      " 5   피해자신체상해주부위   58059 non-null  object\n",
      " 6   차량용도가해자_중분류  58059 non-null  object\n",
      " 7   도로종류         58059 non-null  object\n",
      " 8   도로형태         58059 non-null  object\n",
      " 9   도로선형         58059 non-null  object\n",
      " 10  발생시각         58059 non-null  object\n",
      " 11  EPDO1        58059 non-null  int64 \n",
      "dtypes: int64(1), object(11)\n",
      "memory usage: 5.3+ MB\n"
     ]
    }
   ],
   "source": [
    "df.info()"
   ]
  },
  {
   "cell_type": "markdown",
   "metadata": {},
   "source": [
    "# 회귀분석"
   ]
  },
  {
   "cell_type": "code",
   "execution_count": 22,
   "metadata": {},
   "outputs": [],
   "source": [
    "from sklearn.linear_model import LinearRegression\n",
    "model = LinearRegression()"
   ]
  },
  {
   "cell_type": "code",
   "execution_count": 25,
   "metadata": {},
   "outputs": [],
   "source": [
    "x=df['사고유형']\n",
    "x = pd.get_dummies(x)\n",
    "y=df['EPDO1']"
   ]
  },
  {
   "cell_type": "code",
   "execution_count": 28,
   "metadata": {},
   "outputs": [
    {
     "data": {
      "text/plain": [
       "LinearRegression()"
      ]
     },
     "execution_count": 28,
     "metadata": {},
     "output_type": "execute_result"
    }
   ],
   "source": [
    "model.fit(x,y)"
   ]
  },
  {
   "cell_type": "code",
   "execution_count": 29,
   "metadata": {},
   "outputs": [
    {
     "data": {
      "text/plain": [
       "0.010928701177381317"
      ]
     },
     "execution_count": 29,
     "metadata": {},
     "output_type": "execute_result"
    }
   ],
   "source": [
    "model.score(x,y)"
   ]
  },
  {
   "cell_type": "code",
   "execution_count": 30,
   "metadata": {},
   "outputs": [
    {
     "data": {
      "text/html": [
       "<table class=\"simpletable\">\n",
       "<caption>OLS Regression Results</caption>\n",
       "<tr>\n",
       "  <th>Dep. Variable:</th>          <td>EPDO1</td>      <th>  R-squared:         </th>  <td>   0.011</td>  \n",
       "</tr>\n",
       "<tr>\n",
       "  <th>Model:</th>                   <td>OLS</td>       <th>  Adj. R-squared:    </th>  <td>   0.011</td>  \n",
       "</tr>\n",
       "<tr>\n",
       "  <th>Method:</th>             <td>Least Squares</td>  <th>  F-statistic:       </th>  <td>   160.4</td>  \n",
       "</tr>\n",
       "<tr>\n",
       "  <th>Date:</th>             <td>Mon, 16 Nov 2020</td> <th>  Prob (F-statistic):</th>  <td>9.37e-137</td> \n",
       "</tr>\n",
       "<tr>\n",
       "  <th>Time:</th>                 <td>16:37:01</td>     <th>  Log-Likelihood:    </th> <td>-3.2679e+05</td>\n",
       "</tr>\n",
       "<tr>\n",
       "  <th>No. Observations:</th>      <td> 58059</td>      <th>  AIC:               </th>  <td>6.536e+05</td> \n",
       "</tr>\n",
       "<tr>\n",
       "  <th>Df Residuals:</th>          <td> 58054</td>      <th>  BIC:               </th>  <td>6.536e+05</td> \n",
       "</tr>\n",
       "<tr>\n",
       "  <th>Df Model:</th>              <td>     4</td>      <th>                     </th>      <td> </td>     \n",
       "</tr>\n",
       "<tr>\n",
       "  <th>Covariance Type:</th>      <td>nonrobust</td>    <th>                     </th>      <td> </td>     \n",
       "</tr>\n",
       "</table>\n",
       "<table class=\"simpletable\">\n",
       "<tr>\n",
       "       <td></td>         <th>coef</th>     <th>std err</th>      <th>t</th>      <th>P>|t|</th>  <th>[0.025</th>    <th>0.975]</th>  \n",
       "</tr>\n",
       "<tr>\n",
       "  <th>기타</th>         <td>   30.6105</td> <td>    0.500</td> <td>   61.195</td> <td> 0.000</td> <td>   29.630</td> <td>   31.591</td>\n",
       "</tr>\n",
       "<tr>\n",
       "  <th>길가장자리구역통행중</th> <td>   33.9845</td> <td>    1.063</td> <td>   31.960</td> <td> 0.000</td> <td>   31.900</td> <td>   36.069</td>\n",
       "</tr>\n",
       "<tr>\n",
       "  <th>보도통행중</th>      <td>   33.3882</td> <td>    1.394</td> <td>   23.955</td> <td> 0.000</td> <td>   30.656</td> <td>   36.120</td>\n",
       "</tr>\n",
       "<tr>\n",
       "  <th>차도통행중</th>      <td>   42.9025</td> <td>    0.886</td> <td>   48.410</td> <td> 0.000</td> <td>   41.165</td> <td>   44.639</td>\n",
       "</tr>\n",
       "<tr>\n",
       "  <th>횡단중</th>        <td>   46.0701</td> <td>    0.404</td> <td>  114.120</td> <td> 0.000</td> <td>   45.279</td> <td>   46.861</td>\n",
       "</tr>\n",
       "</table>\n",
       "<table class=\"simpletable\">\n",
       "<tr>\n",
       "  <th>Omnibus:</th>       <td>38176.902</td> <th>  Durbin-Watson:     </th>  <td>   1.964</td> \n",
       "</tr>\n",
       "<tr>\n",
       "  <th>Prob(Omnibus):</th>  <td> 0.000</td>   <th>  Jarque-Bera (JB):  </th> <td>368385.333</td>\n",
       "</tr>\n",
       "<tr>\n",
       "  <th>Skew:</th>           <td> 3.200</td>   <th>  Prob(JB):          </th>  <td>    0.00</td> \n",
       "</tr>\n",
       "<tr>\n",
       "  <th>Kurtosis:</th>       <td>13.550</td>   <th>  Cond. No.          </th>  <td>    3.45</td> \n",
       "</tr>\n",
       "</table><br/><br/>Warnings:<br/>[1] Standard Errors assume that the covariance matrix of the errors is correctly specified."
      ],
      "text/plain": [
       "<class 'statsmodels.iolib.summary.Summary'>\n",
       "\"\"\"\n",
       "                            OLS Regression Results                            \n",
       "==============================================================================\n",
       "Dep. Variable:                  EPDO1   R-squared:                       0.011\n",
       "Model:                            OLS   Adj. R-squared:                  0.011\n",
       "Method:                 Least Squares   F-statistic:                     160.4\n",
       "Date:                Mon, 16 Nov 2020   Prob (F-statistic):          9.37e-137\n",
       "Time:                        16:37:01   Log-Likelihood:            -3.2679e+05\n",
       "No. Observations:               58059   AIC:                         6.536e+05\n",
       "Df Residuals:                   58054   BIC:                         6.536e+05\n",
       "Df Model:                           4                                         \n",
       "Covariance Type:            nonrobust                                         \n",
       "==============================================================================\n",
       "                 coef    std err          t      P>|t|      [0.025      0.975]\n",
       "------------------------------------------------------------------------------\n",
       "기타            30.6105      0.500     61.195      0.000      29.630      31.591\n",
       "길가장자리구역통행중    33.9845      1.063     31.960      0.000      31.900      36.069\n",
       "보도통행중         33.3882      1.394     23.955      0.000      30.656      36.120\n",
       "차도통행중         42.9025      0.886     48.410      0.000      41.165      44.639\n",
       "횡단중           46.0701      0.404    114.120      0.000      45.279      46.861\n",
       "==============================================================================\n",
       "Omnibus:                    38176.902   Durbin-Watson:                   1.964\n",
       "Prob(Omnibus):                  0.000   Jarque-Bera (JB):           368385.333\n",
       "Skew:                           3.200   Prob(JB):                         0.00\n",
       "Kurtosis:                      13.550   Cond. No.                         3.45\n",
       "==============================================================================\n",
       "\n",
       "Warnings:\n",
       "[1] Standard Errors assume that the covariance matrix of the errors is correctly specified.\n",
       "\"\"\""
      ]
     },
     "execution_count": 30,
     "metadata": {},
     "output_type": "execute_result"
    }
   ],
   "source": [
    "from statsmodels.api import OLS\n",
    "\n",
    "ols = OLS(y,x).fit().summary()\n",
    "ols"
   ]
  },
  {
   "cell_type": "markdown",
   "metadata": {},
   "source": [
    "---"
   ]
  },
  {
   "cell_type": "code",
   "execution_count": 31,
   "metadata": {},
   "outputs": [],
   "source": [
    "x=df['연령가해자']\n",
    "x = pd.get_dummies(x)"
   ]
  },
  {
   "cell_type": "code",
   "execution_count": 34,
   "metadata": {},
   "outputs": [
    {
     "data": {
      "text/html": [
       "<table class=\"simpletable\">\n",
       "<caption>OLS Regression Results</caption>\n",
       "<tr>\n",
       "  <th>Dep. Variable:</th>          <td>EPDO1</td>      <th>  R-squared:         </th>  <td>   0.006</td>  \n",
       "</tr>\n",
       "<tr>\n",
       "  <th>Model:</th>                   <td>OLS</td>       <th>  Adj. R-squared:    </th>  <td>   0.005</td>  \n",
       "</tr>\n",
       "<tr>\n",
       "  <th>Method:</th>             <td>Least Squares</td>  <th>  F-statistic:       </th>  <td>   46.76</td>  \n",
       "</tr>\n",
       "<tr>\n",
       "  <th>Date:</th>             <td>Mon, 16 Nov 2020</td> <th>  Prob (F-statistic):</th>  <td>1.36e-66</td>  \n",
       "</tr>\n",
       "<tr>\n",
       "  <th>Time:</th>                 <td>16:38:28</td>     <th>  Log-Likelihood:    </th> <td>-3.2695e+05</td>\n",
       "</tr>\n",
       "<tr>\n",
       "  <th>No. Observations:</th>      <td> 58059</td>      <th>  AIC:               </th>  <td>6.539e+05</td> \n",
       "</tr>\n",
       "<tr>\n",
       "  <th>Df Residuals:</th>          <td> 58051</td>      <th>  BIC:               </th>  <td>6.540e+05</td> \n",
       "</tr>\n",
       "<tr>\n",
       "  <th>Df Model:</th>              <td>     7</td>      <th>                     </th>      <td> </td>     \n",
       "</tr>\n",
       "<tr>\n",
       "  <th>Covariance Type:</th>      <td>nonrobust</td>    <th>                     </th>      <td> </td>     \n",
       "</tr>\n",
       "</table>\n",
       "<table class=\"simpletable\">\n",
       "<tr>\n",
       "     <td></td>       <th>coef</th>     <th>std err</th>      <th>t</th>      <th>P>|t|</th>  <th>[0.025</th>    <th>0.975]</th>  \n",
       "</tr>\n",
       "<tr>\n",
       "  <th>20세이하</th>  <td>   31.3824</td> <td>    1.771</td> <td>   17.723</td> <td> 0.000</td> <td>   27.912</td> <td>   34.853</td>\n",
       "</tr>\n",
       "<tr>\n",
       "  <th>21-30세</th> <td>   39.4655</td> <td>    0.932</td> <td>   42.360</td> <td> 0.000</td> <td>   37.639</td> <td>   41.292</td>\n",
       "</tr>\n",
       "<tr>\n",
       "  <th>31-40세</th> <td>   40.0741</td> <td>    0.724</td> <td>   55.339</td> <td> 0.000</td> <td>   38.655</td> <td>   41.493</td>\n",
       "</tr>\n",
       "<tr>\n",
       "  <th>41-50세</th> <td>   40.5951</td> <td>    0.600</td> <td>   67.634</td> <td> 0.000</td> <td>   39.419</td> <td>   41.771</td>\n",
       "</tr>\n",
       "<tr>\n",
       "  <th>51-60세</th> <td>   40.9612</td> <td>    0.543</td> <td>   75.452</td> <td> 0.000</td> <td>   39.897</td> <td>   42.025</td>\n",
       "</tr>\n",
       "<tr>\n",
       "  <th>61-64세</th> <td>   41.5807</td> <td>    0.968</td> <td>   42.955</td> <td> 0.000</td> <td>   39.683</td> <td>   43.478</td>\n",
       "</tr>\n",
       "<tr>\n",
       "  <th>65세이상</th>  <td>   40.8318</td> <td>    0.750</td> <td>   54.424</td> <td> 0.000</td> <td>   39.361</td> <td>   42.302</td>\n",
       "</tr>\n",
       "<tr>\n",
       "  <th>기타/불명</th>  <td>   10.6468</td> <td>    1.702</td> <td>    6.256</td> <td> 0.000</td> <td>    7.311</td> <td>   13.982</td>\n",
       "</tr>\n",
       "</table>\n",
       "<table class=\"simpletable\">\n",
       "<tr>\n",
       "  <th>Omnibus:</th>       <td>38243.048</td> <th>  Durbin-Watson:     </th>  <td>   1.964</td> \n",
       "</tr>\n",
       "<tr>\n",
       "  <th>Prob(Omnibus):</th>  <td> 0.000</td>   <th>  Jarque-Bera (JB):  </th> <td>366432.066</td>\n",
       "</tr>\n",
       "<tr>\n",
       "  <th>Skew:</th>           <td> 3.212</td>   <th>  Prob(JB):          </th>  <td>    0.00</td> \n",
       "</tr>\n",
       "<tr>\n",
       "  <th>Kurtosis:</th>       <td>13.498</td>   <th>  Cond. No.          </th>  <td>    3.26</td> \n",
       "</tr>\n",
       "</table><br/><br/>Warnings:<br/>[1] Standard Errors assume that the covariance matrix of the errors is correctly specified."
      ],
      "text/plain": [
       "<class 'statsmodels.iolib.summary.Summary'>\n",
       "\"\"\"\n",
       "                            OLS Regression Results                            \n",
       "==============================================================================\n",
       "Dep. Variable:                  EPDO1   R-squared:                       0.006\n",
       "Model:                            OLS   Adj. R-squared:                  0.005\n",
       "Method:                 Least Squares   F-statistic:                     46.76\n",
       "Date:                Mon, 16 Nov 2020   Prob (F-statistic):           1.36e-66\n",
       "Time:                        16:38:28   Log-Likelihood:            -3.2695e+05\n",
       "No. Observations:               58059   AIC:                         6.539e+05\n",
       "Df Residuals:                   58051   BIC:                         6.540e+05\n",
       "Df Model:                           7                                         \n",
       "Covariance Type:            nonrobust                                         \n",
       "==============================================================================\n",
       "                 coef    std err          t      P>|t|      [0.025      0.975]\n",
       "------------------------------------------------------------------------------\n",
       "20세이하         31.3824      1.771     17.723      0.000      27.912      34.853\n",
       "21-30세        39.4655      0.932     42.360      0.000      37.639      41.292\n",
       "31-40세        40.0741      0.724     55.339      0.000      38.655      41.493\n",
       "41-50세        40.5951      0.600     67.634      0.000      39.419      41.771\n",
       "51-60세        40.9612      0.543     75.452      0.000      39.897      42.025\n",
       "61-64세        41.5807      0.968     42.955      0.000      39.683      43.478\n",
       "65세이상         40.8318      0.750     54.424      0.000      39.361      42.302\n",
       "기타/불명         10.6468      1.702      6.256      0.000       7.311      13.982\n",
       "==============================================================================\n",
       "Omnibus:                    38243.048   Durbin-Watson:                   1.964\n",
       "Prob(Omnibus):                  0.000   Jarque-Bera (JB):           366432.066\n",
       "Skew:                           3.212   Prob(JB):                         0.00\n",
       "Kurtosis:                      13.498   Cond. No.                         3.26\n",
       "==============================================================================\n",
       "\n",
       "Warnings:\n",
       "[1] Standard Errors assume that the covariance matrix of the errors is correctly specified.\n",
       "\"\"\""
      ]
     },
     "execution_count": 34,
     "metadata": {},
     "output_type": "execute_result"
    }
   ],
   "source": [
    "from statsmodels.api import OLS\n",
    "\n",
    "ols = OLS(y,x).fit().summary()\n",
    "ols"
   ]
  },
  {
   "cell_type": "markdown",
   "metadata": {},
   "source": [
    "---"
   ]
  },
  {
   "cell_type": "code",
   "execution_count": 35,
   "metadata": {},
   "outputs": [],
   "source": [
    "x=df['법규위반가해자']\n",
    "x = pd.get_dummies(x)"
   ]
  },
  {
   "cell_type": "code",
   "execution_count": 36,
   "metadata": {},
   "outputs": [
    {
     "data": {
      "text/html": [
       "<table class=\"simpletable\">\n",
       "<caption>OLS Regression Results</caption>\n",
       "<tr>\n",
       "  <th>Dep. Variable:</th>          <td>EPDO1</td>      <th>  R-squared:         </th>  <td>   0.035</td>  \n",
       "</tr>\n",
       "<tr>\n",
       "  <th>Model:</th>                   <td>OLS</td>       <th>  Adj. R-squared:    </th>  <td>   0.035</td>  \n",
       "</tr>\n",
       "<tr>\n",
       "  <th>Method:</th>             <td>Least Squares</td>  <th>  F-statistic:       </th>  <td>   303.7</td>  \n",
       "</tr>\n",
       "<tr>\n",
       "  <th>Date:</th>             <td>Mon, 16 Nov 2020</td> <th>  Prob (F-statistic):</th>   <td>  0.00</td>   \n",
       "</tr>\n",
       "<tr>\n",
       "  <th>Time:</th>                 <td>16:39:06</td>     <th>  Log-Likelihood:    </th> <td>-3.2606e+05</td>\n",
       "</tr>\n",
       "<tr>\n",
       "  <th>No. Observations:</th>      <td> 58059</td>      <th>  AIC:               </th>  <td>6.521e+05</td> \n",
       "</tr>\n",
       "<tr>\n",
       "  <th>Df Residuals:</th>          <td> 58051</td>      <th>  BIC:               </th>  <td>6.522e+05</td> \n",
       "</tr>\n",
       "<tr>\n",
       "  <th>Df Model:</th>              <td>     7</td>      <th>                     </th>      <td> </td>     \n",
       "</tr>\n",
       "<tr>\n",
       "  <th>Covariance Type:</th>      <td>nonrobust</td>    <th>                     </th>      <td> </td>     \n",
       "</tr>\n",
       "</table>\n",
       "<table class=\"simpletable\">\n",
       "<tr>\n",
       "       <td></td>          <th>coef</th>     <th>std err</th>      <th>t</th>      <th>P>|t|</th>  <th>[0.025</th>    <th>0.975]</th>  \n",
       "</tr>\n",
       "<tr>\n",
       "  <th>과속</th>          <td>  194.2389</td> <td>    3.505</td> <td>   55.419</td> <td> 0.000</td> <td>  187.369</td> <td>  201.109</td>\n",
       "</tr>\n",
       "<tr>\n",
       "  <th>교차로 통행방법 위반</th> <td>   25.9011</td> <td>    3.084</td> <td>    8.399</td> <td> 0.000</td> <td>   19.857</td> <td>   31.946</td>\n",
       "</tr>\n",
       "<tr>\n",
       "  <th>기타</th>          <td>   25.7160</td> <td>    1.244</td> <td>   20.666</td> <td> 0.000</td> <td>   23.277</td> <td>   28.155</td>\n",
       "</tr>\n",
       "<tr>\n",
       "  <th>보행자 보호의무 위반</th> <td>   36.3918</td> <td>    0.712</td> <td>   51.148</td> <td> 0.000</td> <td>   34.997</td> <td>   37.786</td>\n",
       "</tr>\n",
       "<tr>\n",
       "  <th>신호위반</th>        <td>   38.9046</td> <td>    1.213</td> <td>   32.080</td> <td> 0.000</td> <td>   36.528</td> <td>   41.282</td>\n",
       "</tr>\n",
       "<tr>\n",
       "  <th>안전거리 미확보</th>    <td>   41.7160</td> <td>    7.389</td> <td>    5.646</td> <td> 0.000</td> <td>   27.233</td> <td>   56.199</td>\n",
       "</tr>\n",
       "<tr>\n",
       "  <th>안전운전 의무 불이행</th> <td>   39.9114</td> <td>    0.325</td> <td>  122.770</td> <td> 0.000</td> <td>   39.274</td> <td>   40.549</td>\n",
       "</tr>\n",
       "<tr>\n",
       "  <th>중앙선 침범</th>      <td>   48.6695</td> <td>    2.499</td> <td>   19.473</td> <td> 0.000</td> <td>   43.771</td> <td>   53.568</td>\n",
       "</tr>\n",
       "</table>\n",
       "<table class=\"simpletable\">\n",
       "<tr>\n",
       "  <th>Omnibus:</th>       <td>38092.352</td> <th>  Durbin-Watson:     </th>  <td>   1.968</td> \n",
       "</tr>\n",
       "<tr>\n",
       "  <th>Prob(Omnibus):</th>  <td> 0.000</td>   <th>  Jarque-Bera (JB):  </th> <td>375178.244</td>\n",
       "</tr>\n",
       "<tr>\n",
       "  <th>Skew:</th>           <td> 3.180</td>   <th>  Prob(JB):          </th>  <td>    0.00</td> \n",
       "</tr>\n",
       "<tr>\n",
       "  <th>Kurtosis:</th>       <td>13.707</td>   <th>  Cond. No.          </th>  <td>    22.7</td> \n",
       "</tr>\n",
       "</table><br/><br/>Warnings:<br/>[1] Standard Errors assume that the covariance matrix of the errors is correctly specified."
      ],
      "text/plain": [
       "<class 'statsmodels.iolib.summary.Summary'>\n",
       "\"\"\"\n",
       "                            OLS Regression Results                            \n",
       "==============================================================================\n",
       "Dep. Variable:                  EPDO1   R-squared:                       0.035\n",
       "Model:                            OLS   Adj. R-squared:                  0.035\n",
       "Method:                 Least Squares   F-statistic:                     303.7\n",
       "Date:                Mon, 16 Nov 2020   Prob (F-statistic):               0.00\n",
       "Time:                        16:39:06   Log-Likelihood:            -3.2606e+05\n",
       "No. Observations:               58059   AIC:                         6.521e+05\n",
       "Df Residuals:                   58051   BIC:                         6.522e+05\n",
       "Df Model:                           7                                         \n",
       "Covariance Type:            nonrobust                                         \n",
       "===============================================================================\n",
       "                  coef    std err          t      P>|t|      [0.025      0.975]\n",
       "-------------------------------------------------------------------------------\n",
       "과속            194.2389      3.505     55.419      0.000     187.369     201.109\n",
       "교차로 통행방법 위반    25.9011      3.084      8.399      0.000      19.857      31.946\n",
       "기타             25.7160      1.244     20.666      0.000      23.277      28.155\n",
       "보행자 보호의무 위반    36.3918      0.712     51.148      0.000      34.997      37.786\n",
       "신호위반           38.9046      1.213     32.080      0.000      36.528      41.282\n",
       "안전거리 미확보       41.7160      7.389      5.646      0.000      27.233      56.199\n",
       "안전운전 의무 불이행    39.9114      0.325    122.770      0.000      39.274      40.549\n",
       "중앙선 침범         48.6695      2.499     19.473      0.000      43.771      53.568\n",
       "==============================================================================\n",
       "Omnibus:                    38092.352   Durbin-Watson:                   1.968\n",
       "Prob(Omnibus):                  0.000   Jarque-Bera (JB):           375178.244\n",
       "Skew:                           3.180   Prob(JB):                         0.00\n",
       "Kurtosis:                      13.707   Cond. No.                         22.7\n",
       "==============================================================================\n",
       "\n",
       "Warnings:\n",
       "[1] Standard Errors assume that the covariance matrix of the errors is correctly specified.\n",
       "\"\"\""
      ]
     },
     "execution_count": 36,
     "metadata": {},
     "output_type": "execute_result"
    }
   ],
   "source": [
    "from statsmodels.api import OLS\n",
    "\n",
    "ols = OLS(y,x).fit().summary()\n",
    "ols"
   ]
  },
  {
   "cell_type": "markdown",
   "metadata": {},
   "source": [
    "---"
   ]
  },
  {
   "cell_type": "markdown",
   "metadata": {},
   "source": [
    "# PointPlot 참고해서 기준점을 잡고 순서척도로 라벨링 한 후 다시 시도해 볼 것"
   ]
  },
  {
   "cell_type": "code",
   "execution_count": null,
   "metadata": {},
   "outputs": [],
   "source": []
  }
 ],
 "metadata": {
  "kernelspec": {
   "display_name": "Python 3",
   "language": "python",
   "name": "python3"
  },
  "language_info": {
   "codemirror_mode": {
    "name": "ipython",
    "version": 3
   },
   "file_extension": ".py",
   "mimetype": "text/x-python",
   "name": "python",
   "nbconvert_exporter": "python",
   "pygments_lexer": "ipython3",
   "version": "3.8.3"
  }
 },
 "nbformat": 4,
 "nbformat_minor": 4
}
