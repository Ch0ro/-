{
 "cells": [
  {
   "cell_type": "code",
   "execution_count": 305,
   "metadata": {},
   "outputs": [],
   "source": [
    "import pandas as pd\n",
    "import numpy as np\n",
    "import warnings\n",
    "warnings.filterwarnings(\"ignore\")"
   ]
  },
  {
   "cell_type": "code",
   "execution_count": 306,
   "metadata": {},
   "outputs": [],
   "source": [
    "df = pd.read_csv('심각도_데이터셋_전처리완료.csv',encoding='cp949')"
   ]
  },
  {
   "cell_type": "markdown",
   "metadata": {},
   "source": [
    "# 데이터 기본 전처리 (타입, 기타,불명 등 )"
   ]
  },
  {
   "cell_type": "markdown",
   "metadata": {},
   "source": [
    "### 1. [연령가해자]도 int로 전처리"
   ]
  },
  {
   "cell_type": "code",
   "execution_count": 307,
   "metadata": {},
   "outputs": [],
   "source": [
    "df[\"연령가해자\"]=df[\"연령가해자\"].str.replace(\"세\",\"\") \n",
    "df[\"연령가해자\"]=df[\"연령가해자\"].str.replace(\"불명\",\"0\")   \n",
    "df[\"연령가해자\"]=df[\"연령가해자\"].str.replace(\"없음\",\"0\")"
   ]
  },
  {
   "cell_type": "code",
   "execution_count": 308,
   "metadata": {},
   "outputs": [],
   "source": [
    "df = df.astype({'연령가해자': 'int'})"
   ]
  },
  {
   "cell_type": "markdown",
   "metadata": {},
   "source": [
    "### 2.불필요한 컬럼 [차량용도피해자], [당사자종별피해자], [보호장구피해자] 추가 삭제"
   ]
  },
  {
   "cell_type": "code",
   "execution_count": 309,
   "metadata": {},
   "outputs": [],
   "source": [
    "df=df.drop(['차량용도피해자','당사자종별피해자','보호장구피해자'],axis=1)"
   ]
  },
  {
   "cell_type": "markdown",
   "metadata": {},
   "source": [
    "### 3. unique() 찍어보고 확인해서 처리할 거 처리하기"
   ]
  },
  {
   "cell_type": "code",
   "execution_count": 310,
   "metadata": {},
   "outputs": [
    {
     "data": {
      "text/plain": [
       "array(['기타불명', '0.15%~0.19%', '0.05%~0.09%', '0.10%~0.14%', '0.20%~0.24%',\n",
       "       '측정불응', '해당 없음', '측정불능', '0.03%미만', '0.25%~0.29%', '0.030~0.049%',\n",
       "       '0.35%이상', '0.30%~0.34%'], dtype=object)"
      ]
     },
     "execution_count": 310,
     "metadata": {},
     "output_type": "execute_result"
    }
   ],
   "source": [
    "df['가해자음주'].unique()"
   ]
  },
  {
   "cell_type": "code",
   "execution_count": 311,
   "metadata": {},
   "outputs": [],
   "source": [
    "idx = df[df['가해자음주']=='측정불능'].index\n",
    "for i in idx:\n",
    "    df.iloc[:,8][i]=df.iloc[:,8][i].replace('측정불능','측정불응')"
   ]
  },
  {
   "cell_type": "code",
   "execution_count": 312,
   "metadata": {},
   "outputs": [],
   "source": [
    "df=df.drop(['보호장구가해자'],axis=1)   "
   ]
  },
  {
   "cell_type": "markdown",
   "metadata": {},
   "source": [
    "---"
   ]
  },
  {
   "cell_type": "code",
   "execution_count": 313,
   "metadata": {},
   "outputs": [
    {
     "name": "stdout",
     "output_type": "stream",
     "text": [
      "<class 'pandas.core.frame.DataFrame'>\n",
      "RangeIndex: 58059 entries, 0 to 58058\n",
      "Data columns (total 27 columns):\n",
      " #   Column      Non-Null Count  Dtype \n",
      "---  ------      --------------  ----- \n",
      " 0   요일          58059 non-null  object\n",
      " 1   주야          58059 non-null  object\n",
      " 2   사고내용        58059 non-null  object\n",
      " 3   사고유형        58059 non-null  object\n",
      " 4   가해자성별       58059 non-null  object\n",
      " 5   피해자성별       58059 non-null  object\n",
      " 6   연령가해자       58059 non-null  int32 \n",
      " 7   연령피해자       58059 non-null  int64 \n",
      " 8   가해자음주       58059 non-null  object\n",
      " 9   법규위반가해자     58059 non-null  object\n",
      " 10  행동유형가해자     58059 non-null  object\n",
      " 11  신체상해정도가해자   58059 non-null  object\n",
      " 12  신체상해정도피해자   58059 non-null  object\n",
      " 13  가해자신체상해주부위  58059 non-null  object\n",
      " 14  피해자신체상해주부위  58059 non-null  object\n",
      " 15  당사자종별가해자    58059 non-null  object\n",
      " 16  차량용도가해자     58059 non-null  object\n",
      " 17  도로종류        58059 non-null  object\n",
      " 18  도로형태        58059 non-null  object\n",
      " 19  노인보호구역_여부   58059 non-null  object\n",
      " 20  어린이보호구역_여부  58059 non-null  object\n",
      " 21  자전거도로_여부    34691 non-null  object\n",
      " 22  도로선형        58059 non-null  object\n",
      " 23  기상상태        58059 non-null  object\n",
      " 24  노면상태        58059 non-null  object\n",
      " 25  교차로형태       58059 non-null  object\n",
      " 26  사고심각도       58059 non-null  int64 \n",
      "dtypes: int32(1), int64(2), object(24)\n",
      "memory usage: 11.7+ MB\n"
     ]
    }
   ],
   "source": [
    "df.info()"
   ]
  },
  {
   "cell_type": "markdown",
   "metadata": {},
   "source": [
    "---"
   ]
  },
  {
   "cell_type": "code",
   "execution_count": 314,
   "metadata": {},
   "outputs": [
    {
     "data": {
      "text/plain": [
       "array(['직진중', '후진중', '좌우회전중', 'U턴중', '불명', '출발중', '주ㆍ정차중 ', '진로변경중', '기타',\n",
       "       '직진 중', '후진 중', 'U턴 중', '좌회전 중', '우회전 중', '주행 중 대기', '앞지르기 중',\n",
       "       '주정차중', '진로변경 중', '앞지르기중'], dtype=object)"
      ]
     },
     "execution_count": 314,
     "metadata": {},
     "output_type": "execute_result"
    }
   ],
   "source": [
    "df['행동유형가해자'].unique()"
   ]
  },
  {
   "cell_type": "code",
   "execution_count": 315,
   "metadata": {},
   "outputs": [],
   "source": [
    "idx = df[df['행동유형가해자']=='직진중'].index\n",
    "for i in idx:\n",
    "    df.iloc[:,10][i]=df.iloc[:,10][i].replace('직진중','직진 중')"
   ]
  },
  {
   "cell_type": "code",
   "execution_count": 316,
   "metadata": {},
   "outputs": [],
   "source": [
    "idx = df[df['행동유형가해자']=='후진중'].index\n",
    "for i in idx:\n",
    "    df.iloc[:,10][i]=df.iloc[:,10][i].replace('후진중','후진 중')"
   ]
  },
  {
   "cell_type": "code",
   "execution_count": 317,
   "metadata": {},
   "outputs": [],
   "source": [
    "idx = df[df['행동유형가해자']=='진로변경중'].index\n",
    "for i in idx:\n",
    "    df.iloc[:,10][i]=df.iloc[:,10][i].replace('진로변경중','진로변경 중')"
   ]
  },
  {
   "cell_type": "code",
   "execution_count": 318,
   "metadata": {},
   "outputs": [],
   "source": [
    "idx = df[df['행동유형가해자']=='U턴중'].index\n",
    "for i in idx:\n",
    "    df.iloc[:,10][i]=df.iloc[:,10][i].replace('U턴중','U턴 중')"
   ]
  },
  {
   "cell_type": "code",
   "execution_count": 319,
   "metadata": {},
   "outputs": [],
   "source": [
    "idx = df[df['행동유형가해자']=='출발중'].index\n",
    "for i in idx:\n",
    "    df.iloc[:,10][i]=df.iloc[:,10][i].replace('출발중','출발 중')"
   ]
  },
  {
   "cell_type": "code",
   "execution_count": 320,
   "metadata": {},
   "outputs": [],
   "source": [
    "idx = df[df['행동유형가해자']=='좌우회전중'].index\n",
    "for i in idx:\n",
    "    df.iloc[:,10][i]=df.iloc[:,10][i].replace('좌우회전중','좌우회전 중')"
   ]
  },
  {
   "cell_type": "code",
   "execution_count": 321,
   "metadata": {},
   "outputs": [],
   "source": [
    "idx = df[df['행동유형가해자']=='주ㆍ정차중 '].index\n",
    "for i in idx:\n",
    "    df.iloc[:,10][i]=df.iloc[:,10][i].replace('주ㆍ정차중 ','주ㆍ정차 중')"
   ]
  },
  {
   "cell_type": "markdown",
   "metadata": {},
   "source": [
    "---"
   ]
  },
  {
   "cell_type": "code",
   "execution_count": 322,
   "metadata": {},
   "outputs": [
    {
     "data": {
      "text/plain": [
       "array(['상해없음', '중상', '기타불명', '부상신고', '경상', '사망'], dtype=object)"
      ]
     },
     "execution_count": 322,
     "metadata": {},
     "output_type": "execute_result"
    }
   ],
   "source": [
    "df['신체상해정도가해자'].unique()"
   ]
  },
  {
   "cell_type": "code",
   "execution_count": 323,
   "metadata": {},
   "outputs": [
    {
     "data": {
      "text/plain": [
       "array(['하퇴부', '머리', '기타', '발', '허리', '목', '얼굴', '팔', '손', '대퇴부', '가슴',\n",
       "       '배', '어깨', '등', '뒷목', '불명', '앞목', '상해없음'], dtype=object)"
      ]
     },
     "execution_count": 323,
     "metadata": {},
     "output_type": "execute_result"
    }
   ],
   "source": [
    "df['피해자신체상해주부위'].unique()"
   ]
  },
  {
   "cell_type": "code",
   "execution_count": 324,
   "metadata": {},
   "outputs": [],
   "source": [
    "idx = df[df['피해자신체상해주부위']=='불명'].index\n",
    "df = df.drop(idx)"
   ]
  },
  {
   "cell_type": "code",
   "execution_count": 326,
   "metadata": {},
   "outputs": [
    {
     "data": {
      "text/plain": [
       "array(['기타단일로', '교차로내', '횡단보도부근', '교차로부근', '횡단보도상', '기타/불명', '교량위',\n",
       "       '교차로횡단보도내', '기타', '주차장', '불명', '터널안', '지하차도(도로)내', '고가도로위'],\n",
       "      dtype=object)"
      ]
     },
     "execution_count": 326,
     "metadata": {},
     "output_type": "execute_result"
    }
   ],
   "source": [
    "df['도로형태'].unique()"
   ]
  },
  {
   "cell_type": "code",
   "execution_count": 330,
   "metadata": {},
   "outputs": [],
   "source": [
    "idx = df[df['도로형태']=='기타'].index\n",
    "for i in idx:\n",
    "    df.iloc[:,18][i]=df.iloc[:,18][i].replace('기타','기타/불명')"
   ]
  },
  {
   "cell_type": "code",
   "execution_count": 335,
   "metadata": {},
   "outputs": [
    {
     "data": {
      "text/plain": [
       "array(['평지', '오르막', '내리막', '기타/서비스구역', '평지  '], dtype=object)"
      ]
     },
     "execution_count": 335,
     "metadata": {},
     "output_type": "execute_result"
    }
   ],
   "source": [
    "df['도로선형'].unique()"
   ]
  },
  {
   "cell_type": "code",
   "execution_count": 336,
   "metadata": {},
   "outputs": [],
   "source": [
    "idx = df[df['도로선형']=='평지  '].index\n",
    "for i in idx:\n",
    "    df.iloc[:,22][i]=df.iloc[:,22][i].replace('평지  ','평지')"
   ]
  },
  {
   "cell_type": "code",
   "execution_count": 233,
   "metadata": {},
   "outputs": [
    {
     "data": {
      "text/plain": [
       "array(['맑음', '흐림', '비', '눈', '기타/불명', '안개'], dtype=object)"
      ]
     },
     "execution_count": 233,
     "metadata": {},
     "output_type": "execute_result"
    }
   ],
   "source": [
    "df['기상상태'].unique()"
   ]
  },
  {
   "cell_type": "code",
   "execution_count": 339,
   "metadata": {},
   "outputs": [],
   "source": [
    "idx = df[df['기상상태']=='기타/불명'].index\n",
    "df = df.drop(idx)"
   ]
  },
  {
   "cell_type": "code",
   "execution_count": 341,
   "metadata": {},
   "outputs": [
    {
     "data": {
      "text/plain": [
       "array(['교차로아님', '교차로 - 사지', '교차로 - 삼지', '교차로 - 오지이상', '기타불명', '교차로 - 회전'],\n",
       "      dtype=object)"
      ]
     },
     "execution_count": 341,
     "metadata": {},
     "output_type": "execute_result"
    }
   ],
   "source": [
    "df['교차로형태'].unique()"
   ]
  },
  {
   "cell_type": "markdown",
   "metadata": {},
   "source": [
    "---"
   ]
  },
  {
   "cell_type": "code",
   "execution_count": 342,
   "metadata": {},
   "outputs": [],
   "source": [
    "df.to_csv('1차전처리_데이터셋.csv',encoding='cp949')"
   ]
  },
  {
   "cell_type": "markdown",
   "metadata": {},
   "source": [
    "---"
   ]
  },
  {
   "cell_type": "markdown",
   "metadata": {},
   "source": [
    "### [자전거도로_여부] 는 결측치가 많아 삭제"
   ]
  },
  {
   "cell_type": "code",
   "execution_count": 346,
   "metadata": {},
   "outputs": [],
   "source": [
    "df=df.drop(['자전거도로_여부'],axis=1)   "
   ]
  },
  {
   "cell_type": "code",
   "execution_count": 347,
   "metadata": {},
   "outputs": [
    {
     "data": {
      "text/html": [
       "<div>\n",
       "<style scoped>\n",
       "    .dataframe tbody tr th:only-of-type {\n",
       "        vertical-align: middle;\n",
       "    }\n",
       "\n",
       "    .dataframe tbody tr th {\n",
       "        vertical-align: top;\n",
       "    }\n",
       "\n",
       "    .dataframe thead th {\n",
       "        text-align: right;\n",
       "    }\n",
       "</style>\n",
       "<table border=\"1\" class=\"dataframe\">\n",
       "  <thead>\n",
       "    <tr style=\"text-align: right;\">\n",
       "      <th></th>\n",
       "      <th>요일</th>\n",
       "      <th>주야</th>\n",
       "      <th>사고내용</th>\n",
       "      <th>사고유형</th>\n",
       "      <th>가해자성별</th>\n",
       "      <th>피해자성별</th>\n",
       "      <th>연령가해자</th>\n",
       "      <th>연령피해자</th>\n",
       "      <th>가해자음주</th>\n",
       "      <th>법규위반가해자</th>\n",
       "      <th>...</th>\n",
       "      <th>차량용도가해자</th>\n",
       "      <th>도로종류</th>\n",
       "      <th>도로형태</th>\n",
       "      <th>노인보호구역_여부</th>\n",
       "      <th>어린이보호구역_여부</th>\n",
       "      <th>도로선형</th>\n",
       "      <th>기상상태</th>\n",
       "      <th>노면상태</th>\n",
       "      <th>교차로형태</th>\n",
       "      <th>사고심각도</th>\n",
       "    </tr>\n",
       "  </thead>\n",
       "  <tbody>\n",
       "    <tr>\n",
       "      <th>0</th>\n",
       "      <td>화</td>\n",
       "      <td>주</td>\n",
       "      <td>경상</td>\n",
       "      <td>보도통행중</td>\n",
       "      <td>여</td>\n",
       "      <td>여</td>\n",
       "      <td>18</td>\n",
       "      <td>68</td>\n",
       "      <td>기타불명</td>\n",
       "      <td>안전운전 의무 불이행</td>\n",
       "      <td>...</td>\n",
       "      <td>자전거</td>\n",
       "      <td>기타</td>\n",
       "      <td>기타단일로</td>\n",
       "      <td>아니오</td>\n",
       "      <td>아니오</td>\n",
       "      <td>평지</td>\n",
       "      <td>맑음</td>\n",
       "      <td>서리/결빙</td>\n",
       "      <td>교차로아님</td>\n",
       "      <td>2</td>\n",
       "    </tr>\n",
       "    <tr>\n",
       "      <th>1</th>\n",
       "      <td>토</td>\n",
       "      <td>주</td>\n",
       "      <td>중상</td>\n",
       "      <td>횡단중</td>\n",
       "      <td>남</td>\n",
       "      <td>여</td>\n",
       "      <td>80</td>\n",
       "      <td>75</td>\n",
       "      <td>기타불명</td>\n",
       "      <td>안전운전 의무 불이행</td>\n",
       "      <td>...</td>\n",
       "      <td>승용차</td>\n",
       "      <td>시도</td>\n",
       "      <td>기타단일로</td>\n",
       "      <td>아니오</td>\n",
       "      <td>아니오</td>\n",
       "      <td>평지</td>\n",
       "      <td>맑음</td>\n",
       "      <td>건조</td>\n",
       "      <td>교차로아님</td>\n",
       "      <td>32</td>\n",
       "    </tr>\n",
       "    <tr>\n",
       "      <th>2</th>\n",
       "      <td>목</td>\n",
       "      <td>야</td>\n",
       "      <td>경상</td>\n",
       "      <td>길가장자리구역통행중</td>\n",
       "      <td>남</td>\n",
       "      <td>남</td>\n",
       "      <td>18</td>\n",
       "      <td>68</td>\n",
       "      <td>기타불명</td>\n",
       "      <td>안전운전 의무 불이행</td>\n",
       "      <td>...</td>\n",
       "      <td>승용차</td>\n",
       "      <td>시도</td>\n",
       "      <td>기타단일로</td>\n",
       "      <td>아니오</td>\n",
       "      <td>아니오</td>\n",
       "      <td>평지</td>\n",
       "      <td>맑음</td>\n",
       "      <td>건조</td>\n",
       "      <td>교차로아님</td>\n",
       "      <td>2</td>\n",
       "    </tr>\n",
       "    <tr>\n",
       "      <th>3</th>\n",
       "      <td>목</td>\n",
       "      <td>주</td>\n",
       "      <td>중상</td>\n",
       "      <td>길가장자리구역통행중</td>\n",
       "      <td>남</td>\n",
       "      <td>여</td>\n",
       "      <td>22</td>\n",
       "      <td>89</td>\n",
       "      <td>기타불명</td>\n",
       "      <td>안전운전 의무 불이행</td>\n",
       "      <td>...</td>\n",
       "      <td>화물차</td>\n",
       "      <td>기타</td>\n",
       "      <td>기타단일로</td>\n",
       "      <td>아니오</td>\n",
       "      <td>아니오</td>\n",
       "      <td>평지</td>\n",
       "      <td>맑음</td>\n",
       "      <td>건조</td>\n",
       "      <td>교차로아님</td>\n",
       "      <td>32</td>\n",
       "    </tr>\n",
       "    <tr>\n",
       "      <th>4</th>\n",
       "      <td>목</td>\n",
       "      <td>주</td>\n",
       "      <td>중상</td>\n",
       "      <td>횡단중</td>\n",
       "      <td>여</td>\n",
       "      <td>여</td>\n",
       "      <td>45</td>\n",
       "      <td>85</td>\n",
       "      <td>기타불명</td>\n",
       "      <td>안전운전 의무 불이행</td>\n",
       "      <td>...</td>\n",
       "      <td>승용차</td>\n",
       "      <td>기타</td>\n",
       "      <td>기타단일로</td>\n",
       "      <td>아니오</td>\n",
       "      <td>아니오</td>\n",
       "      <td>평지</td>\n",
       "      <td>맑음</td>\n",
       "      <td>건조</td>\n",
       "      <td>교차로아님</td>\n",
       "      <td>32</td>\n",
       "    </tr>\n",
       "    <tr>\n",
       "      <th>...</th>\n",
       "      <td>...</td>\n",
       "      <td>...</td>\n",
       "      <td>...</td>\n",
       "      <td>...</td>\n",
       "      <td>...</td>\n",
       "      <td>...</td>\n",
       "      <td>...</td>\n",
       "      <td>...</td>\n",
       "      <td>...</td>\n",
       "      <td>...</td>\n",
       "      <td>...</td>\n",
       "      <td>...</td>\n",
       "      <td>...</td>\n",
       "      <td>...</td>\n",
       "      <td>...</td>\n",
       "      <td>...</td>\n",
       "      <td>...</td>\n",
       "      <td>...</td>\n",
       "      <td>...</td>\n",
       "      <td>...</td>\n",
       "      <td>...</td>\n",
       "    </tr>\n",
       "    <tr>\n",
       "      <th>58054</th>\n",
       "      <td>월</td>\n",
       "      <td>주</td>\n",
       "      <td>경상</td>\n",
       "      <td>길가장자리구역통행중</td>\n",
       "      <td>여</td>\n",
       "      <td>여</td>\n",
       "      <td>53</td>\n",
       "      <td>65</td>\n",
       "      <td>기타불명</td>\n",
       "      <td>안전운전 의무 불이행</td>\n",
       "      <td>...</td>\n",
       "      <td>승용차</td>\n",
       "      <td>시도</td>\n",
       "      <td>지하차도(도로)내</td>\n",
       "      <td>아니오</td>\n",
       "      <td>아니오</td>\n",
       "      <td>평지</td>\n",
       "      <td>맑음</td>\n",
       "      <td>건조</td>\n",
       "      <td>교차로아님</td>\n",
       "      <td>2</td>\n",
       "    </tr>\n",
       "    <tr>\n",
       "      <th>58055</th>\n",
       "      <td>금</td>\n",
       "      <td>주</td>\n",
       "      <td>경상</td>\n",
       "      <td>보도통행중</td>\n",
       "      <td>여</td>\n",
       "      <td>남</td>\n",
       "      <td>28</td>\n",
       "      <td>71</td>\n",
       "      <td>해당 없음</td>\n",
       "      <td>기타</td>\n",
       "      <td>...</td>\n",
       "      <td>승용차</td>\n",
       "      <td>군도</td>\n",
       "      <td>교차로부근</td>\n",
       "      <td>아니오</td>\n",
       "      <td>아니오</td>\n",
       "      <td>평지</td>\n",
       "      <td>맑음</td>\n",
       "      <td>건조</td>\n",
       "      <td>교차로 - 삼지</td>\n",
       "      <td>2</td>\n",
       "    </tr>\n",
       "    <tr>\n",
       "      <th>58056</th>\n",
       "      <td>금</td>\n",
       "      <td>주</td>\n",
       "      <td>중상</td>\n",
       "      <td>차도통행중</td>\n",
       "      <td>여</td>\n",
       "      <td>남</td>\n",
       "      <td>32</td>\n",
       "      <td>76</td>\n",
       "      <td>해당 없음</td>\n",
       "      <td>안전운전 의무 불이행</td>\n",
       "      <td>...</td>\n",
       "      <td>승용차</td>\n",
       "      <td>군도</td>\n",
       "      <td>지하차도(도로)내</td>\n",
       "      <td>아니오</td>\n",
       "      <td>아니오</td>\n",
       "      <td>평지</td>\n",
       "      <td>맑음</td>\n",
       "      <td>건조</td>\n",
       "      <td>교차로아님</td>\n",
       "      <td>32</td>\n",
       "    </tr>\n",
       "    <tr>\n",
       "      <th>58057</th>\n",
       "      <td>토</td>\n",
       "      <td>주</td>\n",
       "      <td>중상</td>\n",
       "      <td>기타</td>\n",
       "      <td>남</td>\n",
       "      <td>여</td>\n",
       "      <td>75</td>\n",
       "      <td>77</td>\n",
       "      <td>해당 없음</td>\n",
       "      <td>안전운전 의무 불이행</td>\n",
       "      <td>...</td>\n",
       "      <td>승용차</td>\n",
       "      <td>시도</td>\n",
       "      <td>기타단일로</td>\n",
       "      <td>아니오</td>\n",
       "      <td>아니오</td>\n",
       "      <td>평지</td>\n",
       "      <td>맑음</td>\n",
       "      <td>건조</td>\n",
       "      <td>교차로아님</td>\n",
       "      <td>32</td>\n",
       "    </tr>\n",
       "    <tr>\n",
       "      <th>58058</th>\n",
       "      <td>목</td>\n",
       "      <td>야</td>\n",
       "      <td>중상</td>\n",
       "      <td>횡단중</td>\n",
       "      <td>남</td>\n",
       "      <td>남</td>\n",
       "      <td>34</td>\n",
       "      <td>77</td>\n",
       "      <td>해당 없음</td>\n",
       "      <td>안전운전 의무 불이행</td>\n",
       "      <td>...</td>\n",
       "      <td>승용차</td>\n",
       "      <td>기타</td>\n",
       "      <td>교차로내</td>\n",
       "      <td>아니오</td>\n",
       "      <td>아니오</td>\n",
       "      <td>평지</td>\n",
       "      <td>맑음</td>\n",
       "      <td>건조</td>\n",
       "      <td>교차로 - 삼지</td>\n",
       "      <td>32</td>\n",
       "    </tr>\n",
       "  </tbody>\n",
       "</table>\n",
       "<p>57570 rows × 26 columns</p>\n",
       "</div>"
      ],
      "text/plain": [
       "      요일 주야 사고내용        사고유형 가해자성별 피해자성별  연령가해자  연령피해자  가해자음주      법규위반가해자  \\\n",
       "0      화  주   경상       보도통행중     여     여     18     68   기타불명  안전운전 의무 불이행   \n",
       "1      토  주   중상         횡단중     남     여     80     75   기타불명  안전운전 의무 불이행   \n",
       "2      목  야   경상  길가장자리구역통행중     남     남     18     68   기타불명  안전운전 의무 불이행   \n",
       "3      목  주   중상  길가장자리구역통행중     남     여     22     89   기타불명  안전운전 의무 불이행   \n",
       "4      목  주   중상         횡단중     여     여     45     85   기타불명  안전운전 의무 불이행   \n",
       "...   .. ..  ...         ...   ...   ...    ...    ...    ...          ...   \n",
       "58054  월  주   경상  길가장자리구역통행중     여     여     53     65   기타불명  안전운전 의무 불이행   \n",
       "58055  금  주   경상       보도통행중     여     남     28     71  해당 없음           기타   \n",
       "58056  금  주   중상       차도통행중     여     남     32     76  해당 없음  안전운전 의무 불이행   \n",
       "58057  토  주   중상          기타     남     여     75     77  해당 없음  안전운전 의무 불이행   \n",
       "58058  목  야   중상         횡단중     남     남     34     77  해당 없음  안전운전 의무 불이행   \n",
       "\n",
       "       ... 차량용도가해자 도로종류       도로형태 노인보호구역_여부 어린이보호구역_여부 도로선형 기상상태   노면상태  \\\n",
       "0      ...     자전거   기타      기타단일로       아니오        아니오   평지   맑음  서리/결빙   \n",
       "1      ...     승용차   시도      기타단일로       아니오        아니오   평지   맑음     건조   \n",
       "2      ...     승용차   시도      기타단일로       아니오        아니오   평지   맑음     건조   \n",
       "3      ...     화물차   기타      기타단일로       아니오        아니오   평지   맑음     건조   \n",
       "4      ...     승용차   기타      기타단일로       아니오        아니오   평지   맑음     건조   \n",
       "...    ...     ...  ...        ...       ...        ...  ...  ...    ...   \n",
       "58054  ...     승용차   시도  지하차도(도로)내       아니오        아니오   평지   맑음     건조   \n",
       "58055  ...     승용차   군도      교차로부근       아니오        아니오   평지   맑음     건조   \n",
       "58056  ...     승용차   군도  지하차도(도로)내       아니오        아니오   평지   맑음     건조   \n",
       "58057  ...     승용차   시도      기타단일로       아니오        아니오   평지   맑음     건조   \n",
       "58058  ...     승용차   기타       교차로내       아니오        아니오   평지   맑음     건조   \n",
       "\n",
       "          교차로형태 사고심각도  \n",
       "0         교차로아님     2  \n",
       "1         교차로아님    32  \n",
       "2         교차로아님     2  \n",
       "3         교차로아님    32  \n",
       "4         교차로아님    32  \n",
       "...         ...   ...  \n",
       "58054     교차로아님     2  \n",
       "58055  교차로 - 삼지     2  \n",
       "58056     교차로아님    32  \n",
       "58057     교차로아님    32  \n",
       "58058  교차로 - 삼지    32  \n",
       "\n",
       "[57570 rows x 26 columns]"
      ]
     },
     "execution_count": 347,
     "metadata": {},
     "output_type": "execute_result"
    }
   ],
   "source": [
    "df"
   ]
  },
  {
   "cell_type": "markdown",
   "metadata": {},
   "source": [
    "---"
   ]
  },
  {
   "cell_type": "markdown",
   "metadata": {},
   "source": [
    "---"
   ]
  }
 ],
 "metadata": {
  "kernelspec": {
   "display_name": "Python 3",
   "language": "python",
   "name": "python3"
  },
  "language_info": {
   "codemirror_mode": {
    "name": "ipython",
    "version": 3
   },
   "file_extension": ".py",
   "mimetype": "text/x-python",
   "name": "python",
   "nbconvert_exporter": "python",
   "pygments_lexer": "ipython3",
   "version": "3.8.3"
  }
 },
 "nbformat": 4,
 "nbformat_minor": 4
}
