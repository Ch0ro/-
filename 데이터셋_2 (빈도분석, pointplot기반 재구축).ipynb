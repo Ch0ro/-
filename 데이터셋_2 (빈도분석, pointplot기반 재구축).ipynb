{
 "cells": [
  {
   "cell_type": "code",
   "execution_count": 2,
   "metadata": {},
   "outputs": [],
   "source": [
    "import pandas as pd"
   ]
  },
  {
   "cell_type": "code",
   "execution_count": 4,
   "metadata": {},
   "outputs": [],
   "source": [
    "df = pd.read_csv('./csv파일/데이터셋_1.csv',encoding='cp949')"
   ]
  },
  {
   "cell_type": "markdown",
   "metadata": {},
   "source": [
    "# 빈도분석 결과를 토대로 필요없는 컬럼 삭제 진행"
   ]
  },
  {
   "cell_type": "code",
   "execution_count": 7,
   "metadata": {},
   "outputs": [],
   "source": [
    "df = df.drop(['요일','사고내용','가해자성별','피해자성별','연령피해자','가해자음주','신체상해정도가해자','가해자신체상해주부위','노인보호구역_여부','어린이보호구역_여부','자전거도로_여부','기상상태','노면상태','교차로형태','사망자수','중상자수','경상자수','부상신고자수','가해자차량용도'],axis=1)"
   ]
  },
  {
   "cell_type": "code",
   "execution_count": 8,
   "metadata": {},
   "outputs": [
    {
     "name": "stdout",
     "output_type": "stream",
     "text": [
      "<class 'pandas.core.frame.DataFrame'>\n",
      "RangeIndex: 58059 entries, 0 to 58058\n",
      "Data columns (total 14 columns):\n",
      " #   Column       Non-Null Count  Dtype \n",
      "---  ------       --------------  ----- \n",
      " 0   사고유형         58059 non-null  object\n",
      " 1   연령가해자        58059 non-null  int64 \n",
      " 2   법규위반가해자      58059 non-null  object\n",
      " 3   행동유형가해자      58059 non-null  object\n",
      " 4   신체상해정도피해자    58059 non-null  object\n",
      " 5   피해자신체상해주부위   58059 non-null  object\n",
      " 6   차량용도가해자_중분류  58059 non-null  object\n",
      " 7   도로종류         58059 non-null  object\n",
      " 8   도로형태         58059 non-null  object\n",
      " 9   도로선형         58059 non-null  object\n",
      " 10  발생시각         58059 non-null  int64 \n",
      " 11  EPDO1        58059 non-null  int64 \n",
      " 12  EPDO2        58059 non-null  int64 \n",
      " 13  심각도          58059 non-null  int64 \n",
      "dtypes: int64(5), object(9)\n",
      "memory usage: 6.2+ MB\n"
     ]
    }
   ],
   "source": [
    "df.info()"
   ]
  },
  {
   "cell_type": "markdown",
   "metadata": {},
   "source": [
    "# 빈도분석과 PointPlot 결과를 토대로 <연령가해자> 카테고리화"
   ]
  },
  {
   "cell_type": "code",
   "execution_count": 11,
   "metadata": {},
   "outputs": [],
   "source": [
    "for i in range(len(df)):\n",
    "    if df.iloc[i,1]==0:\n",
    "        df.iloc[i,1]='기타/불명'\n",
    "    elif 1<=df.iloc[i,1]<=20:\n",
    "        df.iloc[i,1]='20세이하'\n",
    "    elif 21<=df.iloc[i,1]<=30:\n",
    "        df.iloc[i,1]='21-30세'\n",
    "    elif 31<=df.iloc[i,1]<=40:\n",
    "        df.iloc[i,1]='31-40세'\n",
    "    elif 41<=df.iloc[i,1]<=50:\n",
    "        df.iloc[i,1]='41-50세'\n",
    "    elif 51<=df.iloc[i,1]<=60:\n",
    "        df.iloc[i,1]='51-60세'\n",
    "    elif 61<=df.iloc[i,1]<=64:\n",
    "        df.iloc[i,1]='61-64세'\n",
    "    elif 65<=df.iloc[i,1]:\n",
    "        df.iloc[i,1]='65세이상'"
   ]
  },
  {
   "cell_type": "markdown",
   "metadata": {},
   "source": [
    "## 발생시각도 묶어서 카테고리화\n",
    "### 사고 심각도에 가장 큰 영향을 끼치는 시간대인 02-04시를 기준으로 3시간 씩 묶어서 카테고리화"
   ]
  },
  {
   "cell_type": "code",
   "execution_count": 16,
   "metadata": {},
   "outputs": [],
   "source": [
    "for i in range(len(df)):\n",
    "    if 2<=df.iloc[i,10]<=4:\n",
    "        df.iloc[i,10]='02-04시'\n",
    "    elif 5<=df.iloc[i,10]<=7:\n",
    "        df.iloc[i,10]='05-07시'\n",
    "    elif 8<=df.iloc[i,10]<=10:\n",
    "        df.iloc[i,10]='08-10시'\n",
    "    elif 11<=df.iloc[i,10]<=13:\n",
    "        df.iloc[i,10]='11-13시'\n",
    "    elif 14<=df.iloc[i,10]<=16:\n",
    "        df.iloc[i,10]='14-16시'\n",
    "    elif 17<=df.iloc[i,10]<=19:\n",
    "        df.iloc[i,10]='17-19시'\n",
    "    elif 20<=df.iloc[i,10]<=22:\n",
    "        df.iloc[i,10]='20-22시'\n",
    "    elif 23<=df.iloc[i,10]<=24:\n",
    "        df.iloc[i,10]='23-01시'\n",
    "    elif df.iloc[i,10]==1:\n",
    "        df.iloc[i,10]='23-01시'     "
   ]
  },
  {
   "cell_type": "code",
   "execution_count": 18,
   "metadata": {},
   "outputs": [
    {
     "data": {
      "text/html": [
       "<div>\n",
       "<style scoped>\n",
       "    .dataframe tbody tr th:only-of-type {\n",
       "        vertical-align: middle;\n",
       "    }\n",
       "\n",
       "    .dataframe tbody tr th {\n",
       "        vertical-align: top;\n",
       "    }\n",
       "\n",
       "    .dataframe thead th {\n",
       "        text-align: right;\n",
       "    }\n",
       "</style>\n",
       "<table border=\"1\" class=\"dataframe\">\n",
       "  <thead>\n",
       "    <tr style=\"text-align: right;\">\n",
       "      <th></th>\n",
       "      <th>사고유형</th>\n",
       "      <th>연령가해자</th>\n",
       "      <th>법규위반가해자</th>\n",
       "      <th>행동유형가해자</th>\n",
       "      <th>신체상해정도피해자</th>\n",
       "      <th>피해자신체상해주부위</th>\n",
       "      <th>차량용도가해자_중분류</th>\n",
       "      <th>도로종류</th>\n",
       "      <th>도로형태</th>\n",
       "      <th>도로선형</th>\n",
       "      <th>발생시각</th>\n",
       "      <th>EPDO1</th>\n",
       "      <th>EPDO2</th>\n",
       "      <th>심각도</th>\n",
       "    </tr>\n",
       "  </thead>\n",
       "  <tbody>\n",
       "    <tr>\n",
       "      <th>0</th>\n",
       "      <td>보도통행중</td>\n",
       "      <td>20세이하</td>\n",
       "      <td>안전운전 의무 불이행</td>\n",
       "      <td>직진중</td>\n",
       "      <td>경상</td>\n",
       "      <td>하퇴부</td>\n",
       "      <td>자전거</td>\n",
       "      <td>기타</td>\n",
       "      <td>단일로</td>\n",
       "      <td>평지</td>\n",
       "      <td>14-16시</td>\n",
       "      <td>2</td>\n",
       "      <td>3</td>\n",
       "      <td>0</td>\n",
       "    </tr>\n",
       "    <tr>\n",
       "      <th>1</th>\n",
       "      <td>횡단중</td>\n",
       "      <td>65세이상</td>\n",
       "      <td>안전운전 의무 불이행</td>\n",
       "      <td>직진중</td>\n",
       "      <td>중상</td>\n",
       "      <td>머리</td>\n",
       "      <td>승용차</td>\n",
       "      <td>시도</td>\n",
       "      <td>단일로</td>\n",
       "      <td>평지</td>\n",
       "      <td>08-10시</td>\n",
       "      <td>32</td>\n",
       "      <td>6</td>\n",
       "      <td>1</td>\n",
       "    </tr>\n",
       "    <tr>\n",
       "      <th>2</th>\n",
       "      <td>길가장자리구역통행중</td>\n",
       "      <td>20세이하</td>\n",
       "      <td>안전운전 의무 불이행</td>\n",
       "      <td>직진중</td>\n",
       "      <td>경상</td>\n",
       "      <td>기타</td>\n",
       "      <td>승용차</td>\n",
       "      <td>시도</td>\n",
       "      <td>단일로</td>\n",
       "      <td>평지</td>\n",
       "      <td>17-19시</td>\n",
       "      <td>2</td>\n",
       "      <td>3</td>\n",
       "      <td>0</td>\n",
       "    </tr>\n",
       "    <tr>\n",
       "      <th>3</th>\n",
       "      <td>길가장자리구역통행중</td>\n",
       "      <td>21-30세</td>\n",
       "      <td>안전운전 의무 불이행</td>\n",
       "      <td>후진중</td>\n",
       "      <td>중상</td>\n",
       "      <td>기타</td>\n",
       "      <td>화물차</td>\n",
       "      <td>기타</td>\n",
       "      <td>단일로</td>\n",
       "      <td>평지</td>\n",
       "      <td>11-13시</td>\n",
       "      <td>32</td>\n",
       "      <td>6</td>\n",
       "      <td>1</td>\n",
       "    </tr>\n",
       "    <tr>\n",
       "      <th>4</th>\n",
       "      <td>횡단중</td>\n",
       "      <td>41-50세</td>\n",
       "      <td>안전운전 의무 불이행</td>\n",
       "      <td>직진중</td>\n",
       "      <td>중상</td>\n",
       "      <td>머리</td>\n",
       "      <td>승용차</td>\n",
       "      <td>기타</td>\n",
       "      <td>단일로</td>\n",
       "      <td>평지</td>\n",
       "      <td>11-13시</td>\n",
       "      <td>32</td>\n",
       "      <td>6</td>\n",
       "      <td>1</td>\n",
       "    </tr>\n",
       "    <tr>\n",
       "      <th>...</th>\n",
       "      <td>...</td>\n",
       "      <td>...</td>\n",
       "      <td>...</td>\n",
       "      <td>...</td>\n",
       "      <td>...</td>\n",
       "      <td>...</td>\n",
       "      <td>...</td>\n",
       "      <td>...</td>\n",
       "      <td>...</td>\n",
       "      <td>...</td>\n",
       "      <td>...</td>\n",
       "      <td>...</td>\n",
       "      <td>...</td>\n",
       "      <td>...</td>\n",
       "    </tr>\n",
       "    <tr>\n",
       "      <th>58054</th>\n",
       "      <td>길가장자리구역통행중</td>\n",
       "      <td>51-60세</td>\n",
       "      <td>안전운전 의무 불이행</td>\n",
       "      <td>직진중</td>\n",
       "      <td>경상</td>\n",
       "      <td>팔</td>\n",
       "      <td>승용차</td>\n",
       "      <td>시도</td>\n",
       "      <td>단일로</td>\n",
       "      <td>평지</td>\n",
       "      <td>14-16시</td>\n",
       "      <td>2</td>\n",
       "      <td>3</td>\n",
       "      <td>0</td>\n",
       "    </tr>\n",
       "    <tr>\n",
       "      <th>58055</th>\n",
       "      <td>보도통행중</td>\n",
       "      <td>21-30세</td>\n",
       "      <td>기타</td>\n",
       "      <td>후진중</td>\n",
       "      <td>경상</td>\n",
       "      <td>팔</td>\n",
       "      <td>승용차</td>\n",
       "      <td>군도</td>\n",
       "      <td>교차로</td>\n",
       "      <td>평지</td>\n",
       "      <td>17-19시</td>\n",
       "      <td>2</td>\n",
       "      <td>3</td>\n",
       "      <td>0</td>\n",
       "    </tr>\n",
       "    <tr>\n",
       "      <th>58056</th>\n",
       "      <td>차도통행중</td>\n",
       "      <td>31-40세</td>\n",
       "      <td>안전운전 의무 불이행</td>\n",
       "      <td>직진중</td>\n",
       "      <td>중상</td>\n",
       "      <td>발</td>\n",
       "      <td>승용차</td>\n",
       "      <td>군도</td>\n",
       "      <td>단일로</td>\n",
       "      <td>평지</td>\n",
       "      <td>08-10시</td>\n",
       "      <td>32</td>\n",
       "      <td>6</td>\n",
       "      <td>1</td>\n",
       "    </tr>\n",
       "    <tr>\n",
       "      <th>58057</th>\n",
       "      <td>기타</td>\n",
       "      <td>65세이상</td>\n",
       "      <td>안전운전 의무 불이행</td>\n",
       "      <td>직진중</td>\n",
       "      <td>중상</td>\n",
       "      <td>하퇴부</td>\n",
       "      <td>승용차</td>\n",
       "      <td>시도</td>\n",
       "      <td>단일로</td>\n",
       "      <td>평지</td>\n",
       "      <td>08-10시</td>\n",
       "      <td>32</td>\n",
       "      <td>6</td>\n",
       "      <td>1</td>\n",
       "    </tr>\n",
       "    <tr>\n",
       "      <th>58058</th>\n",
       "      <td>횡단중</td>\n",
       "      <td>31-40세</td>\n",
       "      <td>안전운전 의무 불이행</td>\n",
       "      <td>좌우회전중</td>\n",
       "      <td>중상</td>\n",
       "      <td>발</td>\n",
       "      <td>승용차</td>\n",
       "      <td>기타</td>\n",
       "      <td>교차로</td>\n",
       "      <td>평지</td>\n",
       "      <td>17-19시</td>\n",
       "      <td>32</td>\n",
       "      <td>6</td>\n",
       "      <td>1</td>\n",
       "    </tr>\n",
       "  </tbody>\n",
       "</table>\n",
       "<p>58059 rows × 14 columns</p>\n",
       "</div>"
      ],
      "text/plain": [
       "             사고유형   연령가해자      법규위반가해자 행동유형가해자 신체상해정도피해자 피해자신체상해주부위  \\\n",
       "0           보도통행중   20세이하  안전운전 의무 불이행     직진중        경상        하퇴부   \n",
       "1             횡단중   65세이상  안전운전 의무 불이행     직진중        중상         머리   \n",
       "2      길가장자리구역통행중   20세이하  안전운전 의무 불이행     직진중        경상         기타   \n",
       "3      길가장자리구역통행중  21-30세  안전운전 의무 불이행     후진중        중상         기타   \n",
       "4             횡단중  41-50세  안전운전 의무 불이행     직진중        중상         머리   \n",
       "...           ...     ...          ...     ...       ...        ...   \n",
       "58054  길가장자리구역통행중  51-60세  안전운전 의무 불이행     직진중        경상          팔   \n",
       "58055       보도통행중  21-30세           기타     후진중        경상          팔   \n",
       "58056       차도통행중  31-40세  안전운전 의무 불이행     직진중        중상          발   \n",
       "58057          기타   65세이상  안전운전 의무 불이행     직진중        중상        하퇴부   \n",
       "58058         횡단중  31-40세  안전운전 의무 불이행   좌우회전중        중상          발   \n",
       "\n",
       "      차량용도가해자_중분류 도로종류 도로형태 도로선형    발생시각  EPDO1  EPDO2  심각도  \n",
       "0             자전거   기타  단일로   평지  14-16시      2      3    0  \n",
       "1             승용차   시도  단일로   평지  08-10시     32      6    1  \n",
       "2             승용차   시도  단일로   평지  17-19시      2      3    0  \n",
       "3             화물차   기타  단일로   평지  11-13시     32      6    1  \n",
       "4             승용차   기타  단일로   평지  11-13시     32      6    1  \n",
       "...           ...  ...  ...  ...     ...    ...    ...  ...  \n",
       "58054         승용차   시도  단일로   평지  14-16시      2      3    0  \n",
       "58055         승용차   군도  교차로   평지  17-19시      2      3    0  \n",
       "58056         승용차   군도  단일로   평지  08-10시     32      6    1  \n",
       "58057         승용차   시도  단일로   평지  08-10시     32      6    1  \n",
       "58058         승용차   기타  교차로   평지  17-19시     32      6    1  \n",
       "\n",
       "[58059 rows x 14 columns]"
      ]
     },
     "execution_count": 18,
     "metadata": {},
     "output_type": "execute_result"
    }
   ],
   "source": [
    "df"
   ]
  },
  {
   "cell_type": "markdown",
   "metadata": {},
   "source": [
    "---"
   ]
  },
  {
   "cell_type": "markdown",
   "metadata": {},
   "source": [
    "---"
   ]
  },
  {
   "cell_type": "markdown",
   "metadata": {},
   "source": [
    "## ■ 데이터셋_2 완성"
   ]
  },
  {
   "cell_type": "code",
   "execution_count": 19,
   "metadata": {},
   "outputs": [],
   "source": [
    "df.to_csv('./csv파일/데이터셋_2.csv',encoding='cp949')"
   ]
  },
  {
   "cell_type": "markdown",
   "metadata": {},
   "source": [
    "---"
   ]
  },
  {
   "cell_type": "markdown",
   "metadata": {},
   "source": [
    "## ■ 데이터셋_2(EPDO1) 완성"
   ]
  },
  {
   "cell_type": "code",
   "execution_count": 21,
   "metadata": {},
   "outputs": [],
   "source": [
    "df1 = df\n",
    "\n",
    "df1 = df1.drop(['EPDO2','심각도'],axis=1)"
   ]
  },
  {
   "cell_type": "code",
   "execution_count": 22,
   "metadata": {},
   "outputs": [],
   "source": [
    "df1.to_csv('./csv파일/데이터셋_2(EPDO1).csv',encoding='cp949')"
   ]
  },
  {
   "cell_type": "markdown",
   "metadata": {},
   "source": [
    "---"
   ]
  },
  {
   "cell_type": "markdown",
   "metadata": {},
   "source": [
    "## ■ 데이터셋_2(EPDO2) 완성"
   ]
  },
  {
   "cell_type": "code",
   "execution_count": 29,
   "metadata": {},
   "outputs": [],
   "source": [
    "df2 = df\n",
    "\n",
    "df2 = df2.drop(['EPDO1','심각도'],axis=1)"
   ]
  },
  {
   "cell_type": "code",
   "execution_count": 30,
   "metadata": {},
   "outputs": [],
   "source": [
    "df2.to_csv('./csv파일/데이터셋_2(EPDO2).csv',encoding='cp949')"
   ]
  },
  {
   "cell_type": "markdown",
   "metadata": {},
   "source": [
    "---"
   ]
  },
  {
   "cell_type": "markdown",
   "metadata": {},
   "source": [
    "## ■ 데이터셋_2(심각도) 완성"
   ]
  },
  {
   "cell_type": "code",
   "execution_count": 26,
   "metadata": {},
   "outputs": [],
   "source": [
    "df3 = df\n",
    "\n",
    "df3 = df3.drop(['EPDO1','EPDO2'],axis=1)"
   ]
  },
  {
   "cell_type": "code",
   "execution_count": 28,
   "metadata": {},
   "outputs": [],
   "source": [
    "df3.to_csv('./csv파일/데이터셋_2(심각도).csv',encoding='cp949')"
   ]
  },
  {
   "cell_type": "code",
   "execution_count": null,
   "metadata": {},
   "outputs": [],
   "source": []
  }
 ],
 "metadata": {
  "kernelspec": {
   "display_name": "Python 3",
   "language": "python",
   "name": "python3"
  },
  "language_info": {
   "codemirror_mode": {
    "name": "ipython",
    "version": 3
   },
   "file_extension": ".py",
   "mimetype": "text/x-python",
   "name": "python",
   "nbconvert_exporter": "python",
   "pygments_lexer": "ipython3",
   "version": "3.8.3"
  }
 },
 "nbformat": 4,
 "nbformat_minor": 4
}
