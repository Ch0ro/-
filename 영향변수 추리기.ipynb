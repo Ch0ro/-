{
 "cells": [
  {
   "cell_type": "code",
   "execution_count": 130,
   "metadata": {},
   "outputs": [],
   "source": [
    "import pandas as pd\n",
    "import numpy as np\n",
    "import warnings\n",
    "warnings.filterwarnings(\"ignore\")"
   ]
  },
  {
   "cell_type": "code",
   "execution_count": 131,
   "metadata": {},
   "outputs": [],
   "source": [
    "df = pd.read_csv('./2차전처리데이터.csv',encoding='cp949')"
   ]
  },
  {
   "cell_type": "markdown",
   "metadata": {},
   "source": [
    "---"
   ]
  },
  {
   "cell_type": "markdown",
   "metadata": {},
   "source": [
    "# anova 결과에 따른  <요일>, <피해자성별>, <교차로형태>, <노인보호구역_여부>,    <어린이보호구역_여부>컬럼 삭제"
   ]
  },
  {
   "cell_type": "code",
   "execution_count": 132,
   "metadata": {},
   "outputs": [],
   "source": [
    "df = df.drop(['요일','피해자성별','노인보호구역_여부','어린이보호구역_여부'],axis=1)"
   ]
  },
  {
   "cell_type": "markdown",
   "metadata": {},
   "source": [
    "---"
   ]
  },
  {
   "cell_type": "code",
   "execution_count": 133,
   "metadata": {},
   "outputs": [
    {
     "name": "stdout",
     "output_type": "stream",
     "text": [
      "<class 'pandas.core.frame.DataFrame'>\n",
      "RangeIndex: 57570 entries, 0 to 57569\n",
      "Data columns (total 21 columns):\n",
      " #   Column      Non-Null Count  Dtype \n",
      "---  ------      --------------  ----- \n",
      " 0   주야          57570 non-null  object\n",
      " 1   사고내용        57570 non-null  object\n",
      " 2   사고유형        57570 non-null  object\n",
      " 3   가해자성별       57570 non-null  object\n",
      " 4   연령가해자       57570 non-null  object\n",
      " 5   가해자음주       57570 non-null  object\n",
      " 6   법규위반가해자     57570 non-null  object\n",
      " 7   행동유형가해자     57570 non-null  object\n",
      " 8   신체상해정도가해자   57570 non-null  object\n",
      " 9   신체상해정도피해자   57570 non-null  object\n",
      " 10  가해자신체상해주부위  57570 non-null  object\n",
      " 11  피해자신체상해주부위  57570 non-null  object\n",
      " 12  당사자종별가해자    57570 non-null  object\n",
      " 13  차량용도가해자     57570 non-null  object\n",
      " 14  도로종류        57570 non-null  object\n",
      " 15  도로형태        57570 non-null  object\n",
      " 16  도로선형        57570 non-null  object\n",
      " 17  기상상태        57570 non-null  object\n",
      " 18  노면상태        57570 non-null  object\n",
      " 19  교차로형태       57570 non-null  object\n",
      " 20  사고심각도       57570 non-null  int64 \n",
      "dtypes: int64(1), object(20)\n",
      "memory usage: 9.2+ MB\n"
     ]
    }
   ],
   "source": [
    "df.info()"
   ]
  },
  {
   "cell_type": "markdown",
   "metadata": {},
   "source": [
    "# 가변수화 또는 순석척도로 변경하기 전 각 컬럼의 속성의 개수 줄이기"
   ]
  },
  {
   "cell_type": "markdown",
   "metadata": {},
   "source": [
    "## 1. 연령가해자"
   ]
  },
  {
   "cell_type": "markdown",
   "metadata": {},
   "source": [
    "### 20세이하 21-30세   18.852  0.001 14.2807 23.4233   True\n",
    "### 20세이하 31-40세  19.2903  0.001 15.0615 23.5191   True\n",
    "### 20세이하 41-50세  19.8305  0.001 15.7742 23.8869   True\n",
    "### 20세이하 51-60세  20.2524  0.001  16.267 24.2379   True\n",
    "### 20세이하 61-64세  20.8893  0.001 16.2525 25.5261   True\n",
    "### 20세이하  65세이상  20.0477  0.001 15.7783  24.317   True"
   ]
  },
  {
   "cell_type": "markdown",
   "metadata": {},
   "source": [
    "======================================================================\n",
    "###  20세 이하와 나머지 연령 사이에서 큰 차이가 있음\n",
    "###  특히 20세 이하와 61-64세에서 큰 차이를 보이고 있음\n",
    "###  20세이하 - 아동청소년 21-30세 청년 / 31세 - 50세 중년 / 51세 - 64세 장년 / 65세 이상 노인 으로 변경\n",
    "###   \n",
    "### 그러나 20세 이하가 사고 심각도에 미치는 영향은 미비 \n",
    "======================================================================"
   ]
  },
  {
   "cell_type": "code",
   "execution_count": 134,
   "metadata": {},
   "outputs": [],
   "source": [
    "idx = df[df['연령가해자']=='20세이하'].index\n",
    "for i in idx:\n",
    "    df.iloc[:,4][i]=df.iloc[:,4][i].replace('20세이하','아동청소년')\n",
    "    \n",
    "idx = df[df['연령가해자']=='21-30세'].index\n",
    "for i in idx:\n",
    "    df.iloc[:,4][i]=df.iloc[:,4][i].replace('21-30세','청년')\n",
    "    \n",
    "idx = df[df['연령가해자']=='31-40세'].index\n",
    "for i in idx:\n",
    "    df.iloc[:,4][i]=df.iloc[:,4][i].replace('31-40세','중년')\n",
    "    \n",
    "idx = df[df['연령가해자']=='41-50세'].index\n",
    "for i in idx:\n",
    "    df.iloc[:,4][i]=df.iloc[:,4][i].replace('41-50세','중년')\n",
    "    \n",
    "idx = df[df['연령가해자']=='51-60세'].index\n",
    "for i in idx:\n",
    "    df.iloc[:,4][i]=df.iloc[:,4][i].replace('51-60세','장년')\n",
    "    \n",
    "idx = df[df['연령가해자']=='61-64세'].index\n",
    "for i in idx:\n",
    "    df.iloc[:,4][i]=df.iloc[:,4][i].replace('61-64세','장년')\n",
    "    \n",
    "idx = df[df['연령가해자']=='65세이상'].index\n",
    "for i in idx:\n",
    "    df.iloc[:,4][i]=df.iloc[:,4][i].replace('65세이상','노인')"
   ]
  },
  {
   "cell_type": "markdown",
   "metadata": {},
   "source": [
    "---"
   ]
  },
  {
   "cell_type": "markdown",
   "metadata": {},
   "source": [
    "## 2. 법규위반가해자"
   ]
  },
  {
   "cell_type": "markdown",
   "metadata": {},
   "source": [
    "### 과속이 제일 큰 영향을 끼치고 있음\n",
    "### 안전거리 미확보, 안전운전 의무 불이행 를 묶어서 '안전운전 의무 불이행'으로 처리\n",
    "### 보행자 보호의무 위반, 신호 위반을 묶어서 ' 신호 또는 보행자 보호 위반'으로 처리"
   ]
  },
  {
   "cell_type": "code",
   "execution_count": 135,
   "metadata": {},
   "outputs": [],
   "source": [
    "idx = df[df['법규위반가해자']=='안전거리 미확보'].index\n",
    "for i in idx:\n",
    "    df.iloc[:,6][i]=df.iloc[:,6][i].replace('안전거리 미확보','안전운전 의무 불이행')\n",
    "\n",
    "idx = df[df['법규위반가해자']=='보행자 보호의무 위반'].index\n",
    "for i in idx:\n",
    "    df.iloc[:,6][i]=df.iloc[:,6][i].replace('보행자 보호의무 위반','신호 또는 보행자보호 위반')\n",
    "    \n",
    "idx = df[df['법규위반가해자']=='신호위반'].index\n",
    "for i in idx:\n",
    "    df.iloc[:,6][i]=df.iloc[:,6][i].replace('신호위반','신호 또는 보행자보호 위반')\n",
    "    "
   ]
  },
  {
   "cell_type": "code",
   "execution_count": 136,
   "metadata": {},
   "outputs": [
    {
     "data": {
      "text/plain": [
       "array(['안전운전 의무 불이행', '신호 또는 보행자보호 위반', '기타', '중앙선 침범', '교차로 통행방법 위반',\n",
       "       '과속'], dtype=object)"
      ]
     },
     "execution_count": 136,
     "metadata": {},
     "output_type": "execute_result"
    }
   ],
   "source": [
    "df['법규위반가해자'].unique()"
   ]
  },
  {
   "cell_type": "markdown",
   "metadata": {},
   "source": [
    "---"
   ]
  },
  {
   "cell_type": "markdown",
   "metadata": {},
   "source": [
    "## 3. 행동유형가해자"
   ]
  },
  {
   "cell_type": "markdown",
   "metadata": {},
   "source": [
    "### 후진 중, 출발 중, 좌우회전 중, U턴 중, 앞지르기 중 => 주행 중 \n",
    "### 주행 중 대기, 주정차중 => 주정차 중 \n",
    "### 진로변경 중, 직진 중 => 직진 또는 진로변경 중"
   ]
  },
  {
   "cell_type": "code",
   "execution_count": 137,
   "metadata": {},
   "outputs": [],
   "source": [
    "idx = df[(df['행동유형가해자']=='후진 중')].index\n",
    "for i in idx:\n",
    "    df.iloc[:,7][i]=df.iloc[:,7][i].replace('후진 중','주행 중')\n",
    "\n",
    "idx = df[(df['행동유형가해자']=='출발 중')].index\n",
    "for i in idx:\n",
    "    df.iloc[:,7][i]=df.iloc[:,7][i].replace('출발 중','주행 중')\n",
    "    \n",
    "idx = df[(df['행동유형가해자']=='좌우회전 중')].index\n",
    "for i in idx:\n",
    "    df.iloc[:,7][i]=df.iloc[:,7][i].replace('좌우회전 중','주행 중')\n",
    "    \n",
    "idx = df[(df['행동유형가해자']=='U턴 중')].index\n",
    "for i in idx:\n",
    "    df.iloc[:,7][i]=df.iloc[:,7][i].replace('U턴 중','주행 중')\n",
    "    \n",
    "idx = df[(df['행동유형가해자']=='앞지르기 중')].index\n",
    "for i in idx:\n",
    "    df.iloc[:,7][i]=df.iloc[:,7][i].replace('앞지르기 중','주행 중')"
   ]
  },
  {
   "cell_type": "code",
   "execution_count": 138,
   "metadata": {},
   "outputs": [],
   "source": [
    "idx = df[(df['행동유형가해자']=='주행 중 대기')].index\n",
    "for i in idx:\n",
    "    df.iloc[:,7][i]=df.iloc[:,7][i].replace('주행 중 대기','주정차 중')\n",
    "\n",
    "idx = df[(df['행동유형가해자']=='주정차중')].index\n",
    "for i in idx:\n",
    "    df.iloc[:,7][i]=df.iloc[:,7][i].replace('주정차중','주정차 중')"
   ]
  },
  {
   "cell_type": "code",
   "execution_count": 139,
   "metadata": {},
   "outputs": [],
   "source": [
    "idx = df[(df['행동유형가해자']=='진로변경 중')].index\n",
    "for i in idx:\n",
    "    df.iloc[:,7][i]=df.iloc[:,7][i].replace('진로변경 중','직진 또는 진로변경 중')\n",
    "\n",
    "idx = df[(df['행동유형가해자']=='직진 중')].index\n",
    "for i in idx:\n",
    "    df.iloc[:,7][i]=df.iloc[:,7][i].replace('직진 중','직진 또는 진로변경 중')"
   ]
  },
  {
   "cell_type": "code",
   "execution_count": 140,
   "metadata": {},
   "outputs": [
    {
     "data": {
      "text/plain": [
       "array(['직진 또는 진로변경 중', '주행 중', '기타/불명', '주정차 중'], dtype=object)"
      ]
     },
     "execution_count": 140,
     "metadata": {},
     "output_type": "execute_result"
    }
   ],
   "source": [
    "df['행동유형가해자'].unique()"
   ]
  },
  {
   "cell_type": "markdown",
   "metadata": {},
   "source": [
    "---"
   ]
  },
  {
   "cell_type": "markdown",
   "metadata": {},
   "source": [
    "## 가해자신체상해주부위\n",
    "####  \n",
    "### 큰 차이가 두드러지지 않아 대분류로 묶겠음"
   ]
  },
  {
   "cell_type": "markdown",
   "metadata": {},
   "source": [
    "### ===============================================\n",
    "### 가슴   상해없음  -46.3251  0.001   -81.479 -11.1712   True\n",
    "### 가슴      팔  -51.3611 0.0486  -102.586  -0.1362   True\n",
    "### 대퇴부     뒷목   89.0109 0.0301    3.7219 174.2999   True\n",
    "### 뒷목      발   -90.607 0.0158 -173.3356  -7.8785   True\n",
    "### 뒷목   상해없음  -79.7049 0.0112 -150.7859  -8.6239   True\n",
    "### 뒷목      팔  -84.7409 0.0259 -164.9949  -4.4869   True\n",
    "### 뒷목    하퇴부  -78.5909 0.0443 -156.3328   -0.849   True\n",
    "### ==============================================="
   ]
  },
  {
   "cell_type": "markdown",
   "metadata": {},
   "source": [
    "### 상해없음, 없음 => 상해없음\n",
    "### 기타, 불명 => 기타/불명\n",
    "###  얼굴, 목,뒷목,머리,앞목 => 머리/얼굴/목\n",
    "###  가슴, 팔, 허리,어깨,손,등 => 상반신\n",
    "###  발,하퇴부,대퇴부 => 하반신"
   ]
  },
  {
   "cell_type": "code",
   "execution_count": 141,
   "metadata": {},
   "outputs": [],
   "source": [
    "idx = df[(df['가해자신체상해주부위']=='가슴')].index\n",
    "for i in idx:\n",
    "    df.iloc[:,10][i]=df.iloc[:,10][i].replace('가슴','상반신')\n",
    "    \n",
    "idx = df[(df['가해자신체상해주부위']=='팔')].index\n",
    "for i in idx:\n",
    "    df.iloc[:,10][i]=df.iloc[:,10][i].replace('팔','상반신')\n",
    "    \n",
    "idx = df[(df['가해자신체상해주부위']=='허리')].index\n",
    "for i in idx:\n",
    "    df.iloc[:,10][i]=df.iloc[:,10][i].replace('허리','상반신')\n",
    "    \n",
    "idx = df[(df['가해자신체상해주부위']=='어깨')].index\n",
    "for i in idx:\n",
    "    df.iloc[:,10][i]=df.iloc[:,10][i].replace('어깨','상반신')\n",
    "    \n",
    "idx = df[(df['가해자신체상해주부위']=='손')].index\n",
    "for i in idx:\n",
    "    df.iloc[:,10][i]=df.iloc[:,10][i].replace('손','상반신')\n",
    "    \n",
    "idx = df[(df['가해자신체상해주부위']=='등')].index\n",
    "for i in idx:\n",
    "    df.iloc[:,10][i]=df.iloc[:,10][i].replace('등','상반신')"
   ]
  },
  {
   "cell_type": "code",
   "execution_count": 142,
   "metadata": {},
   "outputs": [],
   "source": [
    "idx = df[(df['가해자신체상해주부위']=='얼굴')].index\n",
    "for i in idx:\n",
    "    df.iloc[:,10][i]=df.iloc[:,10][i].replace('얼굴','머리/얼굴/목')\n",
    "    \n",
    "idx = df[(df['가해자신체상해주부위']=='목')].index\n",
    "for i in idx:\n",
    "    df.iloc[:,10][i]=df.iloc[:,10][i].replace('목','머리/얼굴/목')\n",
    "    \n",
    "idx = df[(df['가해자신체상해주부위']=='뒷목')].index\n",
    "for i in idx:\n",
    "    df.iloc[:,10][i]=df.iloc[:,10][i].replace('뒷목','머리/얼굴/목')\n",
    "    \n",
    "idx = df[(df['가해자신체상해주부위']=='머리')].index\n",
    "for i in idx:\n",
    "    df.iloc[:,10][i]=df.iloc[:,10][i].replace('머리','머리/얼굴/목')\n",
    "    \n",
    "idx = df[(df['가해자신체상해주부위']=='앞목')].index\n",
    "for i in idx:\n",
    "    df.iloc[:,10][i]=df.iloc[:,10][i].replace('앞목','머리/얼굴/목')\n"
   ]
  },
  {
   "cell_type": "code",
   "execution_count": 143,
   "metadata": {},
   "outputs": [],
   "source": [
    "idx = df[(df['가해자신체상해주부위']=='기타')].index\n",
    "for i in idx:\n",
    "    df.iloc[:,10][i]=df.iloc[:,10][i].replace('기타','기타/불명')\n",
    "    \n",
    "idx = df[(df['가해자신체상해주부위']=='불명')].index\n",
    "for i in idx:\n",
    "    df.iloc[:,10][i]=df.iloc[:,10][i].replace('불명','기타/불명')"
   ]
  },
  {
   "cell_type": "code",
   "execution_count": 144,
   "metadata": {},
   "outputs": [],
   "source": [
    "idx = df[(df['가해자신체상해주부위']=='없음')].index\n",
    "for i in idx:\n",
    "    df.iloc[:,10][i]=df.iloc[:,10][i].replace('없음','상해없음')"
   ]
  },
  {
   "cell_type": "code",
   "execution_count": 145,
   "metadata": {},
   "outputs": [],
   "source": [
    "idx = df[(df['가해자신체상해주부위']=='발')].index\n",
    "for i in idx:\n",
    "    df.iloc[:,10][i]=df.iloc[:,10][i].replace('발','하반신')\n",
    "    \n",
    "idx = df[(df['가해자신체상해주부위']=='하퇴부')].index\n",
    "for i in idx:\n",
    "    df.iloc[:,10][i]=df.iloc[:,10][i].replace('하퇴부','하반신')\n",
    "\n",
    "idx = df[(df['가해자신체상해주부위']=='대퇴부')].index\n",
    "for i in idx:\n",
    "    df.iloc[:,10][i]=df.iloc[:,10][i].replace('대퇴부','하반신')    "
   ]
  },
  {
   "cell_type": "code",
   "execution_count": 146,
   "metadata": {},
   "outputs": [
    {
     "data": {
      "text/plain": [
       "array(['상해없음', '기타/불명', '머리/얼굴/목', '상반신', '하반신'], dtype=object)"
      ]
     },
     "execution_count": 146,
     "metadata": {},
     "output_type": "execute_result"
    }
   ],
   "source": [
    "df['가해자신체상해주부위'].unique()"
   ]
  },
  {
   "cell_type": "markdown",
   "metadata": {},
   "source": [
    "---"
   ]
  },
  {
   "cell_type": "markdown",
   "metadata": {},
   "source": [
    "## 피해자신체상해주부위\n",
    "###    \n",
    "### 가해자신체상해주부위와 동일하게 묶겠음"
   ]
  },
  {
   "cell_type": "code",
   "execution_count": 147,
   "metadata": {},
   "outputs": [],
   "source": [
    "idx = df[(df['피해자신체상해주부위']=='하퇴부')].index\n",
    "for i in idx:\n",
    "    df.iloc[:,11][i]=df.iloc[:,11][i].replace('하퇴부','하반신')\n",
    "\n",
    "idx = df[(df['피해자신체상해주부위']=='발')].index\n",
    "for i in idx:\n",
    "    df.iloc[:,11][i]=df.iloc[:,11][i].replace('발','하반신')\n",
    "    \n",
    "idx = df[(df['피해자신체상해주부위']=='대퇴부')].index\n",
    "for i in idx:\n",
    "    df.iloc[:,11][i]=df.iloc[:,11][i].replace('대퇴부','하반신')\n",
    "    \n",
    "\n",
    "idx = df[(df['피해자신체상해주부위']=='머리')].index\n",
    "for i in idx:\n",
    "    df.iloc[:,11][i]=df.iloc[:,11][i].replace('머리','머리/얼굴/목')\n",
    "    \n",
    "idx = df[(df['피해자신체상해주부위']=='목')].index\n",
    "for i in idx:\n",
    "    df.iloc[:,11][i]=df.iloc[:,11][i].replace('목','머리/얼굴/목')\n",
    "    \n",
    "idx = df[(df['피해자신체상해주부위']=='얼굴')].index\n",
    "for i in idx:\n",
    "    df.iloc[:,11][i]=df.iloc[:,11][i].replace('얼굴','머리/얼굴/목')\n",
    "    \n",
    "idx = df[(df['피해자신체상해주부위']=='뒷목')].index\n",
    "for i in idx:\n",
    "    df.iloc[:,11][i]=df.iloc[:,11][i].replace('뒷목','머리/얼굴/목')\n",
    "    \n",
    "idx = df[(df['피해자신체상해주부위']=='앞목')].index\n",
    "for i in idx:\n",
    "    df.iloc[:,11][i]=df.iloc[:,11][i].replace('앞목','머리/얼굴/목')\n",
    "    \n",
    "    \n",
    "idx = df[(df['피해자신체상해주부위']=='허리')].index\n",
    "for i in idx:\n",
    "    df.iloc[:,11][i]=df.iloc[:,11][i].replace('허리','상반신')\n",
    "    \n",
    "idx = df[(df['피해자신체상해주부위']=='팔')].index\n",
    "for i in idx:\n",
    "    df.iloc[:,11][i]=df.iloc[:,11][i].replace('팔','상반신')\n",
    "    \n",
    "idx = df[(df['피해자신체상해주부위']=='손')].index\n",
    "for i in idx:\n",
    "    df.iloc[:,11][i]=df.iloc[:,11][i].replace('손','상반신')\n",
    "    \n",
    "idx = df[(df['피해자신체상해주부위']=='가슴')].index\n",
    "for i in idx:\n",
    "    df.iloc[:,11][i]=df.iloc[:,11][i].replace('가슴','상반신')\n",
    "\n",
    "idx = df[(df['피해자신체상해주부위']=='배')].index\n",
    "for i in idx:\n",
    "    df.iloc[:,11][i]=df.iloc[:,11][i].replace('배','상반신')\n",
    "    \n",
    "idx = df[(df['피해자신체상해주부위']=='어깨')].index\n",
    "for i in idx:\n",
    "    df.iloc[:,11][i]=df.iloc[:,11][i].replace('어깨','상반신')\n",
    "    \n",
    "idx = df[(df['피해자신체상해주부위']=='등')].index\n",
    "for i in idx:\n",
    "    df.iloc[:,11][i]=df.iloc[:,11][i].replace('등','상반신')"
   ]
  },
  {
   "cell_type": "markdown",
   "metadata": {},
   "source": [
    "---"
   ]
  },
  {
   "cell_type": "markdown",
   "metadata": {},
   "source": [
    "## 당사자종별가해자"
   ]
  },
  {
   "cell_type": "markdown",
   "metadata": {},
   "source": [
    "### 원동기장치자전거, 이륜차, 자전거 => 원동기/이륜/자전거\n",
    "### 승합차, 승용차, 경형, 중형  => 승합/승용차\n",
    "### 특수차 > 화물차 => 특수/화물차\n",
    "### 사발이 > 사륜오토바이 => 사발이/ATV### 건설기계  \n",
    "### 기타, 불명 => 기타/불명\n",
    "### 소형, 대형 "
   ]
  },
  {
   "cell_type": "code",
   "execution_count": 148,
   "metadata": {},
   "outputs": [],
   "source": [
    "idx = df[(df['당사자종별가해자']=='원동기장치자전거')].index\n",
    "for i in idx:\n",
    "    df.iloc[:,12][i]=df.iloc[:,12][i].replace('원동기장치자전거','원동기/이륜/자전거')\n",
    "    \n",
    "idx = df[(df['당사자종별가해자']=='이륜차')].index\n",
    "for i in idx:\n",
    "    df.iloc[:,12][i]=df.iloc[:,12][i].replace('이륜차','원동기/이륜/자전거')\n",
    "    \n",
    "idx = df[(df['당사자종별가해자']=='자전거')].index\n",
    "for i in idx:\n",
    "    df.iloc[:,12][i]=df.iloc[:,12][i].replace('자전거','원동기/이륜/자전거')\n",
    "    \n",
    "    \n",
    "idx = df[(df['당사자종별가해자']=='기타')].index\n",
    "for i in idx:\n",
    "    df.iloc[:,12][i]=df.iloc[:,12][i].replace('기타','기타/불명')\n",
    "\n",
    "idx = df[(df['당사자종별가해자']=='불명')].index\n",
    "for i in idx:\n",
    "    df.iloc[:,12][i]=df.iloc[:,12][i].replace('불명','기타/불명')\n",
    "    \n",
    "    \n",
    "idx = df[(df['당사자종별가해자']=='사발이')].index\n",
    "for i in idx:\n",
    "    df.iloc[:,12][i]=df.iloc[:,12][i].replace('사발이','사발이/ATV')\n",
    "\n",
    "idx = df[(df['당사자종별가해자']=='사륜오토바이(ATV)')].index\n",
    "for i in idx:\n",
    "    df.iloc[:,12][i]=df.iloc[:,12][i].replace('사륜오토바이(ATV)','사발이/ATV')\n",
    "    \n",
    "    \n",
    "    \n",
    "idx = df[(df['당사자종별가해자']=='특수차')].index\n",
    "for i in idx:\n",
    "    df.iloc[:,12][i]=df.iloc[:,12][i].replace('특수차','특수/화물차')\n",
    "\n",
    "idx = df[(df['당사자종별가해자']=='화물차')].index\n",
    "for i in idx:\n",
    "    df.iloc[:,12][i]=df.iloc[:,12][i].replace('화물차','특수/화물차')"
   ]
  },
  {
   "cell_type": "code",
   "execution_count": 149,
   "metadata": {},
   "outputs": [],
   "source": [
    "idx = df[(df['당사자종별가해자']=='승합차')].index\n",
    "for i in idx:\n",
    "    df.iloc[:,12][i]=df.iloc[:,12][i].replace('승합차','승합/승용차')\n",
    "      \n",
    "    \n",
    "idx = df[(df['당사자종별가해자']=='승용차')].index\n",
    "for i in idx:\n",
    "    df.iloc[:,12][i]=df.iloc[:,12][i].replace('승용차','승합/승용차')\n",
    "    \n",
    "    \n",
    "    \n",
    "idx = df[(df['당사자종별가해자']=='소형')].index\n",
    "for i in idx:\n",
    "    df.iloc[:,12][i]=df.iloc[:,12][i].replace('소형','소형/경형')\n",
    "    \n",
    "idx = df[(df['당사자종별가해자']=='경형')].index\n",
    "for i in idx:\n",
    "    df.iloc[:,12][i]=df.iloc[:,12][i].replace('경형','소형/경형')\n",
    "    \n",
    "idx = df[(df['당사자종별가해자']=='대형')].index\n",
    "for i in idx:\n",
    "    df.iloc[:,12][i]=df.iloc[:,12][i].replace('대형','중형/대형')\n",
    "    \n",
    "idx = df[(df['당사자종별가해자']=='중형')].index\n",
    "for i in idx:\n",
    "    df.iloc[:,12][i]=df.iloc[:,12][i].replace('중형','중형/대형')"
   ]
  },
  {
   "cell_type": "markdown",
   "metadata": {},
   "source": [
    "---"
   ]
  },
  {
   "cell_type": "markdown",
   "metadata": {},
   "source": [
    "## 차량용도가해자"
   ]
  },
  {
   "cell_type": "markdown",
   "metadata": {},
   "source": [
    "### 기타, 불명, 비사업용기타 => 기타/불명\n",
    "### 개별화물, 일반화물, 용달화물, 덤프트럭 => 화물차\n",
    "### 마을버스,시내버스 => 시내/마을버스\n",
    "### 고속버스,전세버스,버스, 시외버스 => 고속/시외/전세버스\n",
    "### 개인택시, 법인택시 => 택시\n",
    "### 기타/건설기계 => 건설기계\n",
    "### 특수여객(장의), 위험물운송 => 특수여객/위험물운송"
   ]
  },
  {
   "cell_type": "code",
   "execution_count": 150,
   "metadata": {},
   "outputs": [],
   "source": [
    "idx = df[(df['차량용도가해자']=='기타')].index\n",
    "for i in idx:\n",
    "    df.iloc[:,13][i]=df.iloc[:,13][i].replace('기타','기타/불명')\n",
    "    \n",
    "idx = df[(df['차량용도가해자']=='불명')].index\n",
    "for i in idx:\n",
    "    df.iloc[:,13][i]=df.iloc[:,13][i].replace('불명','기타/불명')\n",
    "    \n",
    "idx = df[(df['차량용도가해자']=='비사업용기타')].index\n",
    "for i in idx:\n",
    "    df.iloc[:,13][i]=df.iloc[:,13][i].replace('비사업용기타','기타/불명')"
   ]
  },
  {
   "cell_type": "code",
   "execution_count": 151,
   "metadata": {},
   "outputs": [],
   "source": [
    "idx = df[(df['차량용도가해자']=='개별화물')].index\n",
    "for i in idx:\n",
    "    df.iloc[:,13][i]=df.iloc[:,13][i].replace('개별화물','화물차')\n",
    "    \n",
    "idx = df[(df['차량용도가해자']=='마을버스')].index\n",
    "for i in idx:\n",
    "    df.iloc[:,13][i]=df.iloc[:,13][i].replace('마을버스','시내/마을버스')\n",
    "    \n",
    "    \n",
    "idx = df[(df['차량용도가해자']=='고속버스')].index\n",
    "for i in idx:\n",
    "    df.iloc[:,13][i]=df.iloc[:,13][i].replace('고속버스','고속/시외/전세버스')\n",
    "    \n",
    "idx = df[(df['차량용도가해자']=='전세버스')].index\n",
    "for i in idx:\n",
    "    df.iloc[:,13][i]=df.iloc[:,13][i].replace('전세버스','고속/시외/전세버스')\n",
    "    \n",
    "idx = df[(df['차량용도가해자']=='버스')].index\n",
    "for i in idx:\n",
    "    df.iloc[:,13][i]=df.iloc[:,13][i].replace('버스','고속/시외/전세버스')"
   ]
  },
  {
   "cell_type": "code",
   "execution_count": 152,
   "metadata": {},
   "outputs": [],
   "source": [
    "idx = df[(df['차량용도가해자']=='일반화물')].index\n",
    "for i in idx:\n",
    "    df.iloc[:,13][i]=df.iloc[:,13][i].replace('일반화물','화물차')\n",
    "   \n",
    "idx = df[(df['차량용도가해자']=='용달화물')].index\n",
    "for i in idx:\n",
    "    df.iloc[:,13][i]=df.iloc[:,13][i].replace('용달화물','화물차')"
   ]
  },
  {
   "cell_type": "code",
   "execution_count": 153,
   "metadata": {},
   "outputs": [],
   "source": [
    "idx = df[(df['차량용도가해자']=='개인택시')].index\n",
    "for i in idx:\n",
    "    df.iloc[:,13][i]=df.iloc[:,13][i].replace('개인택시','택시')\n",
    "    \n",
    "idx = df[(df['차량용도가해자']=='법인택시')].index\n",
    "for i in idx:\n",
    "    df.iloc[:,13][i]=df.iloc[:,13][i].replace('법인택시','택시')"
   ]
  },
  {
   "cell_type": "code",
   "execution_count": 154,
   "metadata": {},
   "outputs": [],
   "source": [
    "idx = df[(df['차량용도가해자']=='시내버스')].index\n",
    "for i in idx:\n",
    "    df.iloc[:,13][i]=df.iloc[:,13][i].replace('시내버스','시내/마을버스')"
   ]
  },
  {
   "cell_type": "code",
   "execution_count": 155,
   "metadata": {},
   "outputs": [],
   "source": [
    "idx = df[(df['차량용도가해자']=='기타/건설기계')].index\n",
    "for i in idx:\n",
    "    df.iloc[:,13][i]=df.iloc[:,13][i].replace('기타/건설기계','건설기계')"
   ]
  },
  {
   "cell_type": "code",
   "execution_count": 156,
   "metadata": {},
   "outputs": [],
   "source": [
    "idx = df[(df['차량용도가해자']=='특수여객(장의)')].index\n",
    "for i in idx:\n",
    "    df.iloc[:,13][i]=df.iloc[:,13][i].replace('특수여객(장의)','특수여객/위험물운송')\n",
    "    \n",
    "idx = df[(df['차량용도가해자']=='위험물운송')].index\n",
    "for i in idx:\n",
    "    df.iloc[:,13][i]=df.iloc[:,13][i].replace('특수여객(장의)','특수여객/위험물운송')"
   ]
  },
  {
   "cell_type": "code",
   "execution_count": 157,
   "metadata": {},
   "outputs": [],
   "source": [
    "idx = df[(df['차량용도가해자']=='덤프트럭')].index\n",
    "for i in idx:\n",
    "    df.iloc[:,13][i]=df.iloc[:,13][i].replace('덤프트럭','화물차')"
   ]
  },
  {
   "cell_type": "code",
   "execution_count": 158,
   "metadata": {},
   "outputs": [],
   "source": [
    "idx = df[(df['차량용도가해자']=='시외버스')].index\n",
    "for i in idx:\n",
    "    df.iloc[:,13][i]=df.iloc[:,13][i].replace('시외버스','고속/시외/전세버스')"
   ]
  },
  {
   "cell_type": "markdown",
   "metadata": {},
   "source": [
    "---"
   ]
  },
  {
   "cell_type": "markdown",
   "metadata": {},
   "source": [
    "## 도로종류"
   ]
  },
  {
   "cell_type": "markdown",
   "metadata": {},
   "source": [
    "### 고속국도, 일반국도 => 일반/고속국도"
   ]
  },
  {
   "cell_type": "code",
   "execution_count": 159,
   "metadata": {},
   "outputs": [],
   "source": [
    "idx = df[(df['도로종류']=='고속국도')].index\n",
    "for i in idx:\n",
    "    df.iloc[:,14][i]=df.iloc[:,14][i].replace('고속국도','일반/고속국도')\n",
    "    \n",
    "idx = df[(df['도로종류']=='일반국도')].index\n",
    "for i in idx:\n",
    "    df.iloc[:,14][i]=df.iloc[:,14][i].replace('일반국도','일반/고속국도')"
   ]
  },
  {
   "cell_type": "markdown",
   "metadata": {},
   "source": [
    "---"
   ]
  },
  {
   "cell_type": "markdown",
   "metadata": {},
   "source": [
    "## 도로형태"
   ]
  },
  {
   "cell_type": "markdown",
   "metadata": {},
   "source": [
    "### 교차로내, 교차로부근, 교차로횡단보도내 => 교차로\n",
    "### 횡단보도부근, 횡단보도상 => 횡단보도\n",
    "### 터널안, 지하차도(도로)내 => 터널/지하차도"
   ]
  },
  {
   "cell_type": "code",
   "execution_count": 160,
   "metadata": {},
   "outputs": [],
   "source": [
    "idx = df[(df['도로형태']=='교차로내')].index\n",
    "for i in idx:\n",
    "    df.iloc[:,15][i]=df.iloc[:,15][i].replace('교차로내','교차로')\n",
    "    \n",
    "idx = df[(df['도로종류']=='교차로부근')].index\n",
    "for i in idx:\n",
    "    df.iloc[:,15][i]=df.iloc[:,15][i].replace('교차로부근','교차로')\n",
    "    \n",
    "idx = df[(df['도로종류']=='교차로횡단보도내')].index\n",
    "for i in idx:\n",
    "    df.iloc[:,15][i]=df.iloc[:,15][i].replace('교차로횡단보도내','교차로')\n",
    "    \n",
    "    \n",
    "    \n",
    "idx = df[(df['도로형태']=='횡단보도부근')].index\n",
    "for i in idx:\n",
    "    df.iloc[:,15][i]=df.iloc[:,15][i].replace('횡단보도부근','횡단보도')\n",
    "    \n",
    "idx = df[(df['도로종류']=='횡단보도상')].index\n",
    "for i in idx:\n",
    "    df.iloc[:,15][i]=df.iloc[:,15][i].replace('횡단보도상','횡단보도')\n",
    "    \n",
    "    \n",
    "idx = df[(df['도로형태']=='터널안')].index\n",
    "for i in idx:\n",
    "    df.iloc[:,15][i]=df.iloc[:,15][i].replace('터널안','터널/지하차도')\n",
    "    \n",
    "idx = df[(df['도로종류']=='지하차도(도로)내')].index\n",
    "for i in idx:\n",
    "    df.iloc[:,15][i]=df.iloc[:,15][i].replace('지하차도(도로)내','터널/지하차도')"
   ]
  },
  {
   "cell_type": "markdown",
   "metadata": {},
   "source": [
    "---"
   ]
  },
  {
   "cell_type": "markdown",
   "metadata": {},
   "source": [
    "## 도로선형"
   ]
  },
  {
   "cell_type": "markdown",
   "metadata": {},
   "source": [
    "### 오르막, 내리막 => 경사로"
   ]
  },
  {
   "cell_type": "code",
   "execution_count": 161,
   "metadata": {},
   "outputs": [],
   "source": [
    "idx = df[(df['도로선형']=='오르막')].index\n",
    "for i in idx:\n",
    "    df.iloc[:,16][i]=df.iloc[:,16][i].replace('오르막','경사로')\n",
    "    \n",
    "idx = df[(df['도로선형']=='내리막')].index\n",
    "for i in idx:\n",
    "    df.iloc[:,16][i]=df.iloc[:,16][i].replace('내리막','경사로')"
   ]
  },
  {
   "cell_type": "code",
   "execution_count": 162,
   "metadata": {},
   "outputs": [
    {
     "data": {
      "text/plain": [
       "array(['평지', '경사로', '기타/서비스구역'], dtype=object)"
      ]
     },
     "execution_count": 162,
     "metadata": {},
     "output_type": "execute_result"
    }
   ],
   "source": [
    "df['도로선형'].unique()"
   ]
  },
  {
   "cell_type": "markdown",
   "metadata": {},
   "source": [
    "---"
   ]
  },
  {
   "cell_type": "code",
   "execution_count": 163,
   "metadata": {},
   "outputs": [
    {
     "data": {
      "text/html": [
       "<div>\n",
       "<style scoped>\n",
       "    .dataframe tbody tr th:only-of-type {\n",
       "        vertical-align: middle;\n",
       "    }\n",
       "\n",
       "    .dataframe tbody tr th {\n",
       "        vertical-align: top;\n",
       "    }\n",
       "\n",
       "    .dataframe thead th {\n",
       "        text-align: right;\n",
       "    }\n",
       "</style>\n",
       "<table border=\"1\" class=\"dataframe\">\n",
       "  <thead>\n",
       "    <tr style=\"text-align: right;\">\n",
       "      <th></th>\n",
       "      <th>주야</th>\n",
       "      <th>사고내용</th>\n",
       "      <th>사고유형</th>\n",
       "      <th>가해자성별</th>\n",
       "      <th>연령가해자</th>\n",
       "      <th>가해자음주</th>\n",
       "      <th>법규위반가해자</th>\n",
       "      <th>행동유형가해자</th>\n",
       "      <th>신체상해정도가해자</th>\n",
       "      <th>신체상해정도피해자</th>\n",
       "      <th>...</th>\n",
       "      <th>피해자신체상해주부위</th>\n",
       "      <th>당사자종별가해자</th>\n",
       "      <th>차량용도가해자</th>\n",
       "      <th>도로종류</th>\n",
       "      <th>도로형태</th>\n",
       "      <th>도로선형</th>\n",
       "      <th>기상상태</th>\n",
       "      <th>노면상태</th>\n",
       "      <th>교차로형태</th>\n",
       "      <th>사고심각도</th>\n",
       "    </tr>\n",
       "  </thead>\n",
       "  <tbody>\n",
       "    <tr>\n",
       "      <th>0</th>\n",
       "      <td>주</td>\n",
       "      <td>경상</td>\n",
       "      <td>보도_길가장자리_기타</td>\n",
       "      <td>여</td>\n",
       "      <td>아동청소년</td>\n",
       "      <td>기타</td>\n",
       "      <td>안전운전 의무 불이행</td>\n",
       "      <td>직진 또는 진로변경 중</td>\n",
       "      <td>상해없음</td>\n",
       "      <td>경상</td>\n",
       "      <td>...</td>\n",
       "      <td>하반신</td>\n",
       "      <td>원동기/이륜/자전거</td>\n",
       "      <td>자전거</td>\n",
       "      <td>기타</td>\n",
       "      <td>기타단일로</td>\n",
       "      <td>평지</td>\n",
       "      <td>맑음</td>\n",
       "      <td>서리/결빙</td>\n",
       "      <td>교차로아님</td>\n",
       "      <td>2</td>\n",
       "    </tr>\n",
       "    <tr>\n",
       "      <th>1</th>\n",
       "      <td>주</td>\n",
       "      <td>중상</td>\n",
       "      <td>횡단중</td>\n",
       "      <td>남</td>\n",
       "      <td>노인</td>\n",
       "      <td>기타</td>\n",
       "      <td>안전운전 의무 불이행</td>\n",
       "      <td>직진 또는 진로변경 중</td>\n",
       "      <td>상해없음</td>\n",
       "      <td>중상</td>\n",
       "      <td>...</td>\n",
       "      <td>머리/얼굴/목</td>\n",
       "      <td>소형/경형</td>\n",
       "      <td>승용차</td>\n",
       "      <td>시도</td>\n",
       "      <td>기타단일로</td>\n",
       "      <td>평지</td>\n",
       "      <td>맑음</td>\n",
       "      <td>건조</td>\n",
       "      <td>교차로아님</td>\n",
       "      <td>32</td>\n",
       "    </tr>\n",
       "    <tr>\n",
       "      <th>2</th>\n",
       "      <td>야</td>\n",
       "      <td>경상</td>\n",
       "      <td>보도_길가장자리_기타</td>\n",
       "      <td>남</td>\n",
       "      <td>아동청소년</td>\n",
       "      <td>기타</td>\n",
       "      <td>안전운전 의무 불이행</td>\n",
       "      <td>직진 또는 진로변경 중</td>\n",
       "      <td>상해없음</td>\n",
       "      <td>경상</td>\n",
       "      <td>...</td>\n",
       "      <td>기타</td>\n",
       "      <td>소형/경형</td>\n",
       "      <td>승용차</td>\n",
       "      <td>시도</td>\n",
       "      <td>기타단일로</td>\n",
       "      <td>평지</td>\n",
       "      <td>맑음</td>\n",
       "      <td>건조</td>\n",
       "      <td>교차로아님</td>\n",
       "      <td>2</td>\n",
       "    </tr>\n",
       "    <tr>\n",
       "      <th>3</th>\n",
       "      <td>주</td>\n",
       "      <td>중상</td>\n",
       "      <td>보도_길가장자리_기타</td>\n",
       "      <td>남</td>\n",
       "      <td>청년</td>\n",
       "      <td>기타</td>\n",
       "      <td>안전운전 의무 불이행</td>\n",
       "      <td>주행 중</td>\n",
       "      <td>상해없음</td>\n",
       "      <td>중상</td>\n",
       "      <td>...</td>\n",
       "      <td>기타</td>\n",
       "      <td>중형/대형</td>\n",
       "      <td>화물차</td>\n",
       "      <td>기타</td>\n",
       "      <td>기타단일로</td>\n",
       "      <td>평지</td>\n",
       "      <td>맑음</td>\n",
       "      <td>건조</td>\n",
       "      <td>교차로아님</td>\n",
       "      <td>32</td>\n",
       "    </tr>\n",
       "    <tr>\n",
       "      <th>4</th>\n",
       "      <td>주</td>\n",
       "      <td>중상</td>\n",
       "      <td>횡단중</td>\n",
       "      <td>여</td>\n",
       "      <td>중년</td>\n",
       "      <td>기타</td>\n",
       "      <td>안전운전 의무 불이행</td>\n",
       "      <td>직진 또는 진로변경 중</td>\n",
       "      <td>상해없음</td>\n",
       "      <td>중상</td>\n",
       "      <td>...</td>\n",
       "      <td>머리/얼굴/목</td>\n",
       "      <td>중형/대형</td>\n",
       "      <td>승용차</td>\n",
       "      <td>기타</td>\n",
       "      <td>기타단일로</td>\n",
       "      <td>평지</td>\n",
       "      <td>맑음</td>\n",
       "      <td>건조</td>\n",
       "      <td>교차로아님</td>\n",
       "      <td>32</td>\n",
       "    </tr>\n",
       "    <tr>\n",
       "      <th>...</th>\n",
       "      <td>...</td>\n",
       "      <td>...</td>\n",
       "      <td>...</td>\n",
       "      <td>...</td>\n",
       "      <td>...</td>\n",
       "      <td>...</td>\n",
       "      <td>...</td>\n",
       "      <td>...</td>\n",
       "      <td>...</td>\n",
       "      <td>...</td>\n",
       "      <td>...</td>\n",
       "      <td>...</td>\n",
       "      <td>...</td>\n",
       "      <td>...</td>\n",
       "      <td>...</td>\n",
       "      <td>...</td>\n",
       "      <td>...</td>\n",
       "      <td>...</td>\n",
       "      <td>...</td>\n",
       "      <td>...</td>\n",
       "      <td>...</td>\n",
       "    </tr>\n",
       "    <tr>\n",
       "      <th>57565</th>\n",
       "      <td>주</td>\n",
       "      <td>경상</td>\n",
       "      <td>보도_길가장자리_기타</td>\n",
       "      <td>여</td>\n",
       "      <td>장년</td>\n",
       "      <td>기타</td>\n",
       "      <td>안전운전 의무 불이행</td>\n",
       "      <td>직진 또는 진로변경 중</td>\n",
       "      <td>상해없음</td>\n",
       "      <td>경상</td>\n",
       "      <td>...</td>\n",
       "      <td>상반신</td>\n",
       "      <td>승합/승용차</td>\n",
       "      <td>승용차</td>\n",
       "      <td>시도</td>\n",
       "      <td>지하차도(도로)내</td>\n",
       "      <td>평지</td>\n",
       "      <td>맑음</td>\n",
       "      <td>건조</td>\n",
       "      <td>교차로아님</td>\n",
       "      <td>2</td>\n",
       "    </tr>\n",
       "    <tr>\n",
       "      <th>57566</th>\n",
       "      <td>주</td>\n",
       "      <td>경상</td>\n",
       "      <td>보도_길가장자리_기타</td>\n",
       "      <td>여</td>\n",
       "      <td>청년</td>\n",
       "      <td>해당 없음</td>\n",
       "      <td>기타</td>\n",
       "      <td>주행 중</td>\n",
       "      <td>상해없음</td>\n",
       "      <td>경상</td>\n",
       "      <td>...</td>\n",
       "      <td>상반신</td>\n",
       "      <td>승합/승용차</td>\n",
       "      <td>승용차</td>\n",
       "      <td>군도</td>\n",
       "      <td>교차로부근</td>\n",
       "      <td>평지</td>\n",
       "      <td>맑음</td>\n",
       "      <td>건조</td>\n",
       "      <td>교차로 - 삼지</td>\n",
       "      <td>2</td>\n",
       "    </tr>\n",
       "    <tr>\n",
       "      <th>57567</th>\n",
       "      <td>주</td>\n",
       "      <td>중상</td>\n",
       "      <td>차도통행중</td>\n",
       "      <td>여</td>\n",
       "      <td>중년</td>\n",
       "      <td>해당 없음</td>\n",
       "      <td>안전운전 의무 불이행</td>\n",
       "      <td>직진 또는 진로변경 중</td>\n",
       "      <td>상해없음</td>\n",
       "      <td>중상</td>\n",
       "      <td>...</td>\n",
       "      <td>하반신</td>\n",
       "      <td>승합/승용차</td>\n",
       "      <td>승용차</td>\n",
       "      <td>군도</td>\n",
       "      <td>지하차도(도로)내</td>\n",
       "      <td>평지</td>\n",
       "      <td>맑음</td>\n",
       "      <td>건조</td>\n",
       "      <td>교차로아님</td>\n",
       "      <td>32</td>\n",
       "    </tr>\n",
       "    <tr>\n",
       "      <th>57568</th>\n",
       "      <td>주</td>\n",
       "      <td>중상</td>\n",
       "      <td>보도_길가장자리_기타</td>\n",
       "      <td>남</td>\n",
       "      <td>노인</td>\n",
       "      <td>해당 없음</td>\n",
       "      <td>안전운전 의무 불이행</td>\n",
       "      <td>직진 또는 진로변경 중</td>\n",
       "      <td>상해없음</td>\n",
       "      <td>중상</td>\n",
       "      <td>...</td>\n",
       "      <td>하반신</td>\n",
       "      <td>승합/승용차</td>\n",
       "      <td>승용차</td>\n",
       "      <td>시도</td>\n",
       "      <td>기타단일로</td>\n",
       "      <td>평지</td>\n",
       "      <td>맑음</td>\n",
       "      <td>건조</td>\n",
       "      <td>교차로아님</td>\n",
       "      <td>32</td>\n",
       "    </tr>\n",
       "    <tr>\n",
       "      <th>57569</th>\n",
       "      <td>야</td>\n",
       "      <td>중상</td>\n",
       "      <td>횡단중</td>\n",
       "      <td>남</td>\n",
       "      <td>중년</td>\n",
       "      <td>해당 없음</td>\n",
       "      <td>안전운전 의무 불이행</td>\n",
       "      <td>주행 중</td>\n",
       "      <td>상해없음</td>\n",
       "      <td>중상</td>\n",
       "      <td>...</td>\n",
       "      <td>하반신</td>\n",
       "      <td>승합/승용차</td>\n",
       "      <td>승용차</td>\n",
       "      <td>기타</td>\n",
       "      <td>교차로</td>\n",
       "      <td>평지</td>\n",
       "      <td>맑음</td>\n",
       "      <td>건조</td>\n",
       "      <td>교차로 - 삼지</td>\n",
       "      <td>32</td>\n",
       "    </tr>\n",
       "  </tbody>\n",
       "</table>\n",
       "<p>57570 rows × 21 columns</p>\n",
       "</div>"
      ],
      "text/plain": [
       "      주야 사고내용         사고유형 가해자성별  연령가해자  가해자음주      법규위반가해자       행동유형가해자  \\\n",
       "0      주   경상  보도_길가장자리_기타     여  아동청소년     기타  안전운전 의무 불이행  직진 또는 진로변경 중   \n",
       "1      주   중상          횡단중     남     노인     기타  안전운전 의무 불이행  직진 또는 진로변경 중   \n",
       "2      야   경상  보도_길가장자리_기타     남  아동청소년     기타  안전운전 의무 불이행  직진 또는 진로변경 중   \n",
       "3      주   중상  보도_길가장자리_기타     남     청년     기타  안전운전 의무 불이행          주행 중   \n",
       "4      주   중상          횡단중     여     중년     기타  안전운전 의무 불이행  직진 또는 진로변경 중   \n",
       "...   ..  ...          ...   ...    ...    ...          ...           ...   \n",
       "57565  주   경상  보도_길가장자리_기타     여     장년     기타  안전운전 의무 불이행  직진 또는 진로변경 중   \n",
       "57566  주   경상  보도_길가장자리_기타     여     청년  해당 없음           기타          주행 중   \n",
       "57567  주   중상        차도통행중     여     중년  해당 없음  안전운전 의무 불이행  직진 또는 진로변경 중   \n",
       "57568  주   중상  보도_길가장자리_기타     남     노인  해당 없음  안전운전 의무 불이행  직진 또는 진로변경 중   \n",
       "57569  야   중상          횡단중     남     중년  해당 없음  안전운전 의무 불이행          주행 중   \n",
       "\n",
       "      신체상해정도가해자 신체상해정도피해자  ... 피해자신체상해주부위    당사자종별가해자 차량용도가해자 도로종류       도로형태  \\\n",
       "0          상해없음        경상  ...        하반신  원동기/이륜/자전거     자전거   기타      기타단일로   \n",
       "1          상해없음        중상  ...    머리/얼굴/목       소형/경형     승용차   시도      기타단일로   \n",
       "2          상해없음        경상  ...         기타       소형/경형     승용차   시도      기타단일로   \n",
       "3          상해없음        중상  ...         기타       중형/대형     화물차   기타      기타단일로   \n",
       "4          상해없음        중상  ...    머리/얼굴/목       중형/대형     승용차   기타      기타단일로   \n",
       "...         ...       ...  ...        ...         ...     ...  ...        ...   \n",
       "57565      상해없음        경상  ...        상반신      승합/승용차     승용차   시도  지하차도(도로)내   \n",
       "57566      상해없음        경상  ...        상반신      승합/승용차     승용차   군도      교차로부근   \n",
       "57567      상해없음        중상  ...        하반신      승합/승용차     승용차   군도  지하차도(도로)내   \n",
       "57568      상해없음        중상  ...        하반신      승합/승용차     승용차   시도      기타단일로   \n",
       "57569      상해없음        중상  ...        하반신      승합/승용차     승용차   기타        교차로   \n",
       "\n",
       "      도로선형 기상상태   노면상태     교차로형태 사고심각도  \n",
       "0       평지   맑음  서리/결빙     교차로아님     2  \n",
       "1       평지   맑음     건조     교차로아님    32  \n",
       "2       평지   맑음     건조     교차로아님     2  \n",
       "3       평지   맑음     건조     교차로아님    32  \n",
       "4       평지   맑음     건조     교차로아님    32  \n",
       "...    ...  ...    ...       ...   ...  \n",
       "57565   평지   맑음     건조     교차로아님     2  \n",
       "57566   평지   맑음     건조  교차로 - 삼지     2  \n",
       "57567   평지   맑음     건조     교차로아님    32  \n",
       "57568   평지   맑음     건조     교차로아님    32  \n",
       "57569   평지   맑음     건조  교차로 - 삼지    32  \n",
       "\n",
       "[57570 rows x 21 columns]"
      ]
     },
     "execution_count": 163,
     "metadata": {},
     "output_type": "execute_result"
    }
   ],
   "source": [
    "df"
   ]
  },
  {
   "cell_type": "code",
   "execution_count": 164,
   "metadata": {},
   "outputs": [],
   "source": [
    "df.to_csv('3차전처리데이터_분산분석.csv',encoding='cp949')"
   ]
  },
  {
   "cell_type": "code",
   "execution_count": null,
   "metadata": {},
   "outputs": [],
   "source": []
  }
 ],
 "metadata": {
  "kernelspec": {
   "display_name": "Python 3",
   "language": "python",
   "name": "python3"
  },
  "language_info": {
   "codemirror_mode": {
    "name": "ipython",
    "version": 3
   },
   "file_extension": ".py",
   "mimetype": "text/x-python",
   "name": "python",
   "nbconvert_exporter": "python",
   "pygments_lexer": "ipython3",
   "version": "3.8.3"
  }
 },
 "nbformat": 4,
 "nbformat_minor": 4
}
