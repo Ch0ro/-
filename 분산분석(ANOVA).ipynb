{
 "cells": [
  {
   "cell_type": "code",
   "execution_count": 2,
   "metadata": {},
   "outputs": [],
   "source": [
    "import scipy.stats as stats\n",
    "import pandas as pd\n",
    "import urllib\n",
    "from statsmodels.formula.api import ols\n",
    "from statsmodels.stats.anova import anova_lm\n",
    "import matplotlib.pyplot as plt\n",
    "import numpy as np\n",
    "%matplotlib inline\n",
    "from statsmodels.formula.api import ols\n",
    "from statsmodels.stats.anova import anova_lm\n",
    "from statsmodels.stats.multicomp import pairwise_tukeyhsd\n",
    "import warnings\n",
    "warnings.filterwarnings(\"ignore\")"
   ]
  },
  {
   "cell_type": "code",
   "execution_count": 3,
   "metadata": {},
   "outputs": [],
   "source": [
    "import matplotlib\n",
    "from matplotlib import font_manager, rc\n",
    "import platform\n",
    "\n",
    "matplotlib.rcParams['axes.unicode_minus'] = False\n",
    "\n",
    "font_name = font_manager.FontProperties(fname=\"c:/Windows/Fonts/malgun.ttf\").get_name()\n",
    "rc('font', family=font_name)"
   ]
  },
  {
   "cell_type": "code",
   "execution_count": 4,
   "metadata": {},
   "outputs": [],
   "source": [
    "df = pd.read_csv('./2차전처리데이터.csv',encoding='cp949')"
   ]
  },
  {
   "cell_type": "code",
   "execution_count": 5,
   "metadata": {},
   "outputs": [
    {
     "name": "stdout",
     "output_type": "stream",
     "text": [
      "<class 'pandas.core.frame.DataFrame'>\n",
      "RangeIndex: 57570 entries, 0 to 57569\n",
      "Data columns (total 25 columns):\n",
      " #   Column      Non-Null Count  Dtype \n",
      "---  ------      --------------  ----- \n",
      " 0   요일          57570 non-null  object\n",
      " 1   주야          57570 non-null  object\n",
      " 2   사고내용        57570 non-null  object\n",
      " 3   사고유형        57570 non-null  object\n",
      " 4   가해자성별       57570 non-null  object\n",
      " 5   피해자성별       57570 non-null  object\n",
      " 6   연령가해자       57570 non-null  object\n",
      " 7   가해자음주       57570 non-null  object\n",
      " 8   법규위반가해자     57570 non-null  object\n",
      " 9   행동유형가해자     57570 non-null  object\n",
      " 10  신체상해정도가해자   57570 non-null  object\n",
      " 11  신체상해정도피해자   57570 non-null  object\n",
      " 12  가해자신체상해주부위  57570 non-null  object\n",
      " 13  피해자신체상해주부위  57570 non-null  object\n",
      " 14  당사자종별가해자    57570 non-null  object\n",
      " 15  차량용도가해자     57570 non-null  object\n",
      " 16  도로종류        57570 non-null  object\n",
      " 17  도로형태        57570 non-null  object\n",
      " 18  노인보호구역_여부   57570 non-null  object\n",
      " 19  어린이보호구역_여부  57570 non-null  object\n",
      " 20  도로선형        57570 non-null  object\n",
      " 21  기상상태        57570 non-null  object\n",
      " 22  노면상태        57570 non-null  object\n",
      " 23  교차로형태       57570 non-null  object\n",
      " 24  사고심각도       57570 non-null  int64 \n",
      "dtypes: int64(1), object(24)\n",
      "memory usage: 11.0+ MB\n"
     ]
    }
   ],
   "source": [
    "df.info()"
   ]
  },
  {
   "cell_type": "markdown",
   "metadata": {},
   "source": [
    " # 첫 번째 괄호는 유의수준 0.05로 기각 / 두 번째 괄호는 유의수준 0.01로 기각"
   ]
  },
  {
   "cell_type": "markdown",
   "metadata": {},
   "source": [
    "## 요일 (X) / (X)"
   ]
  },
  {
   "cell_type": "code",
   "execution_count": 6,
   "metadata": {},
   "outputs": [
    {
     "data": {
      "text/html": [
       "<div>\n",
       "<style scoped>\n",
       "    .dataframe tbody tr th:only-of-type {\n",
       "        vertical-align: middle;\n",
       "    }\n",
       "\n",
       "    .dataframe tbody tr th {\n",
       "        vertical-align: top;\n",
       "    }\n",
       "\n",
       "    .dataframe thead th {\n",
       "        text-align: right;\n",
       "    }\n",
       "</style>\n",
       "<table border=\"1\" class=\"dataframe\">\n",
       "  <thead>\n",
       "    <tr style=\"text-align: right;\">\n",
       "      <th></th>\n",
       "      <th>df</th>\n",
       "      <th>sum_sq</th>\n",
       "      <th>mean_sq</th>\n",
       "      <th>F</th>\n",
       "      <th>PR(&gt;F)</th>\n",
       "    </tr>\n",
       "  </thead>\n",
       "  <tbody>\n",
       "    <tr>\n",
       "      <th>C(요일)</th>\n",
       "      <td>6.0</td>\n",
       "      <td>5.237630e+04</td>\n",
       "      <td>8729.382854</td>\n",
       "      <td>1.910685</td>\n",
       "      <td>0.075069</td>\n",
       "    </tr>\n",
       "    <tr>\n",
       "      <th>Residual</th>\n",
       "      <td>57563.0</td>\n",
       "      <td>2.629891e+08</td>\n",
       "      <td>4568.717888</td>\n",
       "      <td>NaN</td>\n",
       "      <td>NaN</td>\n",
       "    </tr>\n",
       "  </tbody>\n",
       "</table>\n",
       "</div>"
      ],
      "text/plain": [
       "               df        sum_sq      mean_sq         F    PR(>F)\n",
       "C(요일)         6.0  5.237630e+04  8729.382854  1.910685  0.075069\n",
       "Residual  57563.0  2.629891e+08  4568.717888       NaN       NaN"
      ]
     },
     "execution_count": 6,
     "metadata": {},
     "output_type": "execute_result"
    }
   ],
   "source": [
    "model = ols('사고심각도 ~ C(요일)', df).fit()\n",
    "anova_lm(model)"
   ]
  },
  {
   "cell_type": "markdown",
   "metadata": {},
   "source": [
    "---"
   ]
  },
  {
   "cell_type": "markdown",
   "metadata": {},
   "source": [
    "## 주야 (O) / (O)"
   ]
  },
  {
   "cell_type": "code",
   "execution_count": 7,
   "metadata": {},
   "outputs": [
    {
     "data": {
      "text/html": [
       "<div>\n",
       "<style scoped>\n",
       "    .dataframe tbody tr th:only-of-type {\n",
       "        vertical-align: middle;\n",
       "    }\n",
       "\n",
       "    .dataframe tbody tr th {\n",
       "        vertical-align: top;\n",
       "    }\n",
       "\n",
       "    .dataframe thead th {\n",
       "        text-align: right;\n",
       "    }\n",
       "</style>\n",
       "<table border=\"1\" class=\"dataframe\">\n",
       "  <thead>\n",
       "    <tr style=\"text-align: right;\">\n",
       "      <th></th>\n",
       "      <th>df</th>\n",
       "      <th>sum_sq</th>\n",
       "      <th>mean_sq</th>\n",
       "      <th>F</th>\n",
       "      <th>PR(&gt;F)</th>\n",
       "    </tr>\n",
       "  </thead>\n",
       "  <tbody>\n",
       "    <tr>\n",
       "      <th>C(주야)</th>\n",
       "      <td>1.0</td>\n",
       "      <td>3.517933e+06</td>\n",
       "      <td>3.517933e+06</td>\n",
       "      <td>780.35446</td>\n",
       "      <td>1.394949e-170</td>\n",
       "    </tr>\n",
       "    <tr>\n",
       "      <th>Residual</th>\n",
       "      <td>57568.0</td>\n",
       "      <td>2.595236e+08</td>\n",
       "      <td>4.508122e+03</td>\n",
       "      <td>NaN</td>\n",
       "      <td>NaN</td>\n",
       "    </tr>\n",
       "  </tbody>\n",
       "</table>\n",
       "</div>"
      ],
      "text/plain": [
       "               df        sum_sq       mean_sq          F         PR(>F)\n",
       "C(주야)         1.0  3.517933e+06  3.517933e+06  780.35446  1.394949e-170\n",
       "Residual  57568.0  2.595236e+08  4.508122e+03        NaN            NaN"
      ]
     },
     "execution_count": 7,
     "metadata": {},
     "output_type": "execute_result"
    }
   ],
   "source": [
    "model = ols('사고심각도 ~ C(주야)', df).fit()\n",
    "anova_lm(model)"
   ]
  },
  {
   "cell_type": "code",
   "execution_count": 8,
   "metadata": {},
   "outputs": [
    {
     "name": "stdout",
     "output_type": "stream",
     "text": [
      " Multiple Comparison of Means - Tukey HSD, FWER=0.05 \n",
      "=====================================================\n",
      "group1 group2 meandiff p-adj  lower    upper   reject\n",
      "-----------------------------------------------------\n",
      "     야      주  -17.133 0.001 -18.3351 -15.9309   True\n",
      "-----------------------------------------------------\n"
     ]
    }
   ],
   "source": [
    "posthoc = pairwise_tukeyhsd(df['사고심각도'], df['주야'], alpha=0.05)\n",
    "print(posthoc)"
   ]
  },
  {
   "cell_type": "markdown",
   "metadata": {},
   "source": [
    "---"
   ]
  },
  {
   "cell_type": "markdown",
   "metadata": {},
   "source": [
    "## 사고유형 (O) / (O)"
   ]
  },
  {
   "cell_type": "code",
   "execution_count": 9,
   "metadata": {},
   "outputs": [
    {
     "data": {
      "text/html": [
       "<div>\n",
       "<style scoped>\n",
       "    .dataframe tbody tr th:only-of-type {\n",
       "        vertical-align: middle;\n",
       "    }\n",
       "\n",
       "    .dataframe tbody tr th {\n",
       "        vertical-align: top;\n",
       "    }\n",
       "\n",
       "    .dataframe thead th {\n",
       "        text-align: right;\n",
       "    }\n",
       "</style>\n",
       "<table border=\"1\" class=\"dataframe\">\n",
       "  <thead>\n",
       "    <tr style=\"text-align: right;\">\n",
       "      <th></th>\n",
       "      <th>df</th>\n",
       "      <th>sum_sq</th>\n",
       "      <th>mean_sq</th>\n",
       "      <th>F</th>\n",
       "      <th>PR(&gt;F)</th>\n",
       "    </tr>\n",
       "  </thead>\n",
       "  <tbody>\n",
       "    <tr>\n",
       "      <th>C(사고유형)</th>\n",
       "      <td>2.0</td>\n",
       "      <td>2.831114e+06</td>\n",
       "      <td>1.415557e+06</td>\n",
       "      <td>313.167213</td>\n",
       "      <td>5.342782e-136</td>\n",
       "    </tr>\n",
       "    <tr>\n",
       "      <th>Residual</th>\n",
       "      <td>57567.0</td>\n",
       "      <td>2.602104e+08</td>\n",
       "      <td>4.520131e+03</td>\n",
       "      <td>NaN</td>\n",
       "      <td>NaN</td>\n",
       "    </tr>\n",
       "  </tbody>\n",
       "</table>\n",
       "</div>"
      ],
      "text/plain": [
       "               df        sum_sq       mean_sq           F         PR(>F)\n",
       "C(사고유형)       2.0  2.831114e+06  1.415557e+06  313.167213  5.342782e-136\n",
       "Residual  57567.0  2.602104e+08  4.520131e+03         NaN            NaN"
      ]
     },
     "execution_count": 9,
     "metadata": {},
     "output_type": "execute_result"
    }
   ],
   "source": [
    "model = ols('사고심각도 ~ C(사고유형)', df).fit()\n",
    "anova_lm(model)"
   ]
  },
  {
   "cell_type": "code",
   "execution_count": 10,
   "metadata": {},
   "outputs": [
    {
     "name": "stdout",
     "output_type": "stream",
     "text": [
      "   Multiple Comparison of Means - Tukey HSD, FWER=0.05   \n",
      "=========================================================\n",
      "   group1   group2 meandiff p-adj   lower   upper  reject\n",
      "---------------------------------------------------------\n",
      "보도_길가장자리_기타  차도통행중  11.2364  0.001  8.9213 13.5516   True\n",
      "보도_길가장자리_기타    횡단중  14.6519  0.001 13.2648  16.039   True\n",
      "      차도통행중    횡단중   3.4155 0.0014  1.1278  5.7033   True\n",
      "---------------------------------------------------------\n"
     ]
    }
   ],
   "source": [
    "posthoc = pairwise_tukeyhsd(df['사고심각도'], df['사고유형'], alpha=0.05)\n",
    "print(posthoc)"
   ]
  },
  {
   "cell_type": "code",
   "execution_count": 11,
   "metadata": {},
   "outputs": [
    {
     "data": {
      "image/png": "[encoded data removed]",
      "text/plain": [
       "<Figure size 720x432 with 1 Axes>"
      ]
     },
     "metadata": {
      "needs_background": "light"
     },
     "output_type": "display_data"
    }
   ],
   "source": [
    "fig = posthoc.plot_simultaneous()"
   ]
  },
  {
   "cell_type": "markdown",
   "metadata": {},
   "source": [
    "---"
   ]
  },
  {
   "cell_type": "markdown",
   "metadata": {},
   "source": [
    "## 가해자성별 (O) / (O)"
   ]
  },
  {
   "cell_type": "code",
   "execution_count": 12,
   "metadata": {},
   "outputs": [
    {
     "data": {
      "text/html": [
       "<div>\n",
       "<style scoped>\n",
       "    .dataframe tbody tr th:only-of-type {\n",
       "        vertical-align: middle;\n",
       "    }\n",
       "\n",
       "    .dataframe tbody tr th {\n",
       "        vertical-align: top;\n",
       "    }\n",
       "\n",
       "    .dataframe thead th {\n",
       "        text-align: right;\n",
       "    }\n",
       "</style>\n",
       "<table border=\"1\" class=\"dataframe\">\n",
       "  <thead>\n",
       "    <tr style=\"text-align: right;\">\n",
       "      <th></th>\n",
       "      <th>df</th>\n",
       "      <th>sum_sq</th>\n",
       "      <th>mean_sq</th>\n",
       "      <th>F</th>\n",
       "      <th>PR(&gt;F)</th>\n",
       "    </tr>\n",
       "  </thead>\n",
       "  <tbody>\n",
       "    <tr>\n",
       "      <th>C(가해자성별)</th>\n",
       "      <td>2.0</td>\n",
       "      <td>2.080098e+06</td>\n",
       "      <td>1.040049e+06</td>\n",
       "      <td>229.430484</td>\n",
       "      <td>5.683571e-100</td>\n",
       "    </tr>\n",
       "    <tr>\n",
       "      <th>Residual</th>\n",
       "      <td>57567.0</td>\n",
       "      <td>2.609614e+08</td>\n",
       "      <td>4.533177e+03</td>\n",
       "      <td>NaN</td>\n",
       "      <td>NaN</td>\n",
       "    </tr>\n",
       "  </tbody>\n",
       "</table>\n",
       "</div>"
      ],
      "text/plain": [
       "               df        sum_sq       mean_sq           F         PR(>F)\n",
       "C(가해자성별)      2.0  2.080098e+06  1.040049e+06  229.430484  5.683571e-100\n",
       "Residual  57567.0  2.609614e+08  4.533177e+03         NaN            NaN"
      ]
     },
     "execution_count": 12,
     "metadata": {},
     "output_type": "execute_result"
    }
   ],
   "source": [
    "model = ols('사고심각도 ~ C(가해자성별)', df).fit()\n",
    "anova_lm(model)"
   ]
  },
  {
   "cell_type": "code",
   "execution_count": 13,
   "metadata": {},
   "outputs": [
    {
     "name": "stdout",
     "output_type": "stream",
     "text": [
      "Multiple Comparison of Means - Tukey HSD, FWER=0.05 \n",
      "====================================================\n",
      "group1 group2 meandiff p-adj  lower    upper  reject\n",
      "----------------------------------------------------\n",
      "  기타불명      남  31.6878 0.001  27.6357 35.7399   True\n",
      "  기타불명      여  23.1193 0.001  18.9045 27.3341   True\n",
      "     남      여  -8.5685 0.001 -10.1503 -6.9866   True\n",
      "----------------------------------------------------\n"
     ]
    }
   ],
   "source": [
    "posthoc = pairwise_tukeyhsd(df['사고심각도'], df['가해자성별'], alpha=0.05)\n",
    "print(posthoc)"
   ]
  },
  {
   "cell_type": "code",
   "execution_count": 14,
   "metadata": {},
   "outputs": [
    {
     "data": {
      "image/png": "[encoded data removed]",
      "text/plain": [
       "<Figure size 720x432 with 1 Axes>"
      ]
     },
     "metadata": {
      "needs_background": "light"
     },
     "output_type": "display_data"
    }
   ],
   "source": [
    "fig = posthoc.plot_simultaneous()"
   ]
  },
  {
   "cell_type": "markdown",
   "metadata": {},
   "source": [
    "---"
   ]
  },
  {
   "cell_type": "markdown",
   "metadata": {},
   "source": [
    "## 피해자성별 (X) / (X)"
   ]
  },
  {
   "cell_type": "code",
   "execution_count": 15,
   "metadata": {},
   "outputs": [
    {
     "data": {
      "text/html": [
       "<div>\n",
       "<style scoped>\n",
       "    .dataframe tbody tr th:only-of-type {\n",
       "        vertical-align: middle;\n",
       "    }\n",
       "\n",
       "    .dataframe tbody tr th {\n",
       "        vertical-align: top;\n",
       "    }\n",
       "\n",
       "    .dataframe thead th {\n",
       "        text-align: right;\n",
       "    }\n",
       "</style>\n",
       "<table border=\"1\" class=\"dataframe\">\n",
       "  <thead>\n",
       "    <tr style=\"text-align: right;\">\n",
       "      <th></th>\n",
       "      <th>df</th>\n",
       "      <th>sum_sq</th>\n",
       "      <th>mean_sq</th>\n",
       "      <th>F</th>\n",
       "      <th>PR(&gt;F)</th>\n",
       "    </tr>\n",
       "  </thead>\n",
       "  <tbody>\n",
       "    <tr>\n",
       "      <th>C(피해자성별)</th>\n",
       "      <td>1.0</td>\n",
       "      <td>5.415440e+02</td>\n",
       "      <td>541.543980</td>\n",
       "      <td>0.11852</td>\n",
       "      <td>0.730647</td>\n",
       "    </tr>\n",
       "    <tr>\n",
       "      <th>Residual</th>\n",
       "      <td>57568.0</td>\n",
       "      <td>2.630409e+08</td>\n",
       "      <td>4569.221486</td>\n",
       "      <td>NaN</td>\n",
       "      <td>NaN</td>\n",
       "    </tr>\n",
       "  </tbody>\n",
       "</table>\n",
       "</div>"
      ],
      "text/plain": [
       "               df        sum_sq      mean_sq        F    PR(>F)\n",
       "C(피해자성별)      1.0  5.415440e+02   541.543980  0.11852  0.730647\n",
       "Residual  57568.0  2.630409e+08  4569.221486      NaN       NaN"
      ]
     },
     "execution_count": 15,
     "metadata": {},
     "output_type": "execute_result"
    }
   ],
   "source": [
    "model = ols('사고심각도 ~ C(피해자성별)', df).fit()\n",
    "anova_lm(model)"
   ]
  },
  {
   "cell_type": "markdown",
   "metadata": {},
   "source": [
    "---"
   ]
  },
  {
   "cell_type": "markdown",
   "metadata": {},
   "source": [
    "## 연령가해자 (O) / (O)"
   ]
  },
  {
   "cell_type": "code",
   "execution_count": 16,
   "metadata": {},
   "outputs": [
    {
     "data": {
      "text/html": [
       "<div>\n",
       "<style scoped>\n",
       "    .dataframe tbody tr th:only-of-type {\n",
       "        vertical-align: middle;\n",
       "    }\n",
       "\n",
       "    .dataframe tbody tr th {\n",
       "        vertical-align: top;\n",
       "    }\n",
       "\n",
       "    .dataframe thead th {\n",
       "        text-align: right;\n",
       "    }\n",
       "</style>\n",
       "<table border=\"1\" class=\"dataframe\">\n",
       "  <thead>\n",
       "    <tr style=\"text-align: right;\">\n",
       "      <th></th>\n",
       "      <th>df</th>\n",
       "      <th>sum_sq</th>\n",
       "      <th>mean_sq</th>\n",
       "      <th>F</th>\n",
       "      <th>PR(&gt;F)</th>\n",
       "    </tr>\n",
       "  </thead>\n",
       "  <tbody>\n",
       "    <tr>\n",
       "      <th>C(연령가해자)</th>\n",
       "      <td>6.0</td>\n",
       "      <td>1.131853e+06</td>\n",
       "      <td>188642.214559</td>\n",
       "      <td>41.460147</td>\n",
       "      <td>9.781427e-51</td>\n",
       "    </tr>\n",
       "    <tr>\n",
       "      <th>Residual</th>\n",
       "      <td>57563.0</td>\n",
       "      <td>2.619096e+08</td>\n",
       "      <td>4549.964922</td>\n",
       "      <td>NaN</td>\n",
       "      <td>NaN</td>\n",
       "    </tr>\n",
       "  </tbody>\n",
       "</table>\n",
       "</div>"
      ],
      "text/plain": [
       "               df        sum_sq        mean_sq          F        PR(>F)\n",
       "C(연령가해자)      6.0  1.131853e+06  188642.214559  41.460147  9.781427e-51\n",
       "Residual  57563.0  2.619096e+08    4549.964922        NaN           NaN"
      ]
     },
     "execution_count": 16,
     "metadata": {},
     "output_type": "execute_result"
    }
   ],
   "source": [
    "model = ols('사고심각도 ~ C(연령가해자)', df).fit()\n",
    "anova_lm(model)"
   ]
  },
  {
   "cell_type": "code",
   "execution_count": 17,
   "metadata": {},
   "outputs": [
    {
     "name": "stdout",
     "output_type": "stream",
     "text": [
      "Multiple Comparison of Means - Tukey HSD, FWER=0.05 \n",
      "====================================================\n",
      "group1 group2 meandiff p-adj   lower   upper  reject\n",
      "----------------------------------------------------\n",
      " 20세이하 21-30세   18.852  0.001 14.2807 23.4233   True\n",
      " 20세이하 31-40세  19.2903  0.001 15.0615 23.5191   True\n",
      " 20세이하 41-50세  19.8305  0.001 15.7742 23.8869   True\n",
      " 20세이하 51-60세  20.2524  0.001  16.267 24.2379   True\n",
      " 20세이하 61-64세  20.8893  0.001 16.2525 25.5261   True\n",
      " 20세이하  65세이상  20.0477  0.001 15.7783  24.317   True\n",
      "21-30세 31-40세   0.4383    0.9 -3.0506  3.9272  False\n",
      "21-30세 41-50세   0.9785    0.9 -2.2991  4.2562  False\n",
      "21-30세 51-60세   1.4004 0.8383  -1.789  4.5899  False\n",
      "21-30세 61-64세   2.0373 0.7106 -1.9362  6.0108  False\n",
      "21-30세  65세이상   1.1957    0.9 -2.3422  4.7335  False\n",
      "31-40세 41-50세   0.5402    0.9 -2.2398  3.3203  False\n",
      "31-40세 51-60세   0.9621    0.9 -1.7134  3.6377  False\n",
      "31-40세 61-64세    1.599 0.8239 -1.9752  5.1732  False\n",
      "31-40세  65세이상   0.7574    0.9 -2.3252  3.8399  False\n",
      "41-50세 51-60세   0.4219    0.9 -1.9717  2.8155  False\n",
      "41-50세 61-64세   1.0588    0.9 -2.3096  4.4271  False\n",
      "41-50세  65세이상   0.2171    0.9 -2.6242  3.0584  False\n",
      "51-60세 61-64세   0.6369    0.9 -2.6457  3.9195  False\n",
      "51-60세  65세이상  -0.2048    0.9 -2.9439  2.5343  False\n",
      "61-64세  65세이상  -0.8416    0.9 -4.4637  2.7804  False\n",
      "----------------------------------------------------\n"
     ]
    }
   ],
   "source": [
    "posthoc = pairwise_tukeyhsd(df['사고심각도'], df['연령가해자'], alpha=0.05)\n",
    "print(posthoc)"
   ]
  },
  {
   "cell_type": "code",
   "execution_count": 18,
   "metadata": {},
   "outputs": [
    {
     "data": {
      "image/png": "[encoded data removed]",
      "text/plain": [
       "<Figure size 720x432 with 1 Axes>"
      ]
     },
     "metadata": {
      "needs_background": "light"
     },
     "output_type": "display_data"
    }
   ],
   "source": [
    "fig = posthoc.plot_simultaneous()"
   ]
  },
  {
   "cell_type": "markdown",
   "metadata": {},
   "source": [
    "---"
   ]
  },
  {
   "cell_type": "markdown",
   "metadata": {},
   "source": [
    "## 가해자음주 (O) / (O)"
   ]
  },
  {
   "cell_type": "code",
   "execution_count": 19,
   "metadata": {},
   "outputs": [
    {
     "data": {
      "text/html": [
       "<div>\n",
       "<style scoped>\n",
       "    .dataframe tbody tr th:only-of-type {\n",
       "        vertical-align: middle;\n",
       "    }\n",
       "\n",
       "    .dataframe tbody tr th {\n",
       "        vertical-align: top;\n",
       "    }\n",
       "\n",
       "    .dataframe thead th {\n",
       "        text-align: right;\n",
       "    }\n",
       "</style>\n",
       "<table border=\"1\" class=\"dataframe\">\n",
       "  <thead>\n",
       "    <tr style=\"text-align: right;\">\n",
       "      <th></th>\n",
       "      <th>df</th>\n",
       "      <th>sum_sq</th>\n",
       "      <th>mean_sq</th>\n",
       "      <th>F</th>\n",
       "      <th>PR(&gt;F)</th>\n",
       "    </tr>\n",
       "  </thead>\n",
       "  <tbody>\n",
       "    <tr>\n",
       "      <th>C(가해자음주)</th>\n",
       "      <td>2.0</td>\n",
       "      <td>6.098125e+05</td>\n",
       "      <td>304906.272613</td>\n",
       "      <td>66.884227</td>\n",
       "      <td>9.688266e-30</td>\n",
       "    </tr>\n",
       "    <tr>\n",
       "      <th>Residual</th>\n",
       "      <td>57567.0</td>\n",
       "      <td>2.624317e+08</td>\n",
       "      <td>4558.717173</td>\n",
       "      <td>NaN</td>\n",
       "      <td>NaN</td>\n",
       "    </tr>\n",
       "  </tbody>\n",
       "</table>\n",
       "</div>"
      ],
      "text/plain": [
       "               df        sum_sq        mean_sq          F        PR(>F)\n",
       "C(가해자음주)      2.0  6.098125e+05  304906.272613  66.884227  9.688266e-30\n",
       "Residual  57567.0  2.624317e+08    4558.717173        NaN           NaN"
      ]
     },
     "execution_count": 19,
     "metadata": {},
     "output_type": "execute_result"
    }
   ],
   "source": [
    "model = ols('사고심각도 ~ C(가해자음주)', df).fit()\n",
    "anova_lm(model)"
   ]
  },
  {
   "cell_type": "code",
   "execution_count": 20,
   "metadata": {},
   "outputs": [
    {
     "name": "stdout",
     "output_type": "stream",
     "text": [
      " Multiple Comparison of Means - Tukey HSD, FWER=0.05 \n",
      "=====================================================\n",
      "group1 group2 meandiff p-adj  lower    upper   reject\n",
      "-----------------------------------------------------\n",
      "    기타   음주운전  22.3677 0.001  17.5546  27.1808   True\n",
      "    기타  해당 없음   2.9573 0.001   1.6011   4.3134   True\n",
      "  음주운전  해당 없음 -19.4104 0.001 -24.2593 -14.5616   True\n",
      "-----------------------------------------------------\n"
     ]
    }
   ],
   "source": [
    "posthoc = pairwise_tukeyhsd(df['사고심각도'], df['가해자음주'], alpha=0.05)\n",
    "print(posthoc)"
   ]
  },
  {
   "cell_type": "code",
   "execution_count": 21,
   "metadata": {},
   "outputs": [
    {
     "data": {
      "image/png": "[encoded data removed]",
      "text/plain": [
       "<Figure size 720x432 with 1 Axes>"
      ]
     },
     "metadata": {
      "needs_background": "light"
     },
     "output_type": "display_data"
    }
   ],
   "source": [
    "fig = posthoc.plot_simultaneous()"
   ]
  },
  {
   "cell_type": "markdown",
   "metadata": {},
   "source": [
    "---"
   ]
  },
  {
   "cell_type": "markdown",
   "metadata": {},
   "source": [
    "## 법규위반가해자 (O) / (O)"
   ]
  },
  {
   "cell_type": "code",
   "execution_count": 67,
   "metadata": {},
   "outputs": [
    {
     "data": {
      "text/html": [
       "<div>\n",
       "<style scoped>\n",
       "    .dataframe tbody tr th:only-of-type {\n",
       "        vertical-align: middle;\n",
       "    }\n",
       "\n",
       "    .dataframe tbody tr th {\n",
       "        vertical-align: top;\n",
       "    }\n",
       "\n",
       "    .dataframe thead th {\n",
       "        text-align: right;\n",
       "    }\n",
       "</style>\n",
       "<table border=\"1\" class=\"dataframe\">\n",
       "  <thead>\n",
       "    <tr style=\"text-align: right;\">\n",
       "      <th></th>\n",
       "      <th>df</th>\n",
       "      <th>sum_sq</th>\n",
       "      <th>mean_sq</th>\n",
       "      <th>F</th>\n",
       "      <th>PR(&gt;F)</th>\n",
       "    </tr>\n",
       "  </thead>\n",
       "  <tbody>\n",
       "    <tr>\n",
       "      <th>C(법규위반가해자)</th>\n",
       "      <td>7.0</td>\n",
       "      <td>9.229609e+06</td>\n",
       "      <td>1.318516e+06</td>\n",
       "      <td>299.026188</td>\n",
       "      <td>0.0</td>\n",
       "    </tr>\n",
       "    <tr>\n",
       "      <th>Residual</th>\n",
       "      <td>57562.0</td>\n",
       "      <td>2.538119e+08</td>\n",
       "      <td>4.409365e+03</td>\n",
       "      <td>NaN</td>\n",
       "      <td>NaN</td>\n",
       "    </tr>\n",
       "  </tbody>\n",
       "</table>\n",
       "</div>"
      ],
      "text/plain": [
       "                 df        sum_sq       mean_sq           F  PR(>F)\n",
       "C(법규위반가해자)      7.0  9.229609e+06  1.318516e+06  299.026188     0.0\n",
       "Residual    57562.0  2.538119e+08  4.409365e+03         NaN     NaN"
      ]
     },
     "execution_count": 67,
     "metadata": {},
     "output_type": "execute_result"
    }
   ],
   "source": [
    "model = ols('사고심각도 ~ C(법규위반가해자)', df).fit()\n",
    "anova_lm(model)"
   ]
  },
  {
   "cell_type": "code",
   "execution_count": 23,
   "metadata": {},
   "outputs": [
    {
     "name": "stdout",
     "output_type": "stream",
     "text": [
      "        Multiple Comparison of Means - Tukey HSD, FWER=0.05        \n",
      "===================================================================\n",
      "   group1      group2    meandiff p-adj    lower     upper   reject\n",
      "-------------------------------------------------------------------\n",
      "         과속 교차로 통행방법 위반  -167.882  0.001 -182.0872 -153.6769   True\n",
      "         과속          기타 -168.1316  0.001 -179.4621 -156.8011   True\n",
      "         과속 보행자 보호의무 위반 -157.4664  0.001 -168.3649  -146.568   True\n",
      "         과속        신호위반 -154.7323  0.001 -166.0327 -143.4318   True\n",
      "         과속    안전거리 미확보 -151.5835  0.001 -176.4924 -126.6745   True\n",
      "         과속 안전운전 의무 불이행 -153.9485  0.001 -164.6762 -143.2208   True\n",
      "         과속      중앙선 침범 -145.3702  0.001 -158.4684 -132.2719   True\n",
      "교차로 통행방법 위반          기타   -0.2495    0.9  -10.3467    9.8477  False\n",
      "교차로 통행방법 위반 보행자 보호의무 위반   10.4156 0.0228    0.8058   20.0254   True\n",
      "교차로 통행방법 위반        신호위반   13.1498 0.0019    3.0863   23.2132   True\n",
      "교차로 통행방법 위반    안전거리 미확보   16.2986 0.4655   -8.0741   40.6713  False\n",
      "교차로 통행방법 위반 안전운전 의무 불이행   13.9336  0.001    4.5178   23.3493   True\n",
      "교차로 통행방법 위반      중앙선 침범   22.5119  0.001   10.4646   34.5592   True\n",
      "         기타 보행자 보호의무 위반   10.6651  0.001    6.3128   15.0175   True\n",
      "         기타        신호위반   13.3993  0.001    8.1204   18.6782   True\n",
      "         기타    안전거리 미확보   16.5481 0.3534    -6.269   39.3653  False\n",
      "         기타 안전운전 의무 불이행   14.1831  0.001    10.278   18.0882   True\n",
      "         기타      중앙선 침범   22.7614  0.001    14.292   31.2309   True\n",
      "보행자 보호의무 위반        신호위반    2.7342 0.5201   -1.5393    7.0077  False\n",
      "보행자 보호의무 위반    안전거리 미확보     5.883    0.9  -16.7227   28.4887  False\n",
      "보행자 보호의무 위반 안전운전 의무 불이행     3.518  0.001    1.1418    5.8941   True\n",
      "보행자 보호의무 위반      중앙선 침범   12.0963  0.001    4.2142   19.9784   True\n",
      "       신호위반    안전거리 미확보    3.1488    0.9  -19.6534   25.9511  False\n",
      "       신호위반 안전운전 의무 불이행    0.7838    0.9   -3.0332    4.6009  False\n",
      "       신호위반      중앙선 침범    9.3621 0.0174    0.9329   17.7913   True\n",
      "   안전거리 미확보 안전운전 의무 불이행    -2.365    0.9  -24.8889   20.1589  False\n",
      "   안전거리 미확보      중앙선 침범    6.2133    0.9  -17.5313   29.9579  False\n",
      "안전운전 의무 불이행      중앙선 침범    8.5783 0.0155     0.934   16.2226   True\n",
      "-------------------------------------------------------------------\n"
     ]
    }
   ],
   "source": [
    "posthoc = pairwise_tukeyhsd(df['사고심각도'], df['법규위반가해자'], alpha=0.05)\n",
    "print(posthoc)"
   ]
  },
  {
   "cell_type": "code",
   "execution_count": 24,
   "metadata": {},
   "outputs": [
    {
     "data": {
      "image/png": "[encoded data removed]",
      "text/plain": [
       "<Figure size 720x432 with 1 Axes>"
      ]
     },
     "metadata": {
      "needs_background": "light"
     },
     "output_type": "display_data"
    }
   ],
   "source": [
    "fig = posthoc.plot_simultaneous()"
   ]
  },
  {
   "cell_type": "markdown",
   "metadata": {},
   "source": [
    "---"
   ]
  },
  {
   "cell_type": "markdown",
   "metadata": {},
   "source": [
    "## 행동유형가해자 (O) / (O)"
   ]
  },
  {
   "cell_type": "code",
   "execution_count": 25,
   "metadata": {},
   "outputs": [
    {
     "data": {
      "text/html": [
       "<div>\n",
       "<style scoped>\n",
       "    .dataframe tbody tr th:only-of-type {\n",
       "        vertical-align: middle;\n",
       "    }\n",
       "\n",
       "    .dataframe tbody tr th {\n",
       "        vertical-align: top;\n",
       "    }\n",
       "\n",
       "    .dataframe thead th {\n",
       "        text-align: right;\n",
       "    }\n",
       "</style>\n",
       "<table border=\"1\" class=\"dataframe\">\n",
       "  <thead>\n",
       "    <tr style=\"text-align: right;\">\n",
       "      <th></th>\n",
       "      <th>df</th>\n",
       "      <th>sum_sq</th>\n",
       "      <th>mean_sq</th>\n",
       "      <th>F</th>\n",
       "      <th>PR(&gt;F)</th>\n",
       "    </tr>\n",
       "  </thead>\n",
       "  <tbody>\n",
       "    <tr>\n",
       "      <th>C(행동유형가해자)</th>\n",
       "      <td>9.0</td>\n",
       "      <td>5.444468e+06</td>\n",
       "      <td>604940.898539</td>\n",
       "      <td>135.173919</td>\n",
       "      <td>1.693458e-253</td>\n",
       "    </tr>\n",
       "    <tr>\n",
       "      <th>Residual</th>\n",
       "      <td>57560.0</td>\n",
       "      <td>2.575970e+08</td>\n",
       "      <td>4475.278249</td>\n",
       "      <td>NaN</td>\n",
       "      <td>NaN</td>\n",
       "    </tr>\n",
       "  </tbody>\n",
       "</table>\n",
       "</div>"
      ],
      "text/plain": [
       "                 df        sum_sq        mean_sq           F         PR(>F)\n",
       "C(행동유형가해자)      9.0  5.444468e+06  604940.898539  135.173919  1.693458e-253\n",
       "Residual    57560.0  2.575970e+08    4475.278249         NaN            NaN"
      ]
     },
     "execution_count": 25,
     "metadata": {},
     "output_type": "execute_result"
    }
   ],
   "source": [
    "model = ols('사고심각도 ~ C(행동유형가해자)', df).fit()\n",
    "anova_lm(model)"
   ]
  },
  {
   "cell_type": "code",
   "execution_count": 26,
   "metadata": {},
   "outputs": [
    {
     "name": "stdout",
     "output_type": "stream",
     "text": [
      "  Multiple Comparison of Means - Tukey HSD, FWER=0.05   \n",
      "========================================================\n",
      " group1  group2 meandiff p-adj   lower    upper   reject\n",
      "--------------------------------------------------------\n",
      "   U턴 중   기타/불명 -16.2858  0.001 -26.9881  -5.5835   True\n",
      "   U턴 중  앞지르기 중  14.9119 0.7449  -12.204  42.0278  False\n",
      "   U턴 중  좌우회전 중   -0.162    0.9 -10.0656   9.7416  False\n",
      "   U턴 중    주정차중 -12.5591 0.0437 -24.9421   -0.176   True\n",
      "   U턴 중 주행 중 대기 -15.9769 0.2074   -35.26   3.3063  False\n",
      "   U턴 중    직진 중  15.3383  0.001    5.503  25.1737   True\n",
      "   U턴 중  진로변경 중  24.5856 0.0042   4.5321  44.6391   True\n",
      "   U턴 중    출발 중   1.2342    0.9 -11.6231  14.0914  False\n",
      "   U턴 중    후진 중  -4.4176    0.9 -14.6077   5.7725  False\n",
      "  기타/불명  앞지르기 중  31.1976 0.0047    5.523  56.8722   True\n",
      "  기타/불명  좌우회전 중  16.1238  0.001   11.434  20.8136   True\n",
      "  기타/불명    주정차중   3.7267    0.9  -5.0627  12.5161  False\n",
      "  기타/불명 주행 중 대기   0.3089    0.9 -16.8885  17.5063  False\n",
      "  기타/불명    직진 중  31.6241  0.001  27.0803  36.1679   True\n",
      "  기타/불명  진로변경 중  40.8714  0.001  22.8144  58.9284   True\n",
      "  기타/불명    출발 중  17.5199  0.001   8.0742  26.9657   True\n",
      "  기타/불명    후진 중  11.8681  0.001   6.6002  17.1361   True\n",
      " 앞지르기 중  좌우회전 중 -15.0738  0.658 -40.4259  10.2782  False\n",
      " 앞지르기 중    주정차중 -27.4709 0.0339 -53.8903  -1.0515   True\n",
      " 앞지르기 중 주행 중 대기 -30.8887 0.0411 -61.1622  -0.6152   True\n",
      " 앞지르기 중    직진 중   0.4265    0.9  -24.899   25.752  False\n",
      " 앞지르기 중  진로변경 중   9.6738    0.9 -21.0962  40.4437  False\n",
      " 앞지르기 중    출발 중 -13.6777  0.816 -40.3227  12.9673  False\n",
      " 앞지르기 중    후진 중 -19.3295 0.3246 -44.7948   6.1359  False\n",
      " 좌우회전 중    주정차중 -12.3971  0.001 -20.1942  -4.5999   True\n",
      " 좌우회전 중 주행 중 대기 -15.8149 0.0822  -32.527   0.8972  False\n",
      " 좌우회전 중    직진 중  15.5003  0.001  13.4538  17.5468   True\n",
      " 좌우회전 중  진로변경 중  24.7476  0.001   7.1522   42.343   True\n",
      " 좌우회전 중    출발 중   1.3961    0.9   -7.134   9.9263  False\n",
      " 좌우회전 중    후진 중  -4.2556 0.0025  -7.6161  -0.8952   True\n",
      "   주정차중 주행 중 대기  -3.4178    0.9 -21.7086   14.873  False\n",
      "   주정차중    직진 중  27.8974  0.001  20.1872  35.6076   True\n",
      "   주정차중  진로변경 중  37.1447  0.001  18.0435  56.2459   True\n",
      "   주정차중    출발 중  13.7932 0.0045   2.4785   25.108   True\n",
      "   주정차중    후진 중   8.1414  0.051  -0.0165  16.2994  False\n",
      "주행 중 대기    직진 중  31.3152  0.001  14.6435  47.9869   True\n",
      "주행 중 대기  진로변경 중  40.5625  0.001  16.4097  64.7152   True\n",
      "주행 중 대기    출발 중   17.211 0.0985   -1.404  35.8261  False\n",
      "주행 중 대기    후진 중  11.5592  0.482  -5.3242  28.4427  False\n",
      "   직진 중  진로변경 중   9.2473   0.79  -8.3098  26.8043  False\n",
      "   직진 중    출발 중 -14.1042  0.001  -22.555  -5.6534   True\n",
      "   직진 중    후진 중  -19.756  0.001 -22.9095 -16.6024   True\n",
      " 진로변경 중    출발 중 -23.3515 0.0055 -42.7634  -3.9395   True\n",
      " 진로변경 중    후진 중 -29.0032  0.001 -46.7615  -11.245   True\n",
      "   출발 중    후진 중  -5.6518 0.5739  -14.513   3.2094  False\n",
      "--------------------------------------------------------\n"
     ]
    }
   ],
   "source": [
    "posthoc = pairwise_tukeyhsd(df['사고심각도'], df['행동유형가해자'], alpha=0.05)\n",
    "print(posthoc)"
   ]
  },
  {
   "cell_type": "code",
   "execution_count": 27,
   "metadata": {},
   "outputs": [
    {
     "data": {
      "image/png": "[encoded data removed]",
      "text/plain": [
       "<Figure size 720x432 with 1 Axes>"
      ]
     },
     "metadata": {
      "needs_background": "light"
     },
     "output_type": "display_data"
    }
   ],
   "source": [
    "fig = posthoc.plot_simultaneous()"
   ]
  },
  {
   "cell_type": "markdown",
   "metadata": {},
   "source": [
    "---"
   ]
  },
  {
   "cell_type": "markdown",
   "metadata": {},
   "source": [
    "## 신체상해정도가해자 (O) / (O)"
   ]
  },
  {
   "cell_type": "code",
   "execution_count": 28,
   "metadata": {},
   "outputs": [
    {
     "data": {
      "text/html": [
       "<div>\n",
       "<style scoped>\n",
       "    .dataframe tbody tr th:only-of-type {\n",
       "        vertical-align: middle;\n",
       "    }\n",
       "\n",
       "    .dataframe tbody tr th {\n",
       "        vertical-align: top;\n",
       "    }\n",
       "\n",
       "    .dataframe thead th {\n",
       "        text-align: right;\n",
       "    }\n",
       "</style>\n",
       "<table border=\"1\" class=\"dataframe\">\n",
       "  <thead>\n",
       "    <tr style=\"text-align: right;\">\n",
       "      <th></th>\n",
       "      <th>df</th>\n",
       "      <th>sum_sq</th>\n",
       "      <th>mean_sq</th>\n",
       "      <th>F</th>\n",
       "      <th>PR(&gt;F)</th>\n",
       "    </tr>\n",
       "  </thead>\n",
       "  <tbody>\n",
       "    <tr>\n",
       "      <th>C(신체상해정도가해자)</th>\n",
       "      <td>5.0</td>\n",
       "      <td>2.287351e+06</td>\n",
       "      <td>457470.292261</td>\n",
       "      <td>100.990997</td>\n",
       "      <td>2.019130e-106</td>\n",
       "    </tr>\n",
       "    <tr>\n",
       "      <th>Residual</th>\n",
       "      <td>57564.0</td>\n",
       "      <td>2.607541e+08</td>\n",
       "      <td>4529.812602</td>\n",
       "      <td>NaN</td>\n",
       "      <td>NaN</td>\n",
       "    </tr>\n",
       "  </tbody>\n",
       "</table>\n",
       "</div>"
      ],
      "text/plain": [
       "                   df        sum_sq        mean_sq           F         PR(>F)\n",
       "C(신체상해정도가해자)      5.0  2.287351e+06  457470.292261  100.990997  2.019130e-106\n",
       "Residual      57564.0  2.607541e+08    4529.812602         NaN            NaN"
      ]
     },
     "execution_count": 28,
     "metadata": {},
     "output_type": "execute_result"
    }
   ],
   "source": [
    "model = ols('사고심각도 ~ C(신체상해정도가해자)', df).fit()\n",
    "anova_lm(model)"
   ]
  },
  {
   "cell_type": "code",
   "execution_count": 29,
   "metadata": {},
   "outputs": [
    {
     "name": "stdout",
     "output_type": "stream",
     "text": [
      "   Multiple Comparison of Means - Tukey HSD, FWER=0.05   \n",
      "=========================================================\n",
      "group1 group2  meandiff p-adj    lower     upper   reject\n",
      "---------------------------------------------------------\n",
      "    경상   기타불명  -28.2535  0.001  -39.2897  -17.2172   True\n",
      "    경상   부상신고  -14.4429 0.1672  -31.8143    2.9285  False\n",
      "    경상     사망  355.5958  0.001  269.1862  442.0055   True\n",
      "    경상   상해없음   -6.2966 0.5201  -16.7771     4.184  False\n",
      "    경상     중상   39.6385  0.001   19.3728   59.9041   True\n",
      "  기타불명   부상신고   13.8106 0.0665   -0.5157   28.1368  False\n",
      "  기타불명     사망  383.8493  0.001     298.0  469.6986   True\n",
      "  기타불명   상해없음   21.9569  0.001   18.3075   25.6064   True\n",
      "  기타불명     중상    67.892  0.001    50.167   85.6169   True\n",
      "  부상신고     사망  370.0387  0.001  283.1476  456.9299   True\n",
      "  부상신고   상해없음    8.1463 0.5445   -5.7564    22.049  False\n",
      "  부상신고     중상   54.0814  0.001   31.8521   76.3106   True\n",
      "    사망   상해없음 -361.8924  0.001 -447.6721 -276.1128   True\n",
      "    사망     중상 -315.9574  0.001 -403.4731 -228.4416   True\n",
      "  상해없음     중상    45.935  0.001   28.5506   63.3194   True\n",
      "---------------------------------------------------------\n"
     ]
    }
   ],
   "source": [
    "posthoc = pairwise_tukeyhsd(df['사고심각도'], df['신체상해정도가해자'], alpha=0.05)\n",
    "print(posthoc)"
   ]
  },
  {
   "cell_type": "code",
   "execution_count": 30,
   "metadata": {},
   "outputs": [
    {
     "data": {
      "image/png": "[encoded data removed]",
      "text/plain": [
       "<Figure size 720x432 with 1 Axes>"
      ]
     },
     "metadata": {
      "needs_background": "light"
     },
     "output_type": "display_data"
    }
   ],
   "source": [
    "fig = posthoc.plot_simultaneous()"
   ]
  },
  {
   "cell_type": "markdown",
   "metadata": {},
   "source": [
    "---"
   ]
  },
  {
   "cell_type": "markdown",
   "metadata": {},
   "source": [
    "## 신체상해정도피해자 (O) / (O)"
   ]
  },
  {
   "cell_type": "code",
   "execution_count": 31,
   "metadata": {},
   "outputs": [
    {
     "data": {
      "text/html": [
       "<div>\n",
       "<style scoped>\n",
       "    .dataframe tbody tr th:only-of-type {\n",
       "        vertical-align: middle;\n",
       "    }\n",
       "\n",
       "    .dataframe tbody tr th {\n",
       "        vertical-align: top;\n",
       "    }\n",
       "\n",
       "    .dataframe thead th {\n",
       "        text-align: right;\n",
       "    }\n",
       "</style>\n",
       "<table border=\"1\" class=\"dataframe\">\n",
       "  <thead>\n",
       "    <tr style=\"text-align: right;\">\n",
       "      <th></th>\n",
       "      <th>df</th>\n",
       "      <th>sum_sq</th>\n",
       "      <th>mean_sq</th>\n",
       "      <th>F</th>\n",
       "      <th>PR(&gt;F)</th>\n",
       "    </tr>\n",
       "  </thead>\n",
       "  <tbody>\n",
       "    <tr>\n",
       "      <th>C(신체상해정도피해자)</th>\n",
       "      <td>5.0</td>\n",
       "      <td>2.577266e+08</td>\n",
       "      <td>5.154533e+07</td>\n",
       "      <td>558277.120561</td>\n",
       "      <td>0.0</td>\n",
       "    </tr>\n",
       "    <tr>\n",
       "      <th>Residual</th>\n",
       "      <td>57564.0</td>\n",
       "      <td>5.314843e+06</td>\n",
       "      <td>9.232929e+01</td>\n",
       "      <td>NaN</td>\n",
       "      <td>NaN</td>\n",
       "    </tr>\n",
       "  </tbody>\n",
       "</table>\n",
       "</div>"
      ],
      "text/plain": [
       "                   df        sum_sq       mean_sq              F  PR(>F)\n",
       "C(신체상해정도피해자)      5.0  2.577266e+08  5.154533e+07  558277.120561     0.0\n",
       "Residual      57564.0  5.314843e+06  9.232929e+01            NaN     NaN"
      ]
     },
     "execution_count": 31,
     "metadata": {},
     "output_type": "execute_result"
    }
   ],
   "source": [
    "model = ols('사고심각도 ~ C(신체상해정도피해자)', df).fit()\n",
    "anova_lm(model)"
   ]
  },
  {
   "cell_type": "code",
   "execution_count": 32,
   "metadata": {},
   "outputs": [
    {
     "name": "stdout",
     "output_type": "stream",
     "text": [
      "   Multiple Comparison of Means - Tukey HSD, FWER=0.05   \n",
      "=========================================================\n",
      "group1 group2  meandiff p-adj    lower     upper   reject\n",
      "---------------------------------------------------------\n",
      "    경상   기타불명   -0.3301    0.9  -19.6938   19.0337  False\n",
      "    경상   부상신고   -0.9757  0.001   -1.6439   -0.3076   True\n",
      "    경상     사망  273.8659  0.001  273.3904  274.3414   True\n",
      "    경상   상해없음   10.4495  0.001    8.0109   12.8881   True\n",
      "    경상     중상   30.1704  0.001    29.916   30.4249   True\n",
      "  기타불명   부상신고   -0.6457    0.9  -20.0187   18.7274  False\n",
      "  기타불명     사망   274.196  0.001  254.8286  293.5633   True\n",
      "  기타불명   상해없음   10.7795 0.5998   -8.7349    30.294  False\n",
      "  기타불명     중상   30.5005  0.001   11.1373   49.8636   True\n",
      "  부상신고     사망  274.8417  0.001  274.0753   275.608   True\n",
      "  부상신고   상해없음   11.4252  0.001    8.9136   13.9367   True\n",
      "  부상신고     중상   31.1461  0.001   30.4935   31.7987   True\n",
      "    사망   상해없음 -263.4165  0.001 -265.8838 -260.9492   True\n",
      "    사망     중상 -243.6955  0.001 -244.1489 -243.2421   True\n",
      "  상해없음     중상   19.7209  0.001   17.2866   22.1553   True\n",
      "---------------------------------------------------------\n"
     ]
    }
   ],
   "source": [
    "posthoc = pairwise_tukeyhsd(df['사고심각도'], df['신체상해정도피해자'], alpha=0.05)\n",
    "print(posthoc)"
   ]
  },
  {
   "cell_type": "code",
   "execution_count": 33,
   "metadata": {},
   "outputs": [
    {
     "data": {
      "image/png": "[encoded data removed]",
      "text/plain": [
       "<Figure size 720x432 with 1 Axes>"
      ]
     },
     "metadata": {
      "needs_background": "light"
     },
     "output_type": "display_data"
    }
   ],
   "source": [
    "fig = posthoc.plot_simultaneous()"
   ]
  },
  {
   "cell_type": "markdown",
   "metadata": {},
   "source": [
    "---"
   ]
  },
  {
   "cell_type": "markdown",
   "metadata": {},
   "source": [
    "## 가해자신체상해주부위 (O) / (O)"
   ]
  },
  {
   "cell_type": "code",
   "execution_count": 34,
   "metadata": {},
   "outputs": [
    {
     "data": {
      "text/html": [
       "<div>\n",
       "<style scoped>\n",
       "    .dataframe tbody tr th:only-of-type {\n",
       "        vertical-align: middle;\n",
       "    }\n",
       "\n",
       "    .dataframe tbody tr th {\n",
       "        vertical-align: top;\n",
       "    }\n",
       "\n",
       "    .dataframe thead th {\n",
       "        text-align: right;\n",
       "    }\n",
       "</style>\n",
       "<table border=\"1\" class=\"dataframe\">\n",
       "  <thead>\n",
       "    <tr style=\"text-align: right;\">\n",
       "      <th></th>\n",
       "      <th>df</th>\n",
       "      <th>sum_sq</th>\n",
       "      <th>mean_sq</th>\n",
       "      <th>F</th>\n",
       "      <th>PR(&gt;F)</th>\n",
       "    </tr>\n",
       "  </thead>\n",
       "  <tbody>\n",
       "    <tr>\n",
       "      <th>C(가해자신체상해주부위)</th>\n",
       "      <td>17.0</td>\n",
       "      <td>3.356868e+05</td>\n",
       "      <td>19746.283355</td>\n",
       "      <td>4.325897</td>\n",
       "      <td>5.333828e-09</td>\n",
       "    </tr>\n",
       "    <tr>\n",
       "      <th>Residual</th>\n",
       "      <td>57552.0</td>\n",
       "      <td>2.627058e+08</td>\n",
       "      <td>4564.668426</td>\n",
       "      <td>NaN</td>\n",
       "      <td>NaN</td>\n",
       "    </tr>\n",
       "  </tbody>\n",
       "</table>\n",
       "</div>"
      ],
      "text/plain": [
       "                    df        sum_sq       mean_sq         F        PR(>F)\n",
       "C(가해자신체상해주부위)     17.0  3.356868e+05  19746.283355  4.325897  5.333828e-09\n",
       "Residual       57552.0  2.627058e+08   4564.668426       NaN           NaN"
      ]
     },
     "execution_count": 34,
     "metadata": {},
     "output_type": "execute_result"
    }
   ],
   "source": [
    "model = ols('사고심각도 ~ C(가해자신체상해주부위)', df).fit()\n",
    "anova_lm(model)"
   ]
  },
  {
   "cell_type": "code",
   "execution_count": 35,
   "metadata": {},
   "outputs": [
    {
     "name": "stdout",
     "output_type": "stream",
     "text": [
      "  Multiple Comparison of Means - Tukey HSD, FWER=0.05   \n",
      "========================================================\n",
      "group1 group2  meandiff p-adj    lower    upper   reject\n",
      "--------------------------------------------------------\n",
      "    가슴     기타  -38.1187 0.0531   -76.437   0.1996  False\n",
      "    가슴    대퇴부  -55.6311 0.0888 -114.4316   3.1694  False\n",
      "    가슴     뒷목   33.3798    0.9  -45.9067 112.6663  False\n",
      "    가슴      등  -51.7111    0.9 -290.0422   186.62  False\n",
      "    가슴     머리   -7.5683    0.9  -64.3076  49.1711  False\n",
      "    가슴      목  -30.7699    0.9  -97.8778  36.3379  False\n",
      "    가슴      발  -57.2272 0.0314 -112.2481  -2.2063   True\n",
      "    가슴     불명  -64.7944 0.2245 -141.3803  11.7914  False\n",
      "    가슴   상해없음  -46.3251  0.001   -81.479 -11.1712   True\n",
      "    가슴      손  -23.6585    0.9  -88.1518  40.8349  False\n",
      "    가슴     앞목   13.0032    0.9  -82.7723 108.7787  False\n",
      "    가슴     어깨   -33.788 0.8334   -91.857   24.281  False\n",
      "    가슴     얼굴   -16.918    0.9  -63.7461  29.9101  False\n",
      "    가슴     없음  -74.0444    0.9 -214.6044  66.5156  False\n",
      "    가슴      팔  -51.3611 0.0486  -102.586  -0.1362   True\n",
      "    가슴    하퇴부  -45.2111 0.0795  -92.4031   1.9809  False\n",
      "    가슴     허리  -33.9062 0.6408  -84.7993  16.9869  False\n",
      "    기타    대퇴부  -17.5124    0.9   -67.072  32.0471  False\n",
      "    기타     뒷목   71.4985 0.0603   -1.1996 144.1965  False\n",
      "    기타      등  -13.5924    0.9 -249.8134 222.6285  False\n",
      "    기타     머리   30.5504 0.6808  -16.5453  77.6461  False\n",
      "    기타      목    7.3487    0.9  -51.8299  66.5274  False\n",
      "    기타      발  -19.1086    0.9  -64.1192   25.902  False\n",
      "    기타     불명  -26.6758    0.9  -96.4185   43.067  False\n",
      "    기타   상해없음   -8.2064    0.9  -23.5182   7.1054  False\n",
      "    기타      손   14.4602    0.9  -41.7363  70.6567  False\n",
      "    기타     앞목   51.1218 0.8707  -39.2751 141.5188  False\n",
      "    기타     어깨    4.3306    0.9  -44.3588  53.0201  False\n",
      "    기타     얼굴   21.2007 0.7596  -13.3178  55.7191  False\n",
      "    기타     없음  -35.9258    0.9 -172.8775 101.0259  False\n",
      "    기타      팔  -13.2424    0.9  -53.5245  27.0396  False\n",
      "    기타    하퇴부   -7.0924    0.9   -42.103  27.9181  False\n",
      "    기타     허리    4.2124    0.9  -35.6469  44.0717  False\n",
      "   대퇴부     뒷목   89.0109 0.0301    3.7219 174.2999   True\n",
      "   대퇴부      등      3.92    0.9 -236.4746 244.3146  False\n",
      "   대퇴부     머리   48.0629 0.4687  -16.8001 112.9258  False\n",
      "   대퇴부      목   24.8612    0.9  -49.2422  98.9646  False\n",
      "   대퇴부      발   -1.5961    0.9  -64.9614  61.7691  False\n",
      "   대퇴부     불명   -9.1633    0.9  -91.9477   73.621  False\n",
      "   대퇴부   상해없음     9.306    0.9  -37.8496  56.4616  False\n",
      "   대퇴부      손   31.9726    0.9  -39.7717  103.717  False\n",
      "   대퇴부     앞목   68.6343 0.6073  -32.1665 169.4351  False\n",
      "   대퇴부     어깨   21.8431    0.9  -44.1862  87.8723  False\n",
      "   대퇴부     얼굴   38.7131 0.5946  -17.6848   95.111  False\n",
      "   대퇴부     없음  -18.4133    0.9 -162.4445 125.6178  False\n",
      "   대퇴부      팔      4.27    0.9  -55.8286  64.3686  False\n",
      "   대퇴부    하퇴부     10.42    0.9  -46.2804  67.1204  False\n",
      "   대퇴부     허리   21.7249    0.9  -38.0912   81.541  False\n",
      "    뒷목      등  -85.0909    0.9  -331.299 161.1172  False\n",
      "    뒷목     머리  -40.9481    0.9 -124.8293  42.9332  False\n",
      "    뒷목      목  -64.1497 0.5562 -155.3647  27.0653  False\n",
      "    뒷목      발   -90.607 0.0158 -173.3356  -7.8785   True\n",
      "    뒷목     불명  -98.1742 0.0513 -196.5719   0.2235  False\n",
      "    뒷목   상해없음  -79.7049 0.0112 -150.7859  -8.6239   True\n",
      "    뒷목      손  -57.0383 0.7037 -146.3473  32.2708  False\n",
      "    뒷목     앞목  -20.3766    0.9 -134.3488  93.5956  False\n",
      "    뒷목     어깨  -67.1678  0.337 -151.9542  17.6185  False\n",
      "    뒷목     얼굴  -50.2978 0.6805 -127.8193  27.2237  False\n",
      "    뒷목     없음 -107.4242 0.5644  -260.962  46.1135  False\n",
      "    뒷목      팔  -84.7409 0.0259 -164.9949  -4.4869   True\n",
      "    뒷목    하퇴부  -78.5909 0.0443 -156.3328   -0.849   True\n",
      "    뒷목     허리   -67.286 0.2345 -147.3287  12.7566  False\n",
      "     등     머리   44.1429    0.9 -195.7559 284.0416  False\n",
      "     등      목   20.9412    0.9 -221.6192 263.5015  False\n",
      "     등      발   -5.5161    0.9 -245.0143  233.982  False\n",
      "     등     불명  -13.0833    0.9  -258.435 232.2684  False\n",
      "     등   상해없음     5.386    0.9 -230.3423 241.1144  False\n",
      "     등      손   28.0526    0.9 -213.7974 269.9027  False\n",
      "     등     앞목   64.7143    0.9 -187.2877 316.7163  False\n",
      "     등     어깨   17.9231    0.9 -222.2936 258.1398  False\n",
      "     등     얼굴   34.7931    0.9 -202.9566 272.5428  False\n",
      "     등     없음  -22.3333    0.9 -294.5266 249.8599  False\n",
      "     등      팔      0.35    0.9 -238.3047 239.0047  False\n",
      "     등    하퇴부       6.5    0.9 -231.3217 244.3217  False\n",
      "     등     허리   17.8049    0.9 -220.7788 256.3886  False\n",
      "    머리      목  -23.2017    0.9  -95.6804  49.2771  False\n",
      "    머리      발   -49.659 0.3012 -111.1164  11.7984  False\n",
      "    머리     불명  -57.2262 0.5554 -138.5595  24.1071  False\n",
      "    머리   상해없음  -38.7568 0.1834  -83.3159   5.8022  False\n",
      "    머리      손  -16.0902    0.9  -86.1552  53.9748  False\n",
      "    머리     앞목   20.5714    0.9  -79.0411  120.184  False\n",
      "    머리     어깨  -26.2198    0.9  -90.4204  37.9808  False\n",
      "    머리     얼굴   -9.3498    0.9  -63.5953  44.8958  False\n",
      "    머리     없음  -66.4762    0.9 -209.6782  76.7259  False\n",
      "    머리      팔  -43.7929 0.4359 -101.8764  14.2907  False\n",
      "    머리    하퇴부  -37.6429 0.5866  -92.2029  16.9172  False\n",
      "    머리     허리   -26.338    0.9  -84.1292  31.4532  False\n",
      "     목      발  -26.4573    0.9  -97.5989  44.6842  False\n",
      "     목     불명  -34.0245    0.9  -122.902   54.853  False\n",
      "     목   상해없음  -15.5551    0.9  -72.7357  41.6254  False\n",
      "     목      손    7.1115    0.9  -71.5855  85.8084  False\n",
      "     목     앞목   43.7731    0.9  -62.0889 149.6351  False\n",
      "     목     어깨   -3.0181    0.9  -76.5424  70.5062  False\n",
      "     목     얼굴   13.8519    0.9  -51.1611  78.8649  False\n",
      "     목     없음  -43.2745    0.9  -190.892  104.343  False\n",
      "     목      팔  -20.5912    0.9  -88.8393   47.657  False\n",
      "     목    하퇴부  -14.4412    0.9  -79.7168  50.8344  False\n",
      "     목     허리   -3.1363    0.9  -71.1358  64.8632  False\n",
      "     발     불명   -7.5672    0.9  -87.7112  72.5767  False\n",
      "     발   상해없음   10.9022    0.9  -31.4471  53.2514  False\n",
      "     발      손   33.5688    0.9   -35.112 102.2496  False\n",
      "     발     앞목   70.2304 0.5363  -28.4134 168.8742  False\n",
      "     발     어깨   23.4392    0.9  -39.2479  86.1263  False\n",
      "     발     얼굴   40.3092 0.3976  -12.1363  92.7547  False\n",
      "     발     없음  -16.8172    0.9 -159.3471 125.7127  False\n",
      "     발      팔    5.8661    0.9    -50.54  62.2723  False\n",
      "     발    하퇴부   12.0161    0.9  -40.7546  64.7868  False\n",
      "     발     허리    23.321    0.9   -32.784   79.426  False\n",
      "    불명   상해없음   18.4694    0.9  -49.5861  86.5249  False\n",
      "    불명      손    41.136    0.9  -45.7844 128.0563  False\n",
      "    불명     앞목   77.7976 0.5775  -34.3126 189.9078  False\n",
      "    불명     어깨   31.0064    0.9    -51.26 113.2728  False\n",
      "    불명     얼굴   47.8764 0.6997  -26.8807 122.6335  False\n",
      "    불명     없음     -9.25    0.9 -161.4107 142.9107  False\n",
      "    불명      팔   13.4333    0.9  -64.1537  91.0204  False\n",
      "    불명    하퇴부   19.5833    0.9  -55.4023  94.5689  False\n",
      "    불명     허리   30.8882    0.9  -46.4801 108.2566  False\n",
      "  상해없음      손   22.6666    0.9  -31.4217  76.7549  False\n",
      "  상해없음     앞목   59.3283 0.6416  -29.7734 148.4299  False\n",
      "  상해없음     어깨    12.537    0.9  -33.7032  58.7773  False\n",
      "  상해없음     얼굴   29.4071 0.0867   -1.5611  60.3752  False\n",
      "  상해없음     없음  -27.7194    0.9 -163.8196 108.3809  False\n",
      "  상해없음      팔    -5.036    0.9  -42.3207  32.2487  False\n",
      "  상해없음    하퇴부     1.114    0.9  -30.4018  32.6297  False\n",
      "  상해없음     허리   12.4188    0.9  -24.4087  49.2464  False\n",
      "     손     앞목   36.6617    0.9  -67.5626 140.8859  False\n",
      "     손     어깨  -10.1296    0.9  -81.2756  61.0165  False\n",
      "     손     얼굴    6.7405    0.9  -55.5702  69.0512  False\n",
      "     손     없음   -50.386    0.9 -196.8334  96.0615  False\n",
      "     손      팔  -27.7026    0.9  -93.3817  37.9765  False\n",
      "     손    하퇴부  -21.5526    0.9  -84.1373   41.032  False\n",
      "     손     허리  -10.2478    0.9  -75.6684  55.1729  False\n",
      "    앞목     어깨  -46.7912    0.9 -147.1671  53.5847  False\n",
      "    앞목     얼굴  -29.9212    0.9 -124.2407  64.3984  False\n",
      "    앞목     없음  -87.0476    0.9 -249.7142   75.619  False\n",
      "    앞목      팔  -64.3643 0.6402 -160.9422  32.2136  False\n",
      "    앞목    하퇴부  -58.2143 0.7554  -152.715  36.2865  False\n",
      "    앞목     허리  -46.9094    0.9 -143.3118   49.493  False\n",
      "    어깨     얼굴     16.87    0.9  -38.7648  72.5049  False\n",
      "    어깨     없음  -40.2564    0.9 -183.9905 103.4777  False\n",
      "    어깨      팔  -17.5731    0.9  -76.9562  41.8101  False\n",
      "    어깨    하퇴부  -11.4231    0.9  -67.3646  44.5184  False\n",
      "    어깨     허리   -0.1182    0.9  -59.2154   58.979  False\n",
      "    얼굴     없음  -57.1264    0.9 -196.6984  82.4456  False\n",
      "    얼굴      팔  -34.4431 0.5387  -82.8912   14.005  False\n",
      "    얼굴    하퇴부  -28.2931 0.6991  -72.4555  15.8693  False\n",
      "    얼굴     허리  -16.9882    0.9  -65.0854   31.109  False\n",
      "    없음      팔   22.6833    0.9 -118.4247 163.7913  False\n",
      "    없음    하퇴부   28.8333    0.9 -110.8612 168.5279  False\n",
      "    없음     허리   40.1382    0.9 -100.8497 181.1261  False\n",
      "     팔    하퇴부      6.15    0.9    -42.65    54.95  False\n",
      "     팔     허리   17.4549    0.9  -34.9327  69.8425  False\n",
      "   하퇴부     허리   11.3049    0.9  -37.1467  59.7565  False\n",
      "--------------------------------------------------------\n"
     ]
    }
   ],
   "source": [
    "posthoc = pairwise_tukeyhsd(df['사고심각도'], df['가해자신체상해주부위'], alpha=0.05)\n",
    "print(posthoc)"
   ]
  },
  {
   "cell_type": "code",
   "execution_count": 36,
   "metadata": {},
   "outputs": [
    {
     "data": {
      "image/png": "[encoded data removed]",
      "text/plain": [
       "<Figure size 720x432 with 1 Axes>"
      ]
     },
     "metadata": {
      "needs_background": "light"
     },
     "output_type": "display_data"
    }
   ],
   "source": [
    "fig = posthoc.plot_simultaneous()"
   ]
  },
  {
   "cell_type": "markdown",
   "metadata": {},
   "source": [
    "---"
   ]
  },
  {
   "cell_type": "markdown",
   "metadata": {},
   "source": [
    "## 피해자신체상해주부위 (O) / (O)"
   ]
  },
  {
   "cell_type": "code",
   "execution_count": 63,
   "metadata": {},
   "outputs": [
    {
     "data": {
      "text/html": [
       "<div>\n",
       "<style scoped>\n",
       "    .dataframe tbody tr th:only-of-type {\n",
       "        vertical-align: middle;\n",
       "    }\n",
       "\n",
       "    .dataframe tbody tr th {\n",
       "        vertical-align: top;\n",
       "    }\n",
       "\n",
       "    .dataframe thead th {\n",
       "        text-align: right;\n",
       "    }\n",
       "</style>\n",
       "<table border=\"1\" class=\"dataframe\">\n",
       "  <thead>\n",
       "    <tr style=\"text-align: right;\">\n",
       "      <th></th>\n",
       "      <th>df</th>\n",
       "      <th>sum_sq</th>\n",
       "      <th>mean_sq</th>\n",
       "      <th>F</th>\n",
       "      <th>PR(&gt;F)</th>\n",
       "    </tr>\n",
       "  </thead>\n",
       "  <tbody>\n",
       "    <tr>\n",
       "      <th>C(피해자신체상해주부위)</th>\n",
       "      <td>16.0</td>\n",
       "      <td>2.897181e+07</td>\n",
       "      <td>1.810738e+06</td>\n",
       "      <td>445.223929</td>\n",
       "      <td>0.0</td>\n",
       "    </tr>\n",
       "    <tr>\n",
       "      <th>Residual</th>\n",
       "      <td>57553.0</td>\n",
       "      <td>2.340697e+08</td>\n",
       "      <td>4.067028e+03</td>\n",
       "      <td>NaN</td>\n",
       "      <td>NaN</td>\n",
       "    </tr>\n",
       "  </tbody>\n",
       "</table>\n",
       "</div>"
      ],
      "text/plain": [
       "                    df        sum_sq       mean_sq           F  PR(>F)\n",
       "C(피해자신체상해주부위)     16.0  2.897181e+07  1.810738e+06  445.223929     0.0\n",
       "Residual       57553.0  2.340697e+08  4.067028e+03         NaN     NaN"
      ]
     },
     "execution_count": 63,
     "metadata": {},
     "output_type": "execute_result"
    }
   ],
   "source": [
    "model = ols('사고심각도 ~ C(피해자신체상해주부위)', df).fit()\n",
    "anova_lm(model)\n"
   ]
  },
  {
   "cell_type": "code",
   "execution_count": 38,
   "metadata": {},
   "outputs": [
    {
     "name": "stdout",
     "output_type": "stream",
     "text": [
      "  Multiple Comparison of Means - Tukey HSD, FWER=0.05   \n",
      "========================================================\n",
      "group1 group2  meandiff p-adj    lower    upper   reject\n",
      "--------------------------------------------------------\n",
      "    가슴     기타  -19.9785  0.001  -24.2169 -15.7402   True\n",
      "    가슴    대퇴부  -21.0041  0.001  -26.0433  -15.965   True\n",
      "    가슴     뒷목  -35.0982  0.001  -42.6282 -27.5681   True\n",
      "    가슴      등  -26.5884  0.001   -38.416 -14.7607   True\n",
      "    가슴     머리   34.9474  0.001   30.3123  39.5826   True\n",
      "    가슴      목  -31.0008  0.001  -40.3111 -21.6905   True\n",
      "    가슴      발  -33.5157  0.001  -38.2821 -28.7493   True\n",
      "    가슴      배    58.433  0.001   44.6093  72.2567   True\n",
      "    가슴   상해없음  -44.4928  0.001  -64.2749 -24.7106   True\n",
      "    가슴      손  -37.0678  0.001  -45.2012 -28.9343   True\n",
      "    가슴     앞목   -26.287  0.001  -45.1127  -7.4612   True\n",
      "    가슴     어깨  -36.5543  0.001  -42.8434 -30.2652   True\n",
      "    가슴     얼굴    0.8117    0.9   -5.0034   6.6267  False\n",
      "    가슴      팔  -39.4592  0.001  -45.2218 -33.6966   True\n",
      "    가슴    하퇴부  -29.0393  0.001  -33.7528 -24.3259   True\n",
      "    가슴     허리  -32.9842  0.001    -37.49 -28.4784   True\n",
      "    기타    대퇴부   -1.0256    0.9   -4.9001   2.8489  False\n",
      "    기타     뒷목  -15.1196  0.001  -21.9255  -8.3137   True\n",
      "    기타      등   -6.6098 0.8214  -17.9901   4.7705  False\n",
      "    기타     머리    54.926  0.001   51.5939  58.2581   True\n",
      "    기타      목  -11.0223 0.0016  -19.7573  -2.2873   True\n",
      "    기타      발  -13.5371  0.001  -17.0496 -10.0247   True\n",
      "    기타      배   78.4116  0.001   64.9686  91.8545   True\n",
      "    기타   상해없음  -24.5142 0.0017  -44.0322  -4.9962   True\n",
      "    기타      손  -17.0892  0.001  -24.5573  -9.6212   True\n",
      "    기타     앞목   -6.3084    0.9  -24.8564  12.2395  False\n",
      "    기타     어깨  -16.5758  0.001  -21.9768 -11.1747   True\n",
      "    기타     얼굴   20.7902  0.001   15.9494   25.631   True\n",
      "    기타      팔  -19.4807  0.001  -24.2584  -14.703   True\n",
      "    기타    하퇴부   -9.0608  0.001  -12.5011  -5.6205   True\n",
      "    기타     허리  -13.0057  0.001  -16.1554  -9.8559   True\n",
      "   대퇴부     뒷목   -14.094  0.001  -21.4255  -6.7626   True\n",
      "   대퇴부      등   -5.5842    0.9  -17.2864    6.118  False\n",
      "   대퇴부     머리   55.9516  0.001   51.6466  60.2566   True\n",
      "   대퇴부      목   -9.9967 0.0167  -19.1471  -0.8463   True\n",
      "   대퇴부      발  -12.5115  0.001  -16.9575  -8.0655   True\n",
      "   대퇴부      배   79.4372  0.001   65.7206  93.1537   True\n",
      "   대퇴부   상해없음  -23.4886 0.0044   -43.196  -3.7812   True\n",
      "   대퇴부      손  -16.0636  0.001  -24.0135  -8.1137   True\n",
      "   대퇴부     앞목   -5.2828    0.9    -24.03  13.4643  False\n",
      "   대퇴부     어깨  -15.5502  0.001     -21.6  -9.5003   True\n",
      "   대퇴부     얼굴   21.8158  0.001   16.2604  27.3713   True\n",
      "   대퇴부      팔  -18.4551  0.001  -23.9556 -12.9545   True\n",
      "   대퇴부    하퇴부   -8.0352  0.001  -12.4245   -3.646   True\n",
      "   대퇴부     허리  -11.9801  0.001  -16.1455  -7.8146   True\n",
      "    뒷목      등    8.5098 0.6519   -4.4613  21.4809  False\n",
      "    뒷목     머리   70.0456  0.001   62.9858  77.1055   True\n",
      "    뒷목      목    4.0973    0.9   -6.6283  14.8229  False\n",
      "    뒷목      발    1.5825    0.9   -5.5642   8.7292  False\n",
      "    뒷목      배   93.5312  0.001   78.7173 108.3451   True\n",
      "    뒷목   상해없음   -9.3946    0.9  -29.8809  11.0918  False\n",
      "    뒷목      손   -1.9696    0.9  -11.6912    7.752  False\n",
      "    뒷목     앞목    8.8112    0.9  -10.7532  28.3756  False\n",
      "    뒷목     어깨   -1.4561    0.9   -9.6969   6.7846  False\n",
      "    뒷목     얼굴   35.9098  0.001   28.0249  43.7947   True\n",
      "    뒷목      팔   -4.3611 0.8777  -12.2074   3.4852  False\n",
      "    뒷목    하퇴부    6.0588 0.2097   -1.0527  13.1704  False\n",
      "    뒷목     허리     2.114    0.9   -4.8617   9.0896  False\n",
      "     등     머리   61.5358  0.001   50.0018  73.0698   True\n",
      "     등      목   -4.4125    0.9  -18.4919   9.6669  False\n",
      "     등      발   -6.9273 0.7831  -18.5146     4.66  False\n",
      "     등      배   85.0214  0.001   67.6248  102.418   True\n",
      "     등   상해없음  -17.9044 0.3153  -40.3294   4.5206  False\n",
      "     등      손  -10.4794 0.3438  -23.8098    2.851  False\n",
      "     등     앞목    0.3014    0.9  -21.2846  21.8874  False\n",
      "     등     어깨   -9.9659 0.2889  -22.2582   2.3264  False\n",
      "     등     얼굴      27.4  0.001   15.3434  39.4567   True\n",
      "     등      팔  -12.8709 0.0221  -24.9023  -0.8394   True\n",
      "     등    하퇴부    -2.451    0.9  -14.0167   9.1147  False\n",
      "     등     허리   -6.3958  0.875  -17.8784   5.0868  False\n",
      "    머리      목  -65.9483  0.001  -74.8826  -57.014   True\n",
      "    머리      발  -68.4631  0.001  -72.4453 -64.4809   True\n",
      "    머리      배   23.4856  0.001    9.9123  37.0589   True\n",
      "    머리   상해없음  -79.4402  0.001  -99.0482 -59.8322   True\n",
      "    머리      손  -72.0152  0.001  -79.7154  -64.315   True\n",
      "    머리     앞목  -61.2344  0.001  -79.8771 -42.5918   True\n",
      "    머리     어깨  -71.5017  0.001  -77.2194  -65.784   True\n",
      "    머리     얼굴  -34.1358  0.001  -39.3275  -28.944   True\n",
      "    머리      팔  -74.4067  0.001  -79.5396 -69.2737   True\n",
      "    머리    하퇴부  -63.9868  0.001  -67.9055  -60.068   True\n",
      "    머리     허리  -67.9316  0.001   -71.598 -64.2653   True\n",
      "     목      발   -2.5148    0.9  -11.5179   6.4883  False\n",
      "     목      배   89.4339  0.001   73.6404 105.2273   True\n",
      "     목   상해없음  -13.4919 0.6965  -34.6973   7.7135  False\n",
      "     목      손   -6.0669    0.9  -17.2244   5.0906  False\n",
      "     목     앞목    4.7139    0.9  -15.6023    25.03  False\n",
      "     목     어깨   -5.5535 0.8653  -15.4474   4.3404  False\n",
      "     목     얼굴   31.8125  0.001    22.213  41.4121   True\n",
      "     목      팔   -8.4584 0.1597  -18.0263   1.1095  False\n",
      "     목    하퇴부    1.9615    0.9   -7.0137  10.9367  False\n",
      "     목     허리   -1.9834    0.9  -10.8512   6.8845  False\n",
      "     발      배   91.9487  0.001     78.33 105.5674   True\n",
      "     발   상해없음  -10.9771 0.8707  -30.6165   8.6623  False\n",
      "     발      손   -3.5521    0.9   -11.332   4.2278  False\n",
      "     발     앞목    7.2287    0.9   -11.447  25.9044  False\n",
      "     발     어깨   -3.0386    0.9   -8.8633    2.786  False\n",
      "     발     얼굴   34.3273  0.001   29.0181  39.6366   True\n",
      "     발      팔   -5.9436   0.01  -11.1954  -0.6918   True\n",
      "     발    하퇴부    4.4763 0.0153    0.4031   8.5495   True\n",
      "     발     허리    0.5315    0.9   -3.2995   4.3624  False\n",
      "     배   상해없음 -102.9258  0.001 -126.4648 -79.3868   True\n",
      "     배      손  -95.5008  0.001 -110.6303 -80.3712   True\n",
      "     배     앞목    -84.72  0.001 -107.4611 -61.9789   True\n",
      "     배     어깨  -94.9873  0.001 -109.2106  -80.764   True\n",
      "     배     얼굴  -57.6213  0.001  -71.6415 -43.6012   True\n",
      "     배      팔  -97.8923  0.001 -111.8907 -83.8938   True\n",
      "     배    하퇴부  -87.4724  0.001 -101.0726 -73.8721   True\n",
      "     배     허리  -91.4172  0.001 -104.9469 -77.8875   True\n",
      "  상해없음      손     7.425    0.9  -13.2907  28.1407  False\n",
      "  상해없음     앞목   18.2058 0.5986   -8.5785    44.99  False\n",
      "  상해없음     어깨    7.9385    0.9   -12.125  28.0019  False\n",
      "  상해없음     얼굴   45.3044  0.001   25.3845  65.2243   True\n",
      "  상해없음      팔    5.0335    0.9  -14.8711  24.9382  False\n",
      "  상해없음    하퇴부   15.4534 0.3408   -4.1732  35.0801  False\n",
      "  상해없음     허리   11.5085 0.8056   -8.0693  31.0864  False\n",
      "     손     앞목   10.7808    0.9   -9.0237  30.5852  False\n",
      "     손     어깨    0.5135    0.9    -8.282    9.309  False\n",
      "     손     얼굴   37.8794  0.001   29.4164  46.3425   True\n",
      "     손      팔   -2.3915    0.9  -10.8185   6.0356  False\n",
      "     손    하퇴부    8.0284 0.0331    0.2808   15.776   True\n",
      "     손     허리    4.0836    0.9   -3.5395  11.7066  False\n",
      "    앞목     어깨  -10.2673    0.9  -29.3884   8.8538  False\n",
      "    앞목     얼굴   27.0987  0.001    8.1282  46.0691   True\n",
      "    앞목      팔  -13.1723 0.5644  -32.1267   5.7822  False\n",
      "    앞목    하퇴부   -2.7524    0.9  -21.4146  15.9099  False\n",
      "    앞목     허리   -6.6972    0.9  -25.3081  11.9137  False\n",
      "    어깨     얼굴    37.366  0.001   30.6561  44.0758   True\n",
      "    어깨      팔   -2.9049    0.9   -9.5694   3.7595  False\n",
      "    어깨    하퇴부    7.5149  0.001    1.7335  13.2964   True\n",
      "    어깨     허리    3.5701 0.6971   -2.0433   9.1835  False\n",
      "    얼굴      팔  -40.2709  0.001    -46.49 -34.0518   True\n",
      "    얼굴    하퇴부   -29.851  0.001  -35.1129 -24.5892   True\n",
      "    얼굴     허리  -33.7959  0.001  -38.8725 -28.7193   True\n",
      "     팔    하퇴부   10.4199  0.001    5.2161  15.6237   True\n",
      "     팔     허리     6.475  0.001    1.4585  11.4915   True\n",
      "   하퇴부     허리   -3.9449 0.0289   -7.7098  -0.1799   True\n",
      "--------------------------------------------------------\n"
     ]
    }
   ],
   "source": [
    "posthoc = pairwise_tukeyhsd(df['사고심각도'], df['피해자신체상해주부위'], alpha=0.05)\n",
    "print(posthoc)"
   ]
  },
  {
   "cell_type": "code",
   "execution_count": 39,
   "metadata": {},
   "outputs": [
    {
     "data": {
      "image/png": "[encoded data removed]",
      "text/plain": [
       "<Figure size 720x432 with 1 Axes>"
      ]
     },
     "metadata": {
      "needs_background": "light"
     },
     "output_type": "display_data"
    }
   ],
   "source": [
    "fig = posthoc.plot_simultaneous()"
   ]
  },
  {
   "cell_type": "markdown",
   "metadata": {},
   "source": [
    "---"
   ]
  },
  {
   "cell_type": "markdown",
   "metadata": {},
   "source": [
    "## 당사자종별가해자 (O) / (O)"
   ]
  },
  {
   "cell_type": "code",
   "execution_count": 40,
   "metadata": {},
   "outputs": [
    {
     "data": {
      "text/html": [
       "<div>\n",
       "<style scoped>\n",
       "    .dataframe tbody tr th:only-of-type {\n",
       "        vertical-align: middle;\n",
       "    }\n",
       "\n",
       "    .dataframe tbody tr th {\n",
       "        vertical-align: top;\n",
       "    }\n",
       "\n",
       "    .dataframe thead th {\n",
       "        text-align: right;\n",
       "    }\n",
       "</style>\n",
       "<table border=\"1\" class=\"dataframe\">\n",
       "  <thead>\n",
       "    <tr style=\"text-align: right;\">\n",
       "      <th></th>\n",
       "      <th>df</th>\n",
       "      <th>sum_sq</th>\n",
       "      <th>mean_sq</th>\n",
       "      <th>F</th>\n",
       "      <th>PR(&gt;F)</th>\n",
       "    </tr>\n",
       "  </thead>\n",
       "  <tbody>\n",
       "    <tr>\n",
       "      <th>C(당사자종별가해자)</th>\n",
       "      <td>17.0</td>\n",
       "      <td>3.975239e+06</td>\n",
       "      <td>233837.581374</td>\n",
       "      <td>51.94741</td>\n",
       "      <td>2.191976e-175</td>\n",
       "    </tr>\n",
       "    <tr>\n",
       "      <th>Residual</th>\n",
       "      <td>57552.0</td>\n",
       "      <td>2.590662e+08</td>\n",
       "      <td>4501.429059</td>\n",
       "      <td>NaN</td>\n",
       "      <td>NaN</td>\n",
       "    </tr>\n",
       "  </tbody>\n",
       "</table>\n",
       "</div>"
      ],
      "text/plain": [
       "                  df        sum_sq        mean_sq         F         PR(>F)\n",
       "C(당사자종별가해자)     17.0  3.975239e+06  233837.581374  51.94741  2.191976e-175\n",
       "Residual     57552.0  2.590662e+08    4501.429059       NaN            NaN"
      ]
     },
     "execution_count": 40,
     "metadata": {},
     "output_type": "execute_result"
    }
   ],
   "source": [
    "model = ols('사고심각도 ~ C(당사자종별가해자)', df).fit()\n",
    "anova_lm(model)"
   ]
  },
  {
   "cell_type": "code",
   "execution_count": 41,
   "metadata": {},
   "outputs": [
    {
     "name": "stdout",
     "output_type": "stream",
     "text": [
      "       Multiple Comparison of Means - Tukey HSD, FWER=0.05       \n",
      "=================================================================\n",
      "   group1      group2   meandiff p-adj    lower    upper   reject\n",
      "-----------------------------------------------------------------\n",
      "개인형이동수단(PM)        건설기계  67.3116  0.001   31.4149 103.2082   True\n",
      "개인형이동수단(PM)          경형  25.6287 0.4763   -9.1038  60.3612  False\n",
      "개인형이동수단(PM)          기타   3.7508    0.9   -47.203  54.7047  False\n",
      "개인형이동수단(PM)         농기계  28.5892 0.7442  -17.4543  74.6327  False\n",
      "개인형이동수단(PM)          대형  31.3955 0.1382   -3.4476  66.2386  False\n",
      "개인형이동수단(PM)          불명  -3.8234    0.9    -38.95  31.3033  False\n",
      "개인형이동수단(PM) 사륜오토바이(ATV)  16.1739    0.9  -36.7687  69.1165  False\n",
      "개인형이동수단(PM)         사발이   6.2124    0.9  -67.3158  79.7406  False\n",
      "개인형이동수단(PM)          소형  30.5129 0.1672   -4.1314  65.1572  False\n",
      "개인형이동수단(PM)         승용차  23.3992 0.6157  -11.1527  57.9511  False\n",
      "개인형이동수단(PM)         승합차  22.7111 0.6691  -12.0261  57.4483  False\n",
      "개인형이동수단(PM)    원동기장치자전거  14.3927    0.9  -21.0708  49.8562  False\n",
      "개인형이동수단(PM)         이륜차  13.0881    0.9  -21.9165  48.0926  False\n",
      "개인형이동수단(PM)         자전거    5.467    0.9  -29.5681  40.5021  False\n",
      "개인형이동수단(PM)          중형  27.0671 0.3624   -7.5406  61.6748  False\n",
      "개인형이동수단(PM)         특수차  45.2179 0.0114    4.8494  85.5864   True\n",
      "개인형이동수단(PM)         화물차  34.0577 0.0606   -0.5855  68.7009  False\n",
      "       건설기계          경형 -41.6829  0.001  -52.2864 -31.0794   True\n",
      "       건설기계          기타 -63.5607  0.001 -102.3213 -24.8001   True\n",
      "       건설기계         농기계 -38.7224 0.0033  -70.7551  -6.6897   True\n",
      "       건설기계          대형 -35.9161  0.001  -46.8766 -24.9555   True\n",
      "       건설기계          불명 -71.1349  0.001   -82.966 -59.3039   True\n",
      "       건설기계 사륜오토바이(ATV) -51.1377 0.0021  -92.4778  -9.7975   True\n",
      "       건설기계         사발이 -61.0992 0.1047 -126.7687   4.5703  False\n",
      "       건설기계          소형 -36.7987  0.001  -47.1097 -26.4877   True\n",
      "       건설기계         승용차 -43.9124  0.001  -53.9085 -33.9163   True\n",
      "       건설기계         승합차 -44.6005  0.001  -55.2194 -33.9815   True\n",
      "       건설기계    원동기장치자전거 -52.9189  0.001  -65.7154 -40.1223   True\n",
      "       건설기계         이륜차 -54.2235  0.001  -65.6868 -42.7601   True\n",
      "       건설기계         자전거 -61.8445  0.001  -73.4008 -50.2882   True\n",
      "       건설기계          중형 -40.2445  0.001   -50.432  -30.057   True\n",
      "       건설기계         특수차 -22.0937 0.0824   -45.239   1.0517  False\n",
      "       건설기계         화물차 -33.2539  0.001  -43.5612 -22.9465   True\n",
      "         경형          기타 -21.8779 0.8364  -59.5628  15.8071  False\n",
      "         경형         농기계   2.9605    0.9   -27.762  33.6829  False\n",
      "         경형          대형   5.7668 0.0981   -0.3901  11.9237  False\n",
      "         경형          불명 -29.4521  0.001  -37.0513 -21.8529   True\n",
      "         경형 사륜오토바이(ATV)  -9.4548    0.9  -49.7882  30.8786  False\n",
      "         경형         사발이 -19.4163    0.9  -84.4568  45.6241  False\n",
      "         경형          소형   4.8842 0.0529    -0.024   9.7923  False\n",
      "         경형         승용차  -2.2295    0.9   -6.4362   1.9771  False\n",
      "         경형         승합차  -2.9176    0.9   -8.4435   2.6083  False\n",
      "         경형    원동기장치자전거  -11.236 0.0019  -20.2651  -2.2069   True\n",
      "         경형         이륜차 -12.5406  0.001  -19.5536  -5.5277   True\n",
      "         경형         자전거 -20.1617  0.001  -27.3256 -12.9978   True\n",
      "         경형          중형   1.4384    0.9   -3.2047   6.0815  False\n",
      "         경형         특수차  19.5892 0.1165   -1.7059  40.8843  False\n",
      "         경형         화물차    8.429  0.001    3.5284  13.3296   True\n",
      "         기타         농기계  24.8383    0.9  -23.4713  73.1479  False\n",
      "         기타          대형  27.6447 0.4913  -10.1423  65.4317  False\n",
      "         기타          불명  -7.5742    0.9  -45.6228  30.4744  False\n",
      "         기타 사륜오토바이(ATV)  12.4231    0.9  -42.5017  67.3478  False\n",
      "         기타         사발이   2.4615    0.9  -72.5065  77.4296  False\n",
      "         기타          소형   26.762  0.537  -10.8417  64.3657  False\n",
      "         기타         승용차  19.6484    0.9  -17.8702  57.1669  False\n",
      "         기타         승합차  18.9602    0.9  -18.7291  56.6496  False\n",
      "         기타    원동기장치자전거  10.6419    0.9  -27.7179  49.0017  False\n",
      "         기타         이륜차   9.3373    0.9  -28.5986  47.2731  False\n",
      "         기타         자전거   1.7162    0.9  -36.2479  39.6803  False\n",
      "         기타          중형  23.3162 0.7449  -14.2538  60.8863  False\n",
      "         기타         특수차  41.4671 0.0732   -1.4681  84.4022  False\n",
      "         기타         화물차  30.3069 0.3057   -7.2958  67.9096  False\n",
      "        농기계          대형   2.8063    0.9  -28.0411  33.6538  False\n",
      "        농기계          불명 -32.4125 0.0315  -63.5799  -1.2451   True\n",
      "        농기계 사륜오토바이(ATV) -12.4153    0.9   -62.818  37.9875  False\n",
      "        농기계         사발이 -22.3768    0.9  -94.0979  49.3443  False\n",
      "        농기계          소형   1.9237    0.9   -28.699  32.5464  False\n",
      "        농기계         승용차    -5.19    0.9  -35.7081  25.3281  False\n",
      "        농기계         승합차  -5.8781    0.9  -36.6058  24.8497  False\n",
      "        농기계    원동기장치자전거 -14.1965    0.9   -45.743  17.3501  False\n",
      "        농기계         이륜차 -15.5011    0.9  -46.5308  15.5286  False\n",
      "        농기계         자전거 -23.1221 0.4604  -54.1863    7.942  False\n",
      "        농기계          중형  -1.5221    0.9  -32.1034  29.0592  False\n",
      "        농기계         특수차  16.6287    0.9  -20.3461  53.6036  False\n",
      "        농기계         화물차   5.4685    0.9  -25.1529    36.09  False\n",
      "         대형          불명 -35.2189  0.001  -43.3088 -27.1289   True\n",
      "         대형 사륜오토바이(ATV) -15.2216    0.9  -55.6503  25.2071  False\n",
      "         대형         사발이 -25.1831    0.9  -90.2828  39.9165  False\n",
      "         대형          소형  -0.8826    0.9   -6.5209   4.7556  False\n",
      "         대형         승용차  -7.9963  0.001  -13.0357  -2.9569   True\n",
      "         대형         승합차  -8.6844  0.001  -14.8679   -2.501   True\n",
      "         대형    원동기장치자전거 -17.0028  0.001  -26.4487   -7.557   True\n",
      "         대형         이륜차 -18.3074  0.001  -25.8494 -10.7654   True\n",
      "         대형         자전거 -25.9285  0.001   -33.611  -18.246   True\n",
      "         대형          중형  -4.3284 0.3183   -9.7375   1.0806  False\n",
      "         대형         특수차  13.8224 0.6923   -7.6527  35.2975  False\n",
      "         대형         화물차   2.6622    0.9   -2.9694   8.2938  False\n",
      "         불명 사륜오토바이(ATV)  19.9973    0.9  -20.6761  60.6706  False\n",
      "         불명         사발이  10.0357    0.9  -55.2161  75.2876  False\n",
      "         불명          소형  34.3362  0.001   27.1509  41.5216   True\n",
      "         불명         승용차  27.2225  0.001   20.4968  33.9483   True\n",
      "         불명         승합차  26.5344  0.001   18.9137  34.1551   True\n",
      "         불명    원동기장치자전거  18.2161  0.001    7.7727  28.6594   True\n",
      "         불명         이륜차  16.9115  0.001    8.1524  25.6705   True\n",
      "         불명         자전거   9.2904 0.0292      0.41  18.1708   True\n",
      "         불명          중형  30.8904  0.001   23.8835  37.8974   True\n",
      "         불명         특수차  49.0413  0.001   27.1091  70.9734   True\n",
      "         불명         화물차  37.8811  0.001   30.7009  45.0613   True\n",
      "사륜오토바이(ATV)         사발이  -9.9615    0.9  -86.2953  66.3722  False\n",
      "사륜오토바이(ATV)          소형   14.339    0.9  -25.9185  54.5964  False\n",
      "사륜오토바이(ATV)         승용차   7.2253    0.9  -32.9527  47.4033  False\n",
      "사륜오토바이(ATV)         승합차   6.5372    0.9  -33.8003  46.8746  False\n",
      "사륜오토바이(ATV)    원동기장치자전거  -1.7812    0.9  -42.7458  39.1834  False\n",
      "사륜오토바이(ATV)         이륜차  -3.0858    0.9  -43.6537  37.4821  False\n",
      "사륜오토바이(ATV)         자전거 -10.7069    0.9  -51.3012  29.8874  False\n",
      "사륜오토바이(ATV)          중형  10.8932    0.9  -29.3328  51.1192  False\n",
      "사륜오토바이(ATV)         특수차   29.044 0.6973  -16.2335  74.3215  False\n",
      "사륜오토바이(ATV)         화물차  17.8838    0.9  -22.3727  58.1403  False\n",
      "        사발이          소형  24.3005    0.9  -40.6929  89.2939  False\n",
      "        사발이         승용차  17.1868    0.9  -47.7574   82.131  False\n",
      "        사발이         승합차  16.4987    0.9  -48.5443  81.5417  False\n",
      "        사발이    원동기장치자전거   8.1803    0.9  -57.2534  73.6141  False\n",
      "        사발이         이륜차   6.8757    0.9  -58.3104  72.0619  False\n",
      "        사발이         자전거  -0.7453    0.9  -65.9479  64.4572  False\n",
      "        사발이          중형  20.8547    0.9  -44.1192  85.8286  False\n",
      "        사발이         특수차  39.0055 0.8564  -29.2113 107.2224  False\n",
      "        사발이         화물차  27.8453    0.9  -37.1475  92.8382  False\n",
      "         소형         승용차  -7.1137  0.001  -10.5163   -3.711   True\n",
      "         소형         승합차  -7.8018  0.001  -12.7432  -2.8604   True\n",
      "         소형    원동기장치자전거 -16.1202  0.001  -24.8039  -7.4365   True\n",
      "         소형         이륜차 -17.4248  0.001  -23.9871 -10.8625   True\n",
      "         소형         자전거 -25.0458  0.001  -31.7692 -18.3225   True\n",
      "         소형          중형  -3.4458 0.1731   -7.3752   0.4836  False\n",
      "         소형         특수차   14.705 0.5745   -6.4459   35.856  False\n",
      "         소형         화물차   3.5448 0.2392   -0.6857   7.7754  False\n",
      "        승용차         승합차  -0.6881    0.9   -4.9335   3.5573  False\n",
      "        승용차    원동기장치자전거  -9.0065 0.0182  -17.3139  -0.6991   True\n",
      "        승용차         이륜차 -10.3111  0.001  -16.3666  -4.2555   True\n",
      "        승용차         자전거 -17.9321  0.001  -24.1619 -11.7024   True\n",
      "        승용차          중형   3.6679 0.0028    0.6602   6.6756   True\n",
      "        승용차         특수차  21.8187 0.0318    0.8195   42.818   True\n",
      "        승용차         화물차  10.6585  0.001    7.2668  14.0502   True\n",
      "        승합차    원동기장치자전거  -8.3184 0.1171  -17.3656   0.7288  False\n",
      "        승합차         이륜차   -9.623  0.001  -16.6593  -2.5867   True\n",
      "        승합차         자전거  -17.244  0.001  -24.4308 -10.0573   True\n",
      "        승합차          중형    4.356 0.1039   -0.3222   9.0342  False\n",
      "        승합차         특수차  22.5068 0.0257    1.2041  43.8096   True\n",
      "        승합차         화물차  11.3466  0.001    6.4128  16.2805   True\n",
      "   원동기장치자전거         이륜차  -1.3046    0.9  -11.3295   8.7203  False\n",
      "   원동기장치자전거         자전거  -8.9257 0.1668  -19.0567   1.2054  False\n",
      "   원동기장치자전거          중형  12.6744  0.001    4.1377  21.2111   True\n",
      "   원동기장치자전거         특수차  30.8252  0.001    8.3575  53.2929   True\n",
      "   원동기장치자전거         화물차   19.665  0.001   10.9856  28.3444   True\n",
      "        이륜차         자전거  -7.6211  0.128  -16.0053   0.7632  False\n",
      "        이륜차          중형   13.979  0.001    7.6125  20.3455   True\n",
      "        이륜차         특수차  32.1298  0.001   10.3938  53.8658   True\n",
      "        이륜차         화물차  20.9696  0.001    14.413  27.5262   True\n",
      "        자전거          중형     21.6  0.001   15.0677  28.1324   True\n",
      "        자전거         특수차  39.7509  0.001   17.9657   61.536   True\n",
      "        자전거         화물차  28.5907  0.001   21.8729  35.3085   True\n",
      "         중형         특수차  18.1508 0.1987   -2.9402  39.2418  False\n",
      "         중형         화물차   6.9906  0.001    3.0707  10.9106   True\n",
      "        특수차         화물차 -11.1602    0.9  -32.3094    9.989  False\n",
      "-----------------------------------------------------------------\n"
     ]
    }
   ],
   "source": [
    "posthoc = pairwise_tukeyhsd(df['사고심각도'], df['당사자종별가해자'], alpha=0.05)\n",
    "print(posthoc)"
   ]
  },
  {
   "cell_type": "code",
   "execution_count": 42,
   "metadata": {},
   "outputs": [
    {
     "data": {
      "image/png": "[encoded data removed]",
      "text/plain": [
       "<Figure size 720x432 with 1 Axes>"
      ]
     },
     "metadata": {
      "needs_background": "light"
     },
     "output_type": "display_data"
    }
   ],
   "source": [
    "fig = posthoc.plot_simultaneous()"
   ]
  },
  {
   "cell_type": "markdown",
   "metadata": {},
   "source": [
    "---"
   ]
  },
  {
   "cell_type": "markdown",
   "metadata": {},
   "source": [
    "## 차량용도가해자 (O) / (O)"
   ]
  },
  {
   "cell_type": "code",
   "execution_count": 43,
   "metadata": {},
   "outputs": [
    {
     "data": {
      "text/html": [
       "<div>\n",
       "<style scoped>\n",
       "    .dataframe tbody tr th:only-of-type {\n",
       "        vertical-align: middle;\n",
       "    }\n",
       "\n",
       "    .dataframe tbody tr th {\n",
       "        vertical-align: top;\n",
       "    }\n",
       "\n",
       "    .dataframe thead th {\n",
       "        text-align: right;\n",
       "    }\n",
       "</style>\n",
       "<table border=\"1\" class=\"dataframe\">\n",
       "  <thead>\n",
       "    <tr style=\"text-align: right;\">\n",
       "      <th></th>\n",
       "      <th>df</th>\n",
       "      <th>sum_sq</th>\n",
       "      <th>mean_sq</th>\n",
       "      <th>F</th>\n",
       "      <th>PR(&gt;F)</th>\n",
       "    </tr>\n",
       "  </thead>\n",
       "  <tbody>\n",
       "    <tr>\n",
       "      <th>C(차량용도가해자)</th>\n",
       "      <td>29.0</td>\n",
       "      <td>4.638457e+06</td>\n",
       "      <td>159946.802132</td>\n",
       "      <td>35.61622</td>\n",
       "      <td>7.502100e-197</td>\n",
       "    </tr>\n",
       "    <tr>\n",
       "      <th>Residual</th>\n",
       "      <td>57540.0</td>\n",
       "      <td>2.584030e+08</td>\n",
       "      <td>4490.841620</td>\n",
       "      <td>NaN</td>\n",
       "      <td>NaN</td>\n",
       "    </tr>\n",
       "  </tbody>\n",
       "</table>\n",
       "</div>"
      ],
      "text/plain": [
       "                 df        sum_sq        mean_sq         F         PR(>F)\n",
       "C(차량용도가해자)     29.0  4.638457e+06  159946.802132  35.61622  7.502100e-197\n",
       "Residual    57540.0  2.584030e+08    4490.841620       NaN            NaN"
      ]
     },
     "execution_count": 43,
     "metadata": {},
     "output_type": "execute_result"
    }
   ],
   "source": [
    "model = ols('사고심각도 ~ C(차량용도가해자)', df).fit()\n",
    "anova_lm(model)"
   ]
  },
  {
   "cell_type": "code",
   "execution_count": 44,
   "metadata": {},
   "outputs": [
    {
     "name": "stdout",
     "output_type": "stream",
     "text": [
      "       Multiple Comparison of Means - Tukey HSD, FWER=0.05       \n",
      "=================================================================\n",
      "   group1      group2   meandiff p-adj    lower    upper   reject\n",
      "-----------------------------------------------------------------\n",
      "       개별화물        개인택시 -24.9224  0.001   -44.042  -5.8029   True\n",
      "       개별화물 개인형이동수단(PM) -50.2335 0.0019  -91.4525  -9.0145   True\n",
      "       개별화물        고속버스 -31.1732 0.5478  -73.1419  10.7954  False\n",
      "       개별화물          기타  -24.485 0.0172  -47.1873  -1.7826   True\n",
      "       개별화물     기타/건설기계  -2.8112    0.9  -22.6751  17.0528  False\n",
      "       개별화물       기타/불명 -52.6709  0.001  -74.1686 -31.1733   True\n",
      "       개별화물         농기계 -16.1542    0.9    -61.24  28.9316  False\n",
      "       개별화물        덤프트럭   4.6953    0.9  -34.8584   44.249  False\n",
      "       개별화물         렌터카 -27.5751  0.001  -46.7539  -8.3963   True\n",
      "       개별화물        마을버스 -35.4827  0.001  -58.3124  -12.653   True\n",
      "       개별화물          버스 -16.9069 0.3299  -37.5188   3.7051  False\n",
      "       개별화물        법인택시 -28.2029  0.001  -46.9984  -9.4075   True\n",
      "       개별화물          불명 -54.8387  0.001  -74.9447 -34.7326   True\n",
      "       개별화물      비사업용기타 -20.3802 0.0399   -40.405  -0.3554   True\n",
      "       개별화물 사륜오토바이(ATV) -36.8149 0.1575  -77.6782   4.0484  False\n",
      "       개별화물         승용차 -25.2696  0.001   -43.413  -7.1262   True\n",
      "       개별화물        시내버스 -32.8214  0.001  -51.5055 -14.1373   True\n",
      "       개별화물        시외버스 -11.4391    0.9   -34.179  11.3007  False\n",
      "       개별화물     어린이통학버스 -28.6789 0.0033  -52.9013  -4.4565   True\n",
      "       개별화물        용달화물 -30.3739 0.2208  -65.4253   4.6776  False\n",
      "       개별화물    원동기장치자전거 -35.8408  0.001  -55.9282 -15.7534   True\n",
      "       개별화물       위험물운송  27.7131    0.9  -50.1614 105.5877  False\n",
      "       개별화물         이륜차 -37.7053  0.001  -56.4818 -18.9289   True\n",
      "       개별화물        일반화물 -17.0254 0.4733  -39.0885   5.0377  False\n",
      "       개별화물         자전거 -44.7665  0.001  -63.9685 -25.5644   True\n",
      "       개별화물        전세버스   0.6697    0.9  -22.4967   23.836  False\n",
      "       개별화물      콘크리트믹서  27.6804    0.9  -25.7188  81.0797  False\n",
      "       개별화물    특수여객(장의)   3.6404    0.9 -110.1549 117.4358  False\n",
      "       개별화물         화물차 -14.0548 0.4801  -32.3274   4.2177  False\n",
      "       개인택시 개인형이동수단(PM) -25.3111 0.7227  -62.8684  12.2463  False\n",
      "       개인택시        고속버스  -6.2508    0.9  -44.6293  32.1278  False\n",
      "       개인택시          기타   0.4375    0.9  -14.6273  15.5023  False\n",
      "       개인택시     기타/건설기계  22.1113  0.001   11.8096   32.413   True\n",
      "       개인택시       기타/불명 -27.7485  0.001  -40.9279 -14.5691   True\n",
      "       개인택시         농기계   8.7683    0.9  -32.9963  50.5328  False\n",
      "       개인택시        덤프트럭  29.6178 0.3072    -6.104  65.3395  False\n",
      "       개인택시         렌터카  -2.6527    0.9   -11.562   6.2567  False\n",
      "       개인택시        마을버스 -10.5602 0.6763  -25.8162   4.6957  False\n",
      "       개인택시          버스   8.0156 0.6913   -3.6635  19.6947  False\n",
      "       개인택시        법인택시  -3.2805    0.9  -11.3314   4.7704  False\n",
      "       개인택시          불명 -29.9162  0.001  -40.6773 -19.1551   True\n",
      "       개인택시      비사업용기타   4.5422    0.9   -6.0663  15.1508  False\n",
      "       개인택시 사륜오토바이(ATV) -11.8925    0.9  -49.0591  25.2742  False\n",
      "       개인택시         승용차  -0.3471    0.9   -6.7293    6.035  False\n",
      "       개인택시        시내버스   -7.899 0.0417  -15.6864  -0.1116   True\n",
      "       개인택시        시외버스  13.4833 0.1733   -1.6378  28.6045  False\n",
      "       개인택시     어린이통학버스  -3.7565    0.9  -21.0271  13.5141  False\n",
      "       개인택시        용달화물  -5.4514    0.9  -36.1133  25.2105  False\n",
      "       개인택시    원동기장치자전거 -10.9184 0.0398  -21.6446  -0.1921   True\n",
      "       개인택시       위험물운송  52.6356 0.6754  -23.3644 128.6356  False\n",
      "       개인택시         이륜차 -12.7829  0.001  -20.7894  -4.7763   True\n",
      "       개인택시        일반화물    7.897    0.9   -6.1859    21.98  False\n",
      "       개인택시         자전거  -19.844  0.001  -28.8032 -10.8849   True\n",
      "       개인택시        전세버스  25.5921  0.001    9.8369  41.3473   True\n",
      "       개인택시      콘크리트믹서  52.6029 0.0299    1.9765 103.2292   True\n",
      "       개인택시    특수여객(장의)  28.5629    0.9   -83.958 141.0837  False\n",
      "       개인택시         화물차  10.8676  0.001    4.1272   17.608   True\n",
      "개인형이동수단(PM)        고속버스  19.0603    0.9  -33.9148  72.0354  False\n",
      "개인형이동수단(PM)          기타  25.7485 0.7789  -13.7533  65.2503  False\n",
      "개인형이동수단(PM)     기타/건설기계  47.4223 0.0011    9.4806   85.364   True\n",
      "개인형이동수단(PM)       기타/불명  -2.4374    0.9  -41.2594  36.3845  False\n",
      "개인형이동수단(PM)         농기계  34.0793 0.8743  -21.3979  89.5566  False\n",
      "개인형이동수단(PM)        덤프트럭  54.9288  0.018    3.8457 106.0119   True\n",
      "개인형이동수단(PM)         렌터카  22.6584    0.9  -14.9291  60.2459  False\n",
      "개인형이동수단(PM)        마을버스  14.7508    0.9  -24.8243  54.3259  False\n",
      "개인형이동수단(PM)          버스  33.3266 0.2151   -5.0119  71.6652  False\n",
      "개인형이동수단(PM)        법인택시  22.0306    0.9  -15.3628  59.4239  False\n",
      "개인형이동수단(PM)          불명  -4.6052    0.9  -42.6741  33.4638  False\n",
      "개인형이동수단(PM)      비사업용기타  29.8533 0.4349   -8.1728  67.8794  False\n",
      "개인형이동수단(PM) 사륜오토바이(ATV)  13.4186    0.9  -38.6852  65.5224  False\n",
      "개인형이동수단(PM)         승용차  24.9639  0.724  -12.1059  62.0338  False\n",
      "개인형이동수단(PM)        시내버스  17.4121    0.9  -19.9254  54.7496  False\n",
      "개인형이동수단(PM)        시외버스  38.7944 0.0635   -0.7289  78.3177  False\n",
      "개인형이동수단(PM)     어린이통학버스  21.5546    0.9    -18.84  61.9491  False\n",
      "개인형이동수단(PM)        용달화물  19.8596    0.9  -27.8226  67.5419  False\n",
      "개인형이동수단(PM)    원동기장치자전거  14.3927    0.9  -23.6664  52.4518  False\n",
      "개인형이동수단(PM)       위험물운송  77.9466 0.1236   -6.3709 162.2642  False\n",
      "개인형이동수단(PM)         이륜차  12.5282    0.9  -24.8556   49.912  False\n",
      "개인형이동수단(PM)        일반화물  33.2081   0.26   -5.9298   72.346  False\n",
      "개인형이동수단(PM)         자전거    5.467    0.9  -32.1323  43.0664  False\n",
      "개인형이동수단(PM)        전세버스  50.9031  0.001   11.1329  90.6734   True\n",
      "개인형이동수단(PM)      콘크리트믹서  77.9139 0.0011   15.4922 140.3357   True\n",
      "개인형이동수단(PM)    특수여객(장의)  53.8739    0.9  -64.4239 172.1717  False\n",
      "개인형이동수단(PM)         화물차  36.1787 0.0695   -0.9546  73.3119  False\n",
      "       고속버스          기타   6.6883    0.9  -33.5952  46.9717  False\n",
      "       고속버스     기타/건설기계   28.362 0.5756  -10.3928  67.1168  False\n",
      "       고속버스       기타/불명 -21.4977    0.9  -61.1147  18.1193  False\n",
      "       고속버스         농기계   15.019    0.9  -41.0175  71.0555  False\n",
      "       고속버스        덤프트럭  35.8685  0.672  -15.8214  87.5585  False\n",
      "       고속버스         렌터카   3.5981    0.9    -34.81  42.0062  False\n",
      "       고속버스        마을버스  -4.3094    0.9  -44.6648  36.0459  False\n",
      "       고속버스          버스  14.2663    0.9  -24.8771  53.4098  False\n",
      "       고속버스        법인택시   2.9703    0.9  -35.2479  41.1884  False\n",
      "       고속버스          불명 -23.6654 0.8885  -62.5449   15.214  False\n",
      "       고속버스      비사업용기타   10.793    0.9  -28.0445  49.6305  False\n",
      "       고속버스 사륜오토바이(ATV)  -5.6417    0.9  -58.3405  47.0572  False\n",
      "       고속버스         승용차   5.9037    0.9  -31.9981  43.8054  False\n",
      "       고속버스        시내버스  -1.6482    0.9  -39.8117  36.5153  False\n",
      "       고속버스        시외버스  19.7341    0.9  -20.5704  60.0387  False\n",
      "       고속버스     어린이통학버스   2.4943    0.9  -38.6649  43.6535  False\n",
      "       고속버스        용달화물   0.7994    0.9  -47.5324  49.1311  False\n",
      "       고속버스    원동기장치자전거  -4.6676    0.9  -43.5374  34.2022  False\n",
      "       고속버스       위험물운송  58.8864 0.6683  -25.8002 143.5729  False\n",
      "       고속버스         이륜차  -6.5321    0.9  -44.7409  31.6767  False\n",
      "       고속버스        일반화물  14.1478    0.9  -25.7788  54.0745  False\n",
      "       고속버스         자전거 -13.5932    0.9   -52.013  24.8265  False\n",
      "       고속버스        전세버스  31.8429 0.4341   -8.7038  72.3896  False\n",
      "       고속버스      콘크리트믹서  58.8536  0.109   -4.0657 121.7729  False\n",
      "       고속버스    특수여객(장의)  34.8136    0.9  -83.7475 153.3748  False\n",
      "       고속버스         화물차  17.1184    0.9  -20.8453  55.0821  False\n",
      "         기타     기타/건설기계  21.6738  0.001    5.6748  37.6727   True\n",
      "         기타       기타/불명  -28.186  0.001  -46.1731 -10.1988   True\n",
      "         기타         농기계   8.3308    0.9  -35.1907  51.8523  False\n",
      "         기타        덤프트럭  29.1803 0.4702   -8.5806  66.9411  False\n",
      "         기타         렌터카  -3.0902    0.9    -18.23  12.0497  False\n",
      "         기타        마을버스 -10.9977    0.9  -30.5575   8.5621  False\n",
      "         기타          버스   7.5781    0.9   -9.3406  24.4968  False\n",
      "         기타        법인택시   -3.718    0.9  -18.3692  10.9332  False\n",
      "         기타          불명 -30.3537  0.001  -46.6522 -14.0552   True\n",
      "         기타      비사업용기타   4.1047    0.9  -12.0935  20.3029  False\n",
      "         기타 사륜오토바이(ATV) -12.3299    0.9  -51.4605  26.8006  False\n",
      "         기타         승용차  -0.7846    0.9  -14.5894  13.0202  False\n",
      "         기타        시내버스  -8.3364    0.9  -22.8445   6.1716  False\n",
      "         기타        시외버스  13.0459 0.7313    -6.409  32.5007  False\n",
      "         기타     어린이통학버스   -4.194    0.9  -25.3627  16.9747  False\n",
      "         기타        용달화물  -5.8889    0.9  -38.9039  27.1261  False\n",
      "         기타    원동기장치자전거 -11.3558 0.6623  -27.6314   4.9197  False\n",
      "         기타       위험물운송  52.1981 0.7122  -24.7814 129.1776  False\n",
      "         기타         이륜차 -13.2204 0.1526  -27.8472   1.4065  False\n",
      "         기타        일반화물   7.4596    0.9  -11.1998  26.1189  False\n",
      "         기타         자전거 -20.2815  0.001  -35.4508  -5.1122   True\n",
      "         기타        전세버스  25.1546  0.001     5.203  45.1062   True\n",
      "         기타      콘크리트믹서  52.1654 0.0491    0.0802 104.2506   True\n",
      "         기타    특수여객(장의)  28.1254    0.9  -85.0593 141.3101  False\n",
      "         기타         화물차  10.4301 0.5386   -3.5439  24.4042  False\n",
      "    기타/건설기계       기타/불명 -49.8597  0.001  -64.0975 -35.6219   True\n",
      "    기타/건설기계         농기계  -13.343    0.9  -55.4535  28.7676  False\n",
      "    기타/건설기계        덤프트럭   7.5065    0.9  -28.6191  43.6321  False\n",
      "    기타/건설기계         렌터카 -24.7639  0.001  -35.1752 -14.3527   True\n",
      "    기타/건설기계        마을버스 -32.6715  0.001  -48.8505 -16.4924   True\n",
      "    기타/건설기계          버스 -14.0957 0.0133  -26.9572  -1.2341   True\n",
      "    기타/건설기계        법인택시 -25.3918  0.001  -35.0786 -15.7049   True\n",
      "    기타/건설기계          불명 -52.0275  0.001  -64.0616 -39.9933   True\n",
      "    기타/건설기계      비사업용기타  -17.569  0.001  -29.4669  -5.6711   True\n",
      "    기타/건설기계 사륜오토바이(ATV) -34.0037   0.15  -71.5587   3.5513  False\n",
      "    기타/건설기계         승용차 -22.4584  0.001    -30.81 -14.1067   True\n",
      "    기타/건설기계        시내버스 -30.0102  0.001  -39.4792 -20.5412   True\n",
      "    기타/건설기계        시외버스  -8.6279    0.9  -24.6799   7.4241  False\n",
      "    기타/건설기계     어린이통학버스 -25.8677  0.001  -43.9589  -7.7765   True\n",
      "    기타/건설기계        용달화물 -27.5627 0.1837  -58.6942   3.5688  False\n",
      "    기타/건설기계    원동기장치자전거 -33.0296  0.001  -45.0326 -21.0267   True\n",
      "    기타/건설기계       위험물운송  30.5243    0.9  -45.6663  106.715  False\n",
      "    기타/건설기계         이륜차 -34.8941  0.001  -44.5442 -25.2441   True\n",
      "    기타/건설기계        일반화물 -14.2142 0.0999  -29.2923   0.8639  False\n",
      "    기타/건설기계         자전거 -41.9553  0.001  -52.4092 -31.5013   True\n",
      "    기타/건설기계        전세버스   3.4808    0.9  -13.1699  20.1315  False\n",
      "    기타/건설기계      콘크리트믹서  30.4916    0.9  -20.4206  81.4038  False\n",
      "    기타/건설기계    특수여객(장의)   6.4516    0.9 -106.1981 119.1013  False\n",
      "    기타/건설기계         화물차 -11.2437  0.001  -19.8722  -2.6151   True\n",
      "      기타/불명         농기계  36.5168 0.2539   -6.3886  79.4221  False\n",
      "      기타/불명        덤프트럭  57.3663  0.001   20.3172  94.4153   True\n",
      "      기타/불명         렌터카  25.0958  0.001   11.8306   38.361   True\n",
      "      기타/불명        마을버스  17.1883 0.0947   -0.9593  35.3358  False\n",
      "      기타/불명          버스  35.7641  0.001      20.5  51.0281   True\n",
      "      기타/불명        법인택시   24.468  0.001   11.7634  37.1726   True\n",
      "      기타/불명          불명  -2.1677    0.9  -16.7414  12.4059  False\n",
      "      기타/불명      비사업용기타  32.2907  0.001   17.8293  46.7521   True\n",
      "      기타/불명 사륜오토바이(ATV)   15.856    0.9  -22.5881  54.3001  False\n",
      "      기타/불명         승용차  27.4014  0.001   15.6829  39.1198   True\n",
      "      기타/불명        시내버스  19.8495  0.001    7.3103  32.3888   True\n",
      "      기타/불명        시외버스  41.2318  0.001   23.1974  59.2662   True\n",
      "      기타/불명     어린이통학버스   23.992 0.0023    4.1208  43.8632   True\n",
      "      기타/불명        용달화물  22.2971 0.6756   -9.9014  54.4955  False\n",
      "      기타/불명    원동기장치자전거  16.8301 0.0052    2.2822  31.3781   True\n",
      "      기타/불명       위험물운송  80.3841 0.0261    3.7513 157.0169   True\n",
      "      기타/불명         이륜차  14.9656 0.0035    2.2891  27.6421   True\n",
      "      기타/불명        일반화물  35.6455  0.001   18.4723  52.8188   True\n",
      "      기타/불명         자전거   7.9045    0.9   -5.3943  21.2032  False\n",
      "      기타/불명        전세버스  53.3406  0.001   34.7713  71.9098   True\n",
      "      기타/불명      콘크리트믹서  80.3513  0.001   28.7799 131.9228   True\n",
      "      기타/불명    특수여객(장의)  56.3113    0.9  -56.6379 169.2606  False\n",
      "      기타/불명         화물차  38.6161  0.001   26.6987  50.5334   True\n",
      "        농기계        덤프트럭  20.8495    0.9  -33.4019  75.1009  False\n",
      "        농기계         렌터카 -11.4209    0.9  -53.2127  30.3708  False\n",
      "        농기계        마을버스 -19.3285    0.9  -62.9165  24.2596  False\n",
      "        농기계          버스  -0.7527    0.9  -43.2212  41.7158  False\n",
      "        농기계        법인택시 -12.0488    0.9   -53.666  29.5684  False\n",
      "        농기계          불명 -38.6845 0.1332  -80.9098   3.5408  False\n",
      "        농기계      비사업용기타   -4.226    0.9  -46.4127  37.9606  False\n",
      "        농기계 사륜오토바이(ATV) -20.6607    0.9  -75.8743  34.5528  False\n",
      "        농기계         승용차  -9.1154    0.9  -50.4422  32.2114  False\n",
      "        농기계        시내버스 -16.6672    0.9  -58.2342  24.8998  False\n",
      "        농기계        시외버스   4.7151    0.9   -38.826  48.2561  False\n",
      "        농기계     어린이통학버스 -12.5247    0.9  -56.8581  31.8086  False\n",
      "        농기계        용달화물 -14.2197    0.9  -65.2817  36.8423  False\n",
      "        농기계    원동기장치자전거 -19.6866    0.9   -61.903  22.5298  False\n",
      "        농기계       위험물운송  43.8673    0.9  -42.4065 130.1411  False\n",
      "        농기계         이륜차 -21.5512    0.9  -63.1598  20.0575  False\n",
      "        농기계        일반화물  -0.8712    0.9  -44.0627  42.3203  False\n",
      "        농기계         자전거 -28.6123  0.696  -70.4147  13.1901  False\n",
      "        농기계        전세버스  16.8238    0.9  -26.9415  60.5891  False\n",
      "        농기계      콘크리트믹서  43.8346 0.7227  -21.2054 108.8746  False\n",
      "        농기계    특수여객(장의)  19.7946    0.9  -99.9055 139.4947  False\n",
      "        농기계         화물차   2.0993    0.9  -39.2843   43.483  False\n",
      "       덤프트럭         렌터카 -32.2704 0.1547  -68.0239    3.483  False\n",
      "       덤프트럭        마을버스  -40.178 0.0218  -78.0155  -2.3404   True\n",
      "       덤프트럭          버스 -21.6022    0.9  -58.1444  14.9401  False\n",
      "       덤프트럭        법인택시 -32.8983 0.1222  -68.4476    2.651  False\n",
      "       덤프트럭          불명  -59.534  0.001  -95.7933 -23.2747   True\n",
      "       덤프트럭      비사업용기타 -25.0755 0.6758  -61.2898  11.1388  False\n",
      "       덤프트럭 사륜오토바이(ATV) -41.5102 0.3386  -92.3068   9.2864  False\n",
      "       덤프트럭         승용차 -29.9649  0.254  -65.1738    5.244  False\n",
      "       덤프트럭        시내버스 -37.5167 0.0233  -73.0073  -2.0262   True\n",
      "       덤프트럭        시외버스 -16.1344    0.9  -53.9178   21.649  False\n",
      "       덤프트럭     어린이통학버스 -33.3742 0.2292   -72.068   5.3195  False\n",
      "       덤프트럭        용달화물 -35.0692 0.5085  -81.3195  11.1811  False\n",
      "       덤프트럭    원동기장치자전거 -40.5361 0.0095  -76.7851  -4.2871   True\n",
      "       덤프트럭       위험물운송  23.0178    0.9  -60.4982 106.5339  False\n",
      "       덤프트럭         이륜차 -42.4007 0.0029  -77.9399  -6.8614   True\n",
      "       덤프트럭        일반화물 -21.7207    0.9  -59.1007  15.6593  False\n",
      "       덤프트럭         자전거 -49.4618  0.001  -85.2277 -13.6959   True\n",
      "       덤프트럭        전세버스  -4.0257    0.9  -42.0673  34.0159  False\n",
      "       덤프트럭      콘크리트믹서  22.9851    0.9  -38.3498    84.32  False\n",
      "       덤프트럭    특수여객(장의)  -1.0549    0.9 -118.7828  116.673  False\n",
      "       덤프트럭         화물차 -18.7502    0.9  -54.0258  16.5254  False\n",
      "        렌터카        마을버스  -7.9076    0.9  -23.2377   7.4226  False\n",
      "        렌터카          버스  10.6682 0.1492   -1.1076  22.4441  False\n",
      "        렌터카        법인택시  -0.6278    0.9   -8.8185   7.5628  False\n",
      "        렌터카          불명 -27.2635  0.001  -38.1296 -16.3975   True\n",
      "        렌터카      비사업용기타   7.1949  0.729   -3.5201  17.9099  False\n",
      "        렌터카 사륜오토바이(ATV)  -9.2398    0.9   -46.437  27.9574  False\n",
      "        렌터카         승용차   2.3055    0.9    -4.252   8.8631  False\n",
      "        렌터카        시내버스  -5.2463 0.7545  -13.1781   2.6855  False\n",
      "        렌터카        시외버스   16.136 0.0218      0.94   31.332   True\n",
      "        렌터카     어린이통학버스  -1.1038    0.9    -18.44  16.2323  False\n",
      "        렌터카        용달화물  -2.7988    0.9  -33.4976  27.9001  False\n",
      "        렌터카    원동기장치자전거  -8.2657 0.4961  -19.0972   2.5658  False\n",
      "        렌터카       위험물운송  55.2883  0.587  -20.7267 131.3032  False\n",
      "        렌터카         이륜차 -10.1302 0.0012  -18.2773  -1.9832   True\n",
      "        렌터카        일반화물  10.5497 0.5425   -3.6136   24.713  False\n",
      "        렌터카         자전거 -17.1913  0.001  -26.2763  -8.1064   True\n",
      "        렌터카        전세버스  28.2448  0.001   12.4177  44.0719   True\n",
      "        렌터카      콘크리트믹서  55.2555 0.0143    4.6067 105.9043   True\n",
      "        렌터카    특수여객(장의)  31.2155    0.9  -81.3154 143.7464  False\n",
      "        렌터카         화물차  13.5203  0.001    6.6135   20.427   True\n",
      "       마을버스          버스  18.5758 0.0152    1.4867  35.6649   True\n",
      "       마을버스        법인택시   7.2797    0.9    -7.568  22.1274  False\n",
      "       마을버스          불명  -19.356 0.0039  -35.8314  -2.8806   True\n",
      "       마을버스      비사업용기타  15.1024  0.125   -1.2737  31.4786  False\n",
      "       마을버스 사륜오토바이(ATV)  -1.3322    0.9  -40.5368  37.8723  False\n",
      "       마을버스         승용차  10.2131 0.5833   -3.8001  24.2263  False\n",
      "       마을버스        시내버스   2.6613    0.9  -12.0452  17.3678  False\n",
      "       마을버스        시외버스  24.0436 0.0016    4.4403  43.6468   True\n",
      "       마을버스     어린이통학버스   6.8037    0.9  -14.5014  28.1089  False\n",
      "       마을버스        용달화물   5.1088    0.9  -27.9939  38.2115  False\n",
      "       마을버스    원동기장치자전거  -0.3581    0.9  -16.8108  16.0945  False\n",
      "       마을버스       위험물운송  63.1958  0.329  -13.8213 140.2129  False\n",
      "       마을버스         이륜차  -2.2227    0.9  -17.0464   12.601  False\n",
      "       마을버스        일반화물  18.4573 0.0639   -0.3568  37.2713  False\n",
      "       마을버스         자전거  -9.2838 0.8993  -24.6429   6.0754  False\n",
      "       마을버스        전세버스  36.1523  0.001   16.0559  56.2487   True\n",
      "       마을버스      콘크리트믹서  63.1631 0.0021   11.0222 115.3039   True\n",
      "       마을버스    특수여객(장의)  39.1231    0.9  -74.0872 152.3334  False\n",
      "       마을버스         화물차  21.4278  0.001    7.2479  35.6078   True\n",
      "         버스        법인택시 -11.2961 0.0419  -22.4366  -0.1555   True\n",
      "         버스          불명 -37.9318  0.001  -51.1642 -24.6994   True\n",
      "         버스      비사업용기타  -3.4733    0.9   -16.582   9.6353  False\n",
      "         버스 사륜오토바이(ATV)  -19.908    0.9   -57.864  18.0479  False\n",
      "         버스         승용차  -8.3627 0.2897   -18.364   1.6386  False\n",
      "         버스        시내버스 -15.9145  0.001  -26.8662  -4.9629   True\n",
      "         버스        시외버스   5.4678    0.9  -11.5011  22.4367  False\n",
      "         버스     어린이통학버스 -11.7721 0.8533  -30.6815   7.1374  False\n",
      "         버스        용달화물  -13.467    0.9   -45.081   18.147  False\n",
      "         버스    원동기장치자전거 -18.9339  0.001   -32.138  -5.7299   True\n",
      "         버스       위험물운송    44.62    0.9  -31.7691 121.0091  False\n",
      "         버스         이륜차 -20.7985  0.001   -31.907  -9.6899   True\n",
      "         버스        일반화물  -0.1185    0.9  -16.1692  15.9322  False\n",
      "         버스         자전거 -27.8596  0.001  -39.6732  -16.046   True\n",
      "         버스        전세버스  17.5765 0.0486    0.0402  35.1128   True\n",
      "         버스      콘크리트믹서  44.5873 0.2122   -6.6213  95.7959  False\n",
      "         버스    특수여객(장의)  20.5473    0.9  -92.2367 133.3313  False\n",
      "         버스         화물차    2.852    0.9   -7.3816  13.0857  False\n",
      "       법인택시          불명 -26.6357  0.001  -36.8098 -16.4616   True\n",
      "       법인택시      비사업용기타   7.8227  0.446   -2.1899  17.8353  False\n",
      "       법인택시 사륜오토바이(ATV)   -8.612    0.9  -45.6129   28.389  False\n",
      "       법인택시         승용차   2.9334    0.9   -2.3997   8.2665  False\n",
      "       법인택시        시내버스  -4.6185 0.7475  -11.5722   2.3353  False\n",
      "       법인택시        시외버스  16.7638 0.0068    2.0547   31.473   True\n",
      "       법인택시     어린이통학버스   -0.476    0.9   -17.387  16.4351  False\n",
      "       법인택시        용달화물  -2.1709    0.9  -32.6318  28.2899  False\n",
      "       법인택시    원동기장치자전거  -7.6378 0.5207  -17.7751   2.4994  False\n",
      "       법인택시       위험물운송  55.9161 0.5637   -20.003 131.8352  False\n",
      "       법인택시         이륜차  -9.5024  0.001  -16.7007  -2.3041   True\n",
      "       법인택시        일반화물  11.1775  0.332   -2.4621  24.8172  False\n",
      "       법인택시         자전거 -16.5635  0.001  -24.8083  -8.3187   True\n",
      "       법인택시        전세버스  28.8726  0.001   13.5123  44.2329   True\n",
      "       법인택시      콘크리트믹서  55.8834 0.0114    5.3785 106.3882   True\n",
      "       법인택시    특수여객(장의)  31.8434    0.9  -80.6228 144.3096  False\n",
      "       법인택시         화물차  14.1481  0.001     8.391  19.9052   True\n",
      "         불명      비사업용기타  34.4584  0.001   22.1606  46.7563   True\n",
      "         불명 사륜오토바이(ATV)  18.0238    0.9  -19.6599  55.7074  False\n",
      "         불명         승용차  29.5691  0.001   20.6569  38.4813   True\n",
      "         불명        시내버스  22.0173  0.001   12.0504  31.9841   True\n",
      "         불명        시외버스  43.3996  0.001   27.0489  59.7502   True\n",
      "         불명     어린이통학버스  26.1597  0.001     7.803  44.5164   True\n",
      "         불명        용달화물  24.4648  0.444   -6.8217  55.7513  False\n",
      "         불명    원동기장치자전거  18.9979  0.001    6.5984  31.3974   True\n",
      "         불명       위험물운송  82.5518 0.0162    6.2977 158.8059   True\n",
      "         불명         이륜차  17.1333  0.001    6.9943  27.2723   True\n",
      "         불명        일반화물  37.8132  0.001   22.4176  53.2089   True\n",
      "         불명         자전거  10.0722 0.1249   -0.8347  20.9791  False\n",
      "         불명        전세버스  55.5083  0.001   38.5695  72.4471   True\n",
      "         불명      콘크리트믹서  82.5191  0.001    31.512 133.5262   True\n",
      "         불명    특수여객(장의)  58.4791    0.9  -54.2136 171.1717  False\n",
      "         불명         화물차  40.7838  0.001   31.6117   49.956   True\n",
      "     비사업용기타 사륜오토바이(ATV) -16.4347    0.9   -54.075  21.2056  False\n",
      "     비사업용기타         승용차  -4.8893    0.9  -13.6167    3.838  False\n",
      "     비사업용기타        시내버스 -12.4412  0.001  -22.2431  -2.6392   True\n",
      "     비사업용기타        시외버스   8.9411    0.9   -7.3096  25.1918  False\n",
      "     비사업용기타     어린이통학버스  -8.2987    0.9  -26.5664    9.969  False\n",
      "     비사업용기타        용달화물  -9.9937    0.9   -41.228  21.2407  False\n",
      "     비사업용기타    원동기장치자전거 -15.4606  0.001  -27.7279  -3.1932   True\n",
      "     비사업용기타       위험물운송  48.0934 0.8321  -28.1394 124.3261  False\n",
      "     비사업용기타         이륜차 -17.3251  0.001  -27.3021  -7.3482   True\n",
      "     비사업용기타        일반화물   3.3548    0.9  -11.9346  18.6442  False\n",
      "     비사업용기타         자전거 -24.3862  0.001  -35.1427 -13.6298   True\n",
      "     비사업용기타        전세버스  21.0499 0.0011    4.2076  37.8921   True\n",
      "     비사업용기타      콘크리트믹서  48.0606 0.0997   -2.9145  99.0358  False\n",
      "     비사업용기타    특수여객(장의)  24.0206    0.9  -88.6575 136.6988  False\n",
      "     비사업용기타         화물차   6.3254 0.6479   -2.6673  15.3181  False\n",
      "사륜오토바이(ATV)         승용차  11.5453    0.9  -25.1287  48.2194  False\n",
      "사륜오토바이(ATV)        시내버스   3.9935    0.9   -32.951   40.938  False\n",
      "사륜오토바이(ATV)        시외버스  25.3758 0.7883  -13.7765  64.5281  False\n",
      "사륜오토바이(ATV)     어린이통학버스    8.136    0.9  -31.8956  48.1675  False\n",
      "사륜오토바이(ATV)        용달화물    6.441    0.9  -40.9341  53.8162  False\n",
      "사륜오토바이(ATV)    원동기장치자전거   0.9741    0.9  -36.6996  38.6478  False\n",
      "사륜오토바이(ATV)       위험물운송   64.528 0.4862  -19.6162 148.6723  False\n",
      "사륜오토바이(ATV)         이륜차  -0.8904    0.9  -37.8818  36.1009  False\n",
      "사륜오토바이(ATV)        일반화물  19.7895    0.9  -18.9737  58.5527  False\n",
      "사륜오토바이(ATV)         자전거  -7.9516    0.9  -45.1607  29.2576  False\n",
      "사륜오토바이(ATV)        전세버스  37.4846   0.09    -1.917  76.8861  False\n",
      "사륜오토바이(ATV)      콘크리트믹서  64.4953 0.0307    2.3078 126.6828   True\n",
      "사륜오토바이(ATV)    특수여객(장의)  40.4553    0.9  -77.7191 158.6297  False\n",
      "사륜오토바이(ATV)         화물차  22.7601  0.861   -13.978  59.4981  False\n",
      "        승용차        시내버스  -7.5518  0.001  -12.4782  -2.6255   True\n",
      "        승용차        시외버스  13.8305 0.0517   -0.0359  27.6968  False\n",
      "        승용차     어린이통학버스  -3.4094    0.9  -19.5926  12.7739  False\n",
      "        승용차        용달화물  -5.1043    0.9  -35.1672  24.9586  False\n",
      "        승용차    원동기장치자전거 -10.5712 0.0029  -19.4413  -1.7012   True\n",
      "        승용차       위험물운송  52.9827 0.6582  -22.7776  128.743  False\n",
      "        승용차         이륜차 -12.4358  0.001  -17.7017  -7.1699   True\n",
      "        승용차        일반화물   8.2442 0.7891    -4.482  20.9703  False\n",
      "        승용차         자전거 -19.4969  0.001   -26.122 -12.8718   True\n",
      "        승용차        전세버스  25.9392  0.001   11.3841  40.4944   True\n",
      "        승용차      콘크리트믹서    52.95 0.0245    2.6841 103.2158   True\n",
      "        승용차    특수여객(장의)    28.91    0.9  -83.4491  141.269  False\n",
      "        승용차         화물차  11.2147  0.001    8.2049  14.2245   True\n",
      "       시내버스        시외버스  21.3823  0.001    6.8157  35.9489   True\n",
      "       시내버스     어린이통학버스   4.1425    0.9  -12.6447  20.9297  False\n",
      "       시내버스        용달화물   2.4475    0.9  -27.9447  32.8398  False\n",
      "       시내버스    원동기장치자전거  -3.0194    0.9  -12.9486   6.9098  False\n",
      "       시내버스       위험물운송  60.5345 0.3969  -15.3571 136.4261  False\n",
      "       시내버스         이륜차  -4.8839 0.6372  -11.7862   2.0184  False\n",
      "       시내버스        일반화물   15.796 0.0041    2.3102  29.2818   True\n",
      "       시내버스         자전거 -11.9451  0.001  -19.9328  -3.9574   True\n",
      "       시내버스        전세버스   33.491  0.001   18.2672  48.7149   True\n",
      "       시내버스      콘크리트믹서  60.5018 0.0026   10.0383 110.9653   True\n",
      "       시내버스    특수여객(장의)  36.4618    0.9  -75.9858 148.9094  False\n",
      "       시내버스         화물차  18.7666  0.001   13.3841   24.149   True\n",
      "       시외버스     어린이통학버스 -17.2398 0.3511  -38.4487    3.969  False\n",
      "       시외버스        용달화물 -18.9348    0.9  -51.9756   14.106  False\n",
      "       시외버스    원동기장치자전거 -24.4017  0.001  -40.7294  -8.0739   True\n",
      "       시외버스       위험물운송  39.1522    0.9  -37.8383 116.1428  False\n",
      "       시외버스         이륜차 -26.2662  0.001  -40.9512 -11.5813   True\n",
      "       시외버스        일반화물  -5.5863    0.9  -24.2912  13.1186  False\n",
      "       시외버스         자전거 -33.3274  0.001  -48.5526 -18.1021   True\n",
      "       시외버스        전세버스  12.1088 0.8963   -7.8855   32.103  False\n",
      "       시외버스      콘크리트믹서  39.1195 0.5273   -12.982  91.2211  False\n",
      "       시외버스    특수여객(장의)  15.0795    0.9  -98.1127 128.2717  False\n",
      "       시외버스         화물차  -2.6157    0.9  -16.6506  11.4191  False\n",
      "    어린이통학버스        용달화물  -1.6949    0.9  -35.7731  32.3832  False\n",
      "    어린이통학버스    원동기장치자전거  -7.1619    0.9  -25.4981  11.1744  False\n",
      "    어린이통학버스       위험물운송  56.3921 0.5849  -21.0493 133.8334  False\n",
      "    어린이통학버스         이륜차  -9.0264    0.9  -25.9164   7.8636  False\n",
      "    어린이통학버스        일반화물  11.6535    0.9   -8.8281  32.1351  False\n",
      "    어린이통학버스         자전거 -16.0875 0.1206  -33.4494   1.2743  False\n",
      "    어린이통학버스        전세버스  29.3486  0.001    7.6831  51.0141   True\n",
      "    어린이통학버스      콘크리트믹서  56.3593   0.02    3.5939 109.1248   True\n",
      "    어린이통학버스    특수여객(장의)  32.3193    0.9    -81.18 145.8187  False\n",
      "    어린이통학버스         화물차  14.6241 0.1664   -1.7038   30.952  False\n",
      "       용달화물    원동기장치자전거  -5.4669    0.9  -36.7415  25.8076  False\n",
      "       용달화물       위험물운송   58.087 0.6237  -23.3933 139.5673  False\n",
      "       용달화물         이륜차  -7.3315    0.9  -37.7806  23.1177  False\n",
      "       용달화물        일반화물  13.3485    0.9  -19.2303  45.9272  False\n",
      "       용달화물         자전거 -14.3926    0.9   -45.106  16.3208  False\n",
      "       용달화물        전세버스  31.0435 0.1144   -2.2922  64.3793  False\n",
      "       용달화물      콘크리트믹서  58.0543 0.0556   -0.4784  116.587  False\n",
      "       용달화물    특수여객(장의)  34.0143    0.9  -82.2784 150.3069  False\n",
      "       용달화물         화물차   16.319    0.9   -13.822    46.46  False\n",
      "   원동기장치자전거       위험물운송  63.5539 0.2963  -12.6953 139.8032  False\n",
      "   원동기장치자전거         이륜차  -1.8645    0.9  -11.9665   8.2375  False\n",
      "   원동기장치자전거        일반화물  18.8154 0.0017    3.4441  34.1867   True\n",
      "   원동기장치자전거         자전거  -8.9257 0.3279  -19.7982   1.9469  False\n",
      "   원동기장치자전거        전세버스  36.5104  0.001   19.5938  53.4271   True\n",
      "   원동기장치자전거      콘크리트믹서  63.5212 0.0012   12.5215  114.521   True\n",
      "   원동기장치자전거    특수여객(장의)  39.4812    0.9  -73.2081 152.1705  False\n",
      "   원동기장치자전거         화물차   21.786  0.001   12.6547  30.9172   True\n",
      "      위험물운송         이륜차 -65.4185 0.2309 -141.3329  10.4959  False\n",
      "      위험물운송        일반화물 -44.7386    0.9 -121.5319  32.0548  False\n",
      "      위험물운송         자전거 -72.4796 0.0877 -148.5004   3.5412  False\n",
      "      위험물운송        전세버스 -27.0435    0.9 -104.1611  50.0741  False\n",
      "      위험물운송      콘크리트믹서  -0.0327    0.9  -90.9278  90.8624  False\n",
      "      위험물운송    특수여객(장의) -24.0727    0.9 -159.5712 111.4257  False\n",
      "      위험물운송         화물차  -41.768    0.9 -117.5593  34.0233  False\n",
      "        이륜차        일반화물  20.6799  0.001    7.0664  34.2935   True\n",
      "        이륜차         자전거  -7.0611 0.2325  -15.2626   1.1404  False\n",
      "        이륜차        전세버스   38.375  0.001   23.0379   53.712   True\n",
      "        이륜차      콘크리트믹서  65.3857  0.001    14.888 115.8835   True\n",
      "        이륜차    특수여객(장의)  41.3457    0.9  -71.1173 153.8088  False\n",
      "        이륜차         화물차  23.6505  0.001   17.9556  29.3454   True\n",
      "       일반화물         자전거 -27.7411  0.001  -41.9358 -13.5463   True\n",
      "       일반화물        전세버스  17.6951 0.1268   -1.5261  36.9162  False\n",
      "       일반화물      콘크리트믹서  44.7058 0.2285    -7.104  96.5156  False\n",
      "       일반화물    특수여객(장의)  20.6658    0.9  -92.3924  133.724  False\n",
      "       일반화물         화물차   2.9706    0.9    -9.939  15.8801  False\n",
      "        자전거        전세버스  45.4361  0.001   29.5809  61.2913   True\n",
      "        자전거      콘크리트믹서  72.4469  0.001   21.7893 123.1044   True\n",
      "        자전거    특수여객(장의)  48.4069    0.9   -64.128 160.9417  False\n",
      "        자전거         화물차  30.7116  0.001   23.7407  37.6825   True\n",
      "       전세버스      콘크리트믹서  27.0108    0.9  -25.2783  79.2999  False\n",
      "       전세버스    특수여객(장의)   2.9708    0.9 -110.3079 116.2494  False\n",
      "       전세버스         화물차 -14.7245 0.0496  -29.4403  -0.0087   True\n",
      "     콘크리트믹서    특수여객(장의)   -24.04    0.9 -147.1126  99.0326  False\n",
      "     콘크리트믹서         화물차 -41.7353 0.3062  -92.0478   8.5773  False\n",
      "   특수여객(장의)         화물차 -17.6953    0.9 -130.0752  94.6847  False\n",
      "-----------------------------------------------------------------\n"
     ]
    }
   ],
   "source": [
    "posthoc = pairwise_tukeyhsd(df['사고심각도'], df['차량용도가해자'], alpha=0.05)\n",
    "print(posthoc)"
   ]
  },
  {
   "cell_type": "code",
   "execution_count": 45,
   "metadata": {},
   "outputs": [
    {
     "data": {
      "image/png": "[encoded data removed]",
      "text/plain": [
       "<Figure size 720x432 with 1 Axes>"
      ]
     },
     "metadata": {
      "needs_background": "light"
     },
     "output_type": "display_data"
    }
   ],
   "source": [
    "fig = posthoc.plot_simultaneous()"
   ]
  },
  {
   "cell_type": "markdown",
   "metadata": {},
   "source": [
    "---"
   ]
  },
  {
   "cell_type": "markdown",
   "metadata": {},
   "source": [
    "## 도로종류 (O) / (O)"
   ]
  },
  {
   "cell_type": "code",
   "execution_count": 46,
   "metadata": {},
   "outputs": [
    {
     "data": {
      "text/html": [
       "<div>\n",
       "<style scoped>\n",
       "    .dataframe tbody tr th:only-of-type {\n",
       "        vertical-align: middle;\n",
       "    }\n",
       "\n",
       "    .dataframe tbody tr th {\n",
       "        vertical-align: top;\n",
       "    }\n",
       "\n",
       "    .dataframe thead th {\n",
       "        text-align: right;\n",
       "    }\n",
       "</style>\n",
       "<table border=\"1\" class=\"dataframe\">\n",
       "  <thead>\n",
       "    <tr style=\"text-align: right;\">\n",
       "      <th></th>\n",
       "      <th>df</th>\n",
       "      <th>sum_sq</th>\n",
       "      <th>mean_sq</th>\n",
       "      <th>F</th>\n",
       "      <th>PR(&gt;F)</th>\n",
       "    </tr>\n",
       "  </thead>\n",
       "  <tbody>\n",
       "    <tr>\n",
       "      <th>C(도로종류)</th>\n",
       "      <td>6.0</td>\n",
       "      <td>6.091310e+06</td>\n",
       "      <td>1.015218e+06</td>\n",
       "      <td>227.433244</td>\n",
       "      <td>3.066452e-288</td>\n",
       "    </tr>\n",
       "    <tr>\n",
       "      <th>Residual</th>\n",
       "      <td>57563.0</td>\n",
       "      <td>2.569502e+08</td>\n",
       "      <td>4.463808e+03</td>\n",
       "      <td>NaN</td>\n",
       "      <td>NaN</td>\n",
       "    </tr>\n",
       "  </tbody>\n",
       "</table>\n",
       "</div>"
      ],
      "text/plain": [
       "               df        sum_sq       mean_sq           F         PR(>F)\n",
       "C(도로종류)       6.0  6.091310e+06  1.015218e+06  227.433244  3.066452e-288\n",
       "Residual  57563.0  2.569502e+08  4.463808e+03         NaN            NaN"
      ]
     },
     "execution_count": 46,
     "metadata": {},
     "output_type": "execute_result"
    }
   ],
   "source": [
    "model = ols('사고심각도 ~ C(도로종류)', df).fit()\n",
    "anova_lm(model)"
   ]
  },
  {
   "cell_type": "code",
   "execution_count": 47,
   "metadata": {},
   "outputs": [
    {
     "name": "stdout",
     "output_type": "stream",
     "text": [
      " Multiple Comparison of Means - Tukey HSD, FWER=0.05  \n",
      "======================================================\n",
      "group1 group2 meandiff p-adj   lower    upper   reject\n",
      "------------------------------------------------------\n",
      "  고속국도     군도 -44.2952  0.001 -68.8191 -19.7714   True\n",
      "  고속국도     기타 -61.5322  0.001 -85.9223 -37.1421   True\n",
      "  고속국도     시도 -49.7398  0.001 -74.0304 -25.4491   True\n",
      "  고속국도   일반국도 -16.7187 0.4103 -41.2419   7.8044  False\n",
      "  고속국도    지방도 -33.2716 0.0012 -57.7225  -8.8206   True\n",
      "  고속국도 특별광역시도 -55.8046  0.001 -80.0857 -31.5235   True\n",
      "    군도     기타  -17.237  0.001 -21.7561 -12.7179   True\n",
      "    군도     시도  -5.4445  0.001  -9.3919  -1.4971   True\n",
      "    군도   일반국도  27.5765  0.001  22.3872  32.7658   True\n",
      "    군도    지방도  11.0237  0.001   6.1869  15.8605   True\n",
      "    군도 특별광역시도 -11.5094  0.001 -15.3974  -7.6213   True\n",
      "    기타     시도  11.7925  0.001   8.7861  14.7988   True\n",
      "    기타   일반국도  44.8135  0.001  40.2986  49.3284   True\n",
      "    기타    지방도  28.2607  0.001  24.1557  32.3656   True\n",
      "    기타 특별광역시도   5.7276  0.001   2.7996   8.6556   True\n",
      "    시도   일반국도   33.021  0.001  29.0784  36.9637   True\n",
      "    시도    지방도  16.4682  0.001  13.0026  19.9338   True\n",
      "    시도 특별광역시도  -6.0649  0.001   -7.997  -4.1328   True\n",
      "  일반국도    지방도 -16.5528  0.001 -21.3858 -11.7199   True\n",
      "  일반국도 특별광역시도 -39.0859  0.001 -42.9692 -35.2026   True\n",
      "   지방도 특별광역시도 -22.5331  0.001  -25.931 -19.1351   True\n",
      "------------------------------------------------------\n"
     ]
    }
   ],
   "source": [
    "posthoc = pairwise_tukeyhsd(df['사고심각도'], df['도로종류'], alpha=0.05)\n",
    "print(posthoc)"
   ]
  },
  {
   "cell_type": "code",
   "execution_count": 48,
   "metadata": {},
   "outputs": [
    {
     "data": {
      "image/png": "[encoded data removed]",
      "text/plain": [
       "<Figure size 720x432 with 1 Axes>"
      ]
     },
     "metadata": {
      "needs_background": "light"
     },
     "output_type": "display_data"
    }
   ],
   "source": [
    "fig = posthoc.plot_simultaneous()"
   ]
  },
  {
   "cell_type": "markdown",
   "metadata": {},
   "source": [
    "---"
   ]
  },
  {
   "cell_type": "markdown",
   "metadata": {},
   "source": [
    "## 도로형태 (O) / (O)"
   ]
  },
  {
   "cell_type": "code",
   "execution_count": 49,
   "metadata": {},
   "outputs": [
    {
     "data": {
      "text/html": [
       "<div>\n",
       "<style scoped>\n",
       "    .dataframe tbody tr th:only-of-type {\n",
       "        vertical-align: middle;\n",
       "    }\n",
       "\n",
       "    .dataframe tbody tr th {\n",
       "        vertical-align: top;\n",
       "    }\n",
       "\n",
       "    .dataframe thead th {\n",
       "        text-align: right;\n",
       "    }\n",
       "</style>\n",
       "<table border=\"1\" class=\"dataframe\">\n",
       "  <thead>\n",
       "    <tr style=\"text-align: right;\">\n",
       "      <th></th>\n",
       "      <th>df</th>\n",
       "      <th>sum_sq</th>\n",
       "      <th>mean_sq</th>\n",
       "      <th>F</th>\n",
       "      <th>PR(&gt;F)</th>\n",
       "    </tr>\n",
       "  </thead>\n",
       "  <tbody>\n",
       "    <tr>\n",
       "      <th>C(도로형태)</th>\n",
       "      <td>11.0</td>\n",
       "      <td>5.584532e+05</td>\n",
       "      <td>50768.473807</td>\n",
       "      <td>11.13265</td>\n",
       "      <td>6.132646e-21</td>\n",
       "    </tr>\n",
       "    <tr>\n",
       "      <th>Residual</th>\n",
       "      <td>57558.0</td>\n",
       "      <td>2.624830e+08</td>\n",
       "      <td>4560.322299</td>\n",
       "      <td>NaN</td>\n",
       "      <td>NaN</td>\n",
       "    </tr>\n",
       "  </tbody>\n",
       "</table>\n",
       "</div>"
      ],
      "text/plain": [
       "               df        sum_sq       mean_sq         F        PR(>F)\n",
       "C(도로형태)      11.0  5.584532e+05  50768.473807  11.13265  6.132646e-21\n",
       "Residual  57558.0  2.624830e+08   4560.322299       NaN           NaN"
      ]
     },
     "execution_count": 49,
     "metadata": {},
     "output_type": "execute_result"
    }
   ],
   "source": [
    "model = ols('사고심각도 ~ C(도로형태)', df).fit()\n",
    "anova_lm(model)"
   ]
  },
  {
   "cell_type": "code",
   "execution_count": 50,
   "metadata": {},
   "outputs": [
    {
     "name": "stdout",
     "output_type": "stream",
     "text": [
      "    Multiple Comparison of Means - Tukey HSD, FWER=0.05     \n",
      "============================================================\n",
      "  group1    group2  meandiff p-adj   lower    upper   reject\n",
      "------------------------------------------------------------\n",
      "    고가도로위       교량위    24.73 0.6917 -16.4536  65.9137  False\n",
      "    고가도로위      교차로내  -0.8531    0.9    -37.7  35.9938  False\n",
      "    고가도로위     교차로부근  -0.4687    0.9 -37.3447  36.4073  False\n",
      "    고가도로위  교차로횡단보도내  -1.9089    0.9 -38.8581  35.0404  False\n",
      "    고가도로위     기타/불명  -9.7559    0.9 -46.7666  27.2547  False\n",
      "    고가도로위     기타단일로  -0.1895    0.9 -36.9958  36.6168  False\n",
      "    고가도로위       주차장 -19.0933    0.9  -57.497  19.3103  False\n",
      "    고가도로위 지하차도(도로)내    5.701    0.9  -33.292   44.694  False\n",
      "    고가도로위       터널안  15.0741    0.9 -41.1145  71.2626  False\n",
      "    고가도로위    횡단보도부근    4.955    0.9 -33.5104  43.4204  False\n",
      "    고가도로위     횡단보도상    4.254    0.9 -32.8687  41.3767  False\n",
      "      교량위      교차로내 -25.5831  0.001 -44.2287  -6.9376   True\n",
      "      교량위     교차로부근 -25.1987  0.001 -43.9018  -6.4956   True\n",
      "      교량위  교차로횡단보도내 -26.6389  0.001  -45.486  -7.7918   True\n",
      "      교량위     기타/불명  -34.486  0.001 -53.4531 -15.5188   True\n",
      "      교량위     기타단일로 -24.9195  0.001 -43.4848  -6.3542   True\n",
      "      교량위       주차장 -43.8234  0.001 -65.3828  -22.264   True\n",
      "      교량위 지하차도(도로)내  -19.029 0.2007 -41.6215   3.5635  False\n",
      "      교량위       터널안   -9.656    0.9  -55.993   36.681  False\n",
      "      교량위    횡단보도부근 -19.7751  0.114 -41.4442   1.8941  False\n",
      "      교량위     횡단보도상  -20.476 0.0245  -39.661  -1.2911   True\n",
      "     교차로내     교차로부근   0.3844    0.9  -2.9922    3.761  False\n",
      "     교차로내  교차로횡단보도내  -1.0558    0.9  -5.1558   3.0443  False\n",
      "     교차로내     기타/불명  -8.9028  0.001 -13.5233  -4.2824   True\n",
      "     교차로내     기타단일로   0.6636    0.9  -1.8396   3.1668  False\n",
      "     교차로내       주차장 -18.2402  0.001 -29.4831  -6.9974   True\n",
      "     교차로내 지하차도(도로)내   6.5541 0.8986  -6.5614  19.6696  False\n",
      "     교차로내       터널안  15.9272    0.9 -26.6018  58.4561  False\n",
      "     교차로내    횡단보도부근   5.8081 0.8833  -5.6439    17.26  False\n",
      "     교차로내     횡단보도상   5.1071 0.0905  -0.3388   10.553  False\n",
      "    교차로부근  교차로횡단보도내  -1.4402    0.9  -5.7943   2.9139  False\n",
      "    교차로부근     기타/불명  -9.2873  0.001 -14.1346  -4.4399   True\n",
      "    교차로부근     기타단일로   0.2792    0.9  -2.6215   3.1799  False\n",
      "    교차로부근       주차장 -18.6247  0.001 -29.9627  -7.2867   True\n",
      "    교차로부근 지하차도(도로)내   6.1697    0.9  -7.0274  19.3668  False\n",
      "    교차로부근       터널안  15.5427    0.9 -27.0115   58.097  False\n",
      "    교차로부근    횡단보도부근   5.4236    0.9  -6.1217   16.969  False\n",
      "    교차로부근     횡단보도상   4.7227 0.2082   -0.917  10.3623  False\n",
      " 교차로횡단보도내     기타/불명  -7.8471  0.001 -13.2234  -2.4707   True\n",
      " 교차로횡단보도내     기타단일로   1.7194    0.9  -1.9985   5.4373  False\n",
      " 교차로횡단보도내       주차장 -17.1845  0.001 -28.7586  -5.6104   True\n",
      " 교차로횡단보도내 지하차도(도로)내   7.6099 0.7587  -5.7906  21.0104  False\n",
      " 교차로횡단보도내       터널안  16.9829    0.9 -25.6348  59.6007  False\n",
      " 교차로횡단보도내    횡단보도부근   6.8638  0.728  -4.9134  18.6411  False\n",
      " 교차로횡단보도내     횡단보도상   6.1629 0.0451   0.0625  12.2633   True\n",
      "    기타/불명     기타단일로   9.5665  0.001   5.2815  13.8514   True\n",
      "    기타/불명       주차장  -9.3374 0.2838 -21.1059   2.4311  False\n",
      "    기타/불명 지하차도(도로)내   15.457 0.0107   1.8882  29.0257   True\n",
      "    기타/불명       터널안    24.83 0.7299 -17.8409  67.5009  False\n",
      "    기타/불명    횡단보도부근  14.7109 0.0034   2.7425  26.6793   True\n",
      "    기타/불명     횡단보도상  14.0099  0.001   7.5483  20.4716   True\n",
      "    기타단일로       주차장 -18.9039  0.001 -30.0131  -7.7946   True\n",
      "    기타단일로 지하차도(도로)내   5.8905    0.9  -7.1106  18.8916  False\n",
      "    기타단일로       터널안  15.2635    0.9 -27.2303  57.7574  False\n",
      "    기타단일로    횡단보도부근   5.1444    0.9  -6.1763  16.4652  False\n",
      "    기타단일로     횡단보도상   4.4435  0.175  -0.7208   9.6078  False\n",
      "      주차장 지하차도(도로)내  24.7944  0.001   7.7895  41.7992   True\n",
      "      주차장       터널안  34.1674 0.3123  -9.7172  78.0521  False\n",
      "      주차장    횡단보도부근  24.0483  0.001   8.2909  39.8057   True\n",
      "      주차장     횡단보도상  23.3474  0.001   11.231  35.4637   True\n",
      "지하차도(도로)내       터널안    9.373    0.9 -35.0283  53.7744  False\n",
      "지하차도(도로)내    횡단보도부근  -0.7461    0.9 -17.8899  16.3977  False\n",
      "지하차도(도로)내     횡단보도상   -1.447    0.9 -15.3186  12.4246  False\n",
      "      터널안    횡단보도부근 -10.1191    0.9 -54.0578  33.8196  False\n",
      "      터널안     횡단보도상   -10.82    0.9 -53.5882  31.9481  False\n",
      "   횡단보도부근     횡단보도상   -0.701    0.9 -13.0116  11.6097  False\n",
      "------------------------------------------------------------\n"
     ]
    }
   ],
   "source": [
    "posthoc = pairwise_tukeyhsd(df['사고심각도'], df['도로형태'], alpha=0.05)\n",
    "print(posthoc)"
   ]
  },
  {
   "cell_type": "code",
   "execution_count": 51,
   "metadata": {},
   "outputs": [
    {
     "data": {
      "image/png": "[encoded data removed]",
      "text/plain": [
       "<Figure size 720x432 with 1 Axes>"
      ]
     },
     "metadata": {
      "needs_background": "light"
     },
     "output_type": "display_data"
    }
   ],
   "source": [
    "fig = posthoc.plot_simultaneous()"
   ]
  },
  {
   "cell_type": "markdown",
   "metadata": {},
   "source": [
    "---"
   ]
  },
  {
   "cell_type": "markdown",
   "metadata": {},
   "source": [
    "## 노인보호구역_여부 (O) / (X)"
   ]
  },
  {
   "cell_type": "code",
   "execution_count": 52,
   "metadata": {},
   "outputs": [
    {
     "data": {
      "text/html": [
       "<div>\n",
       "<style scoped>\n",
       "    .dataframe tbody tr th:only-of-type {\n",
       "        vertical-align: middle;\n",
       "    }\n",
       "\n",
       "    .dataframe tbody tr th {\n",
       "        vertical-align: top;\n",
       "    }\n",
       "\n",
       "    .dataframe thead th {\n",
       "        text-align: right;\n",
       "    }\n",
       "</style>\n",
       "<table border=\"1\" class=\"dataframe\">\n",
       "  <thead>\n",
       "    <tr style=\"text-align: right;\">\n",
       "      <th></th>\n",
       "      <th>df</th>\n",
       "      <th>sum_sq</th>\n",
       "      <th>mean_sq</th>\n",
       "      <th>F</th>\n",
       "      <th>PR(&gt;F)</th>\n",
       "    </tr>\n",
       "  </thead>\n",
       "  <tbody>\n",
       "    <tr>\n",
       "      <th>C(노인보호구역_여부)</th>\n",
       "      <td>1.0</td>\n",
       "      <td>2.631270e+04</td>\n",
       "      <td>26312.704857</td>\n",
       "      <td>5.759249</td>\n",
       "      <td>0.016405</td>\n",
       "    </tr>\n",
       "    <tr>\n",
       "      <th>Residual</th>\n",
       "      <td>57568.0</td>\n",
       "      <td>2.630152e+08</td>\n",
       "      <td>4568.773822</td>\n",
       "      <td>NaN</td>\n",
       "      <td>NaN</td>\n",
       "    </tr>\n",
       "  </tbody>\n",
       "</table>\n",
       "</div>"
      ],
      "text/plain": [
       "                   df        sum_sq       mean_sq         F    PR(>F)\n",
       "C(노인보호구역_여부)      1.0  2.631270e+04  26312.704857  5.759249  0.016405\n",
       "Residual      57568.0  2.630152e+08   4568.773822       NaN       NaN"
      ]
     },
     "execution_count": 52,
     "metadata": {},
     "output_type": "execute_result"
    }
   ],
   "source": [
    "model = ols('사고심각도 ~ C(노인보호구역_여부)', df).fit()\n",
    "anova_lm(model)"
   ]
  },
  {
   "cell_type": "code",
   "execution_count": 55,
   "metadata": {},
   "outputs": [
    {
     "name": "stdout",
     "output_type": "stream",
     "text": [
      "Multiple Comparison of Means - Tukey HSD, FWER=0.05\n",
      "===================================================\n",
      "group1 group2 meandiff p-adj  lower   upper  reject\n",
      "---------------------------------------------------\n",
      "   아니오      예  25.6569 0.0164 4.7023 46.6114   True\n",
      "---------------------------------------------------\n"
     ]
    }
   ],
   "source": [
    "posthoc = pairwise_tukeyhsd(df['사고심각도'], df['노인보호구역_여부'], alpha=0.05)\n",
    "print(posthoc)"
   ]
  },
  {
   "cell_type": "markdown",
   "metadata": {},
   "source": [
    "---"
   ]
  },
  {
   "cell_type": "markdown",
   "metadata": {},
   "source": [
    "## 어린이보호구역_여부 (O) / (X)"
   ]
  },
  {
   "cell_type": "code",
   "execution_count": 64,
   "metadata": {},
   "outputs": [
    {
     "data": {
      "text/html": [
       "<div>\n",
       "<style scoped>\n",
       "    .dataframe tbody tr th:only-of-type {\n",
       "        vertical-align: middle;\n",
       "    }\n",
       "\n",
       "    .dataframe tbody tr th {\n",
       "        vertical-align: top;\n",
       "    }\n",
       "\n",
       "    .dataframe thead th {\n",
       "        text-align: right;\n",
       "    }\n",
       "</style>\n",
       "<table border=\"1\" class=\"dataframe\">\n",
       "  <thead>\n",
       "    <tr style=\"text-align: right;\">\n",
       "      <th></th>\n",
       "      <th>df</th>\n",
       "      <th>sum_sq</th>\n",
       "      <th>mean_sq</th>\n",
       "      <th>F</th>\n",
       "      <th>PR(&gt;F)</th>\n",
       "    </tr>\n",
       "  </thead>\n",
       "  <tbody>\n",
       "    <tr>\n",
       "      <th>C(어린이보호구역_여부)</th>\n",
       "      <td>1.0</td>\n",
       "      <td>2.992246e+04</td>\n",
       "      <td>29922.461404</td>\n",
       "      <td>6.549432</td>\n",
       "      <td>0.010494</td>\n",
       "    </tr>\n",
       "    <tr>\n",
       "      <th>Residual</th>\n",
       "      <td>57568.0</td>\n",
       "      <td>2.630116e+08</td>\n",
       "      <td>4568.711117</td>\n",
       "      <td>NaN</td>\n",
       "      <td>NaN</td>\n",
       "    </tr>\n",
       "  </tbody>\n",
       "</table>\n",
       "</div>"
      ],
      "text/plain": [
       "                    df        sum_sq       mean_sq         F    PR(>F)\n",
       "C(어린이보호구역_여부)      1.0  2.992246e+04  29922.461404  6.549432  0.010494\n",
       "Residual       57568.0  2.630116e+08   4568.711117       NaN       NaN"
      ]
     },
     "execution_count": 64,
     "metadata": {},
     "output_type": "execute_result"
    }
   ],
   "source": [
    "model = ols('사고심각도 ~ C(어린이보호구역_여부)', df).fit()\n",
    "anova_lm(model)"
   ]
  },
  {
   "cell_type": "code",
   "execution_count": 65,
   "metadata": {},
   "outputs": [
    {
     "name": "stdout",
     "output_type": "stream",
     "text": [
      " Multiple Comparison of Means - Tukey HSD, FWER=0.05 \n",
      "=====================================================\n",
      "group1 group2 meandiff p-adj   lower    upper  reject\n",
      "-----------------------------------------------------\n",
      "   아니오      예 -11.9304 0.0105 -21.0675 -2.7933   True\n",
      "-----------------------------------------------------\n"
     ]
    }
   ],
   "source": [
    "posthoc = pairwise_tukeyhsd(df['사고심각도'], df['어린이보호구역_여부'], alpha=0.05)\n",
    "print(posthoc)"
   ]
  },
  {
   "cell_type": "markdown",
   "metadata": {},
   "source": [
    "---"
   ]
  },
  {
   "cell_type": "markdown",
   "metadata": {},
   "source": [
    "## 도로선형 (O) / (O)"
   ]
  },
  {
   "cell_type": "code",
   "execution_count": 68,
   "metadata": {},
   "outputs": [
    {
     "data": {
      "text/html": [
       "<div>\n",
       "<style scoped>\n",
       "    .dataframe tbody tr th:only-of-type {\n",
       "        vertical-align: middle;\n",
       "    }\n",
       "\n",
       "    .dataframe tbody tr th {\n",
       "        vertical-align: top;\n",
       "    }\n",
       "\n",
       "    .dataframe thead th {\n",
       "        text-align: right;\n",
       "    }\n",
       "</style>\n",
       "<table border=\"1\" class=\"dataframe\">\n",
       "  <thead>\n",
       "    <tr style=\"text-align: right;\">\n",
       "      <th></th>\n",
       "      <th>df</th>\n",
       "      <th>sum_sq</th>\n",
       "      <th>mean_sq</th>\n",
       "      <th>F</th>\n",
       "      <th>PR(&gt;F)</th>\n",
       "    </tr>\n",
       "  </thead>\n",
       "  <tbody>\n",
       "    <tr>\n",
       "      <th>C(도로선형)</th>\n",
       "      <td>3.0</td>\n",
       "      <td>8.228189e+05</td>\n",
       "      <td>274272.978814</td>\n",
       "      <td>60.212336</td>\n",
       "      <td>7.389910e-39</td>\n",
       "    </tr>\n",
       "    <tr>\n",
       "      <th>Residual</th>\n",
       "      <td>57566.0</td>\n",
       "      <td>2.622187e+08</td>\n",
       "      <td>4555.096153</td>\n",
       "      <td>NaN</td>\n",
       "      <td>NaN</td>\n",
       "    </tr>\n",
       "  </tbody>\n",
       "</table>\n",
       "</div>"
      ],
      "text/plain": [
       "               df        sum_sq        mean_sq          F        PR(>F)\n",
       "C(도로선형)       3.0  8.228189e+05  274272.978814  60.212336  7.389910e-39\n",
       "Residual  57566.0  2.622187e+08    4555.096153        NaN           NaN"
      ]
     },
     "execution_count": 68,
     "metadata": {},
     "output_type": "execute_result"
    }
   ],
   "source": [
    "model = ols('사고심각도 ~ C(도로선형)', df).fit()\n",
    "anova_lm(model)"
   ]
  },
  {
   "cell_type": "code",
   "execution_count": 70,
   "metadata": {},
   "outputs": [
    {
     "name": "stdout",
     "output_type": "stream",
     "text": [
      " Multiple Comparison of Means - Tukey HSD, FWER=0.05  \n",
      "======================================================\n",
      " group1  group2 meandiff p-adj  lower    upper  reject\n",
      "------------------------------------------------------\n",
      "기타/서비스구역    내리막  22.2486 0.001  16.6152 27.8821   True\n",
      "기타/서비스구역    오르막  22.4923 0.001  16.8031 28.1816   True\n",
      "기타/서비스구역     평지   12.276 0.001   7.4299 17.1222   True\n",
      "     내리막    오르막   0.2437   0.9  -4.0391  4.5265  False\n",
      "     내리막     평지  -9.9726 0.001 -13.0484 -6.8968   True\n",
      "     오르막     평지 -10.2163 0.001 -13.3931 -7.0395   True\n",
      "------------------------------------------------------\n"
     ]
    }
   ],
   "source": [
    "posthoc = pairwise_tukeyhsd(df['사고심각도'], df['도로선형'], alpha=0.05)\n",
    "print(posthoc)"
   ]
  },
  {
   "cell_type": "code",
   "execution_count": 72,
   "metadata": {},
   "outputs": [
    {
     "data": {
      "image/png": "[encoded data removed]",
      "text/plain": [
       "<Figure size 720x432 with 1 Axes>"
      ]
     },
     "metadata": {
      "needs_background": "light"
     },
     "output_type": "display_data"
    }
   ],
   "source": [
    "fig = posthoc.plot_simultaneous()"
   ]
  },
  {
   "cell_type": "markdown",
   "metadata": {},
   "source": [
    "---"
   ]
  },
  {
   "cell_type": "markdown",
   "metadata": {},
   "source": [
    "## 기상상태 (O) / (O)"
   ]
  },
  {
   "cell_type": "code",
   "execution_count": 74,
   "metadata": {},
   "outputs": [
    {
     "data": {
      "text/html": [
       "<div>\n",
       "<style scoped>\n",
       "    .dataframe tbody tr th:only-of-type {\n",
       "        vertical-align: middle;\n",
       "    }\n",
       "\n",
       "    .dataframe tbody tr th {\n",
       "        vertical-align: top;\n",
       "    }\n",
       "\n",
       "    .dataframe thead th {\n",
       "        text-align: right;\n",
       "    }\n",
       "</style>\n",
       "<table border=\"1\" class=\"dataframe\">\n",
       "  <thead>\n",
       "    <tr style=\"text-align: right;\">\n",
       "      <th></th>\n",
       "      <th>df</th>\n",
       "      <th>sum_sq</th>\n",
       "      <th>mean_sq</th>\n",
       "      <th>F</th>\n",
       "      <th>PR(&gt;F)</th>\n",
       "    </tr>\n",
       "  </thead>\n",
       "  <tbody>\n",
       "    <tr>\n",
       "      <th>C(기상상태)</th>\n",
       "      <td>4.0</td>\n",
       "      <td>1.757445e+06</td>\n",
       "      <td>439361.166448</td>\n",
       "      <td>96.798203</td>\n",
       "      <td>3.089494e-82</td>\n",
       "    </tr>\n",
       "    <tr>\n",
       "      <th>Residual</th>\n",
       "      <td>57565.0</td>\n",
       "      <td>2.612840e+08</td>\n",
       "      <td>4538.939276</td>\n",
       "      <td>NaN</td>\n",
       "      <td>NaN</td>\n",
       "    </tr>\n",
       "  </tbody>\n",
       "</table>\n",
       "</div>"
      ],
      "text/plain": [
       "               df        sum_sq        mean_sq          F        PR(>F)\n",
       "C(기상상태)       4.0  1.757445e+06  439361.166448  96.798203  3.089494e-82\n",
       "Residual  57565.0  2.612840e+08    4538.939276        NaN           NaN"
      ]
     },
     "execution_count": 74,
     "metadata": {},
     "output_type": "execute_result"
    }
   ],
   "source": [
    "model = ols('사고심각도 ~ C(기상상태)', df).fit()\n",
    "anova_lm(model)"
   ]
  },
  {
   "cell_type": "code",
   "execution_count": 75,
   "metadata": {},
   "outputs": [
    {
     "name": "stdout",
     "output_type": "stream",
     "text": [
      " Multiple Comparison of Means - Tukey HSD, FWER=0.05  \n",
      "======================================================\n",
      "group1 group2 meandiff p-adj   lower    upper   reject\n",
      "------------------------------------------------------\n",
      "     눈     맑음 -10.7967 0.1536 -23.7526   2.1592  False\n",
      "     눈      비  -1.7905    0.9 -15.0886  11.5076  False\n",
      "     눈     안개  73.5972  0.001  50.9733  96.2211   True\n",
      "     눈     흐림   9.2729 0.3328  -4.2425  22.7883  False\n",
      "    맑음      비   9.0062  0.001   5.7978  12.2146   True\n",
      "    맑음     안개  84.3939  0.001  65.8118  102.976   True\n",
      "    맑음     흐림  20.0696  0.001  16.0547  24.0845   True\n",
      "     비     안개  75.3877  0.001  56.5654    94.21   True\n",
      "     비     흐림  11.0634  0.001    6.053  16.0737   True\n",
      "    안개     흐림 -64.3243  0.001 -83.3007 -45.3479   True\n",
      "------------------------------------------------------\n"
     ]
    }
   ],
   "source": [
    "posthoc = pairwise_tukeyhsd(df['사고심각도'], df['기상상태'], alpha=0.05)\n",
    "print(posthoc)"
   ]
  },
  {
   "cell_type": "code",
   "execution_count": 76,
   "metadata": {},
   "outputs": [
    {
     "data": {
      "image/png": "[encoded data removed]",
      "text/plain": [
       "<Figure size 720x432 with 1 Axes>"
      ]
     },
     "metadata": {
      "needs_background": "light"
     },
     "output_type": "display_data"
    }
   ],
   "source": [
    "fig = posthoc.plot_simultaneous()"
   ]
  },
  {
   "cell_type": "markdown",
   "metadata": {},
   "source": [
    "---"
   ]
  },
  {
   "cell_type": "markdown",
   "metadata": {},
   "source": [
    "## 노면상태 (O) / (O)"
   ]
  },
  {
   "cell_type": "code",
   "execution_count": 78,
   "metadata": {},
   "outputs": [
    {
     "data": {
      "text/html": [
       "<div>\n",
       "<style scoped>\n",
       "    .dataframe tbody tr th:only-of-type {\n",
       "        vertical-align: middle;\n",
       "    }\n",
       "\n",
       "    .dataframe tbody tr th {\n",
       "        vertical-align: top;\n",
       "    }\n",
       "\n",
       "    .dataframe thead th {\n",
       "        text-align: right;\n",
       "    }\n",
       "</style>\n",
       "<table border=\"1\" class=\"dataframe\">\n",
       "  <thead>\n",
       "    <tr style=\"text-align: right;\">\n",
       "      <th></th>\n",
       "      <th>df</th>\n",
       "      <th>sum_sq</th>\n",
       "      <th>mean_sq</th>\n",
       "      <th>F</th>\n",
       "      <th>PR(&gt;F)</th>\n",
       "    </tr>\n",
       "  </thead>\n",
       "  <tbody>\n",
       "    <tr>\n",
       "      <th>C(노면상태)</th>\n",
       "      <td>4.0</td>\n",
       "      <td>6.836754e+05</td>\n",
       "      <td>170918.840047</td>\n",
       "      <td>37.502002</td>\n",
       "      <td>2.229793e-31</td>\n",
       "    </tr>\n",
       "    <tr>\n",
       "      <th>Residual</th>\n",
       "      <td>57565.0</td>\n",
       "      <td>2.623578e+08</td>\n",
       "      <td>4557.592438</td>\n",
       "      <td>NaN</td>\n",
       "      <td>NaN</td>\n",
       "    </tr>\n",
       "  </tbody>\n",
       "</table>\n",
       "</div>"
      ],
      "text/plain": [
       "               df        sum_sq        mean_sq          F        PR(>F)\n",
       "C(노면상태)       4.0  6.836754e+05  170918.840047  37.502002  2.229793e-31\n",
       "Residual  57565.0  2.623578e+08    4557.592438        NaN           NaN"
      ]
     },
     "execution_count": 78,
     "metadata": {},
     "output_type": "execute_result"
    }
   ],
   "source": [
    "model = ols('사고심각도 ~ C(노면상태)', df).fit()\n",
    "anova_lm(model)"
   ]
  },
  {
   "cell_type": "code",
   "execution_count": 79,
   "metadata": {},
   "outputs": [
    {
     "name": "stdout",
     "output_type": "stream",
     "text": [
      " Multiple Comparison of Means - Tukey HSD, FWER=0.05 \n",
      "=====================================================\n",
      "group1 group2 meandiff p-adj   lower    upper  reject\n",
      "-----------------------------------------------------\n",
      "    건조     기타   3.2623 0.8651  -6.0856 12.6102  False\n",
      "    건조  서리/결빙  12.8606 0.3155  -5.5726 31.2938  False\n",
      "    건조     적설   1.1274    0.9 -18.4097 20.6645  False\n",
      "    건조  젖음/습기  12.5009  0.001   9.6837 15.3181   True\n",
      "    기타  서리/결빙   9.5983 0.6853 -11.0383 30.2349  False\n",
      "    기타     적설  -2.1349    0.9 -23.7633 19.4934  False\n",
      "    기타  젖음/습기   9.2385 0.0707   -0.458 18.9351  False\n",
      " 서리/결빙     적설 -11.7333 0.7285 -38.5695  15.103  False\n",
      " 서리/결빙  젖음/습기  -0.3598    0.9 -18.9722 18.2527  False\n",
      "    적설  젖음/습기  11.3735 0.5119  -8.3328 31.0798  False\n",
      "-----------------------------------------------------\n"
     ]
    }
   ],
   "source": [
    "posthoc = pairwise_tukeyhsd(df['사고심각도'], df['노면상태'], alpha=0.05)\n",
    "print(posthoc)"
   ]
  },
  {
   "cell_type": "code",
   "execution_count": 80,
   "metadata": {},
   "outputs": [
    {
     "data": {
      "image/png": "[encoded data removed]",
      "text/plain": [
       "<Figure size 720x432 with 1 Axes>"
      ]
     },
     "metadata": {
      "needs_background": "light"
     },
     "output_type": "display_data"
    }
   ],
   "source": [
    "fig = posthoc.plot_simultaneous()"
   ]
  },
  {
   "cell_type": "markdown",
   "metadata": {},
   "source": [
    "---"
   ]
  },
  {
   "cell_type": "markdown",
   "metadata": {},
   "source": [
    "## 교차로형태 (X) / (X)"
   ]
  },
  {
   "cell_type": "code",
   "execution_count": 81,
   "metadata": {},
   "outputs": [
    {
     "data": {
      "text/html": [
       "<div>\n",
       "<style scoped>\n",
       "    .dataframe tbody tr th:only-of-type {\n",
       "        vertical-align: middle;\n",
       "    }\n",
       "\n",
       "    .dataframe tbody tr th {\n",
       "        vertical-align: top;\n",
       "    }\n",
       "\n",
       "    .dataframe thead th {\n",
       "        text-align: right;\n",
       "    }\n",
       "</style>\n",
       "<table border=\"1\" class=\"dataframe\">\n",
       "  <thead>\n",
       "    <tr style=\"text-align: right;\">\n",
       "      <th></th>\n",
       "      <th>df</th>\n",
       "      <th>sum_sq</th>\n",
       "      <th>mean_sq</th>\n",
       "      <th>F</th>\n",
       "      <th>PR(&gt;F)</th>\n",
       "    </tr>\n",
       "  </thead>\n",
       "  <tbody>\n",
       "    <tr>\n",
       "      <th>C(교차로형태)</th>\n",
       "      <td>5.0</td>\n",
       "      <td>2.270325e+04</td>\n",
       "      <td>4540.649673</td>\n",
       "      <td>0.993762</td>\n",
       "      <td>0.419709</td>\n",
       "    </tr>\n",
       "    <tr>\n",
       "      <th>Residual</th>\n",
       "      <td>57564.0</td>\n",
       "      <td>2.630188e+08</td>\n",
       "      <td>4569.153999</td>\n",
       "      <td>NaN</td>\n",
       "      <td>NaN</td>\n",
       "    </tr>\n",
       "  </tbody>\n",
       "</table>\n",
       "</div>"
      ],
      "text/plain": [
       "               df        sum_sq      mean_sq         F    PR(>F)\n",
       "C(교차로형태)      5.0  2.270325e+04  4540.649673  0.993762  0.419709\n",
       "Residual  57564.0  2.630188e+08  4569.153999       NaN       NaN"
      ]
     },
     "execution_count": 81,
     "metadata": {},
     "output_type": "execute_result"
    }
   ],
   "source": [
    "model = ols('사고심각도 ~ C(교차로형태)', df).fit()\n",
    "anova_lm(model)"
   ]
  },
  {
   "cell_type": "markdown",
   "metadata": {},
   "source": [
    "---"
   ]
  },
  {
   "cell_type": "code",
   "execution_count": null,
   "metadata": {},
   "outputs": [],
   "source": []
  }
 ],
 "metadata": {
  "kernelspec": {
   "display_name": "Python 3",
   "language": "python",
   "name": "python3"
  },
  "language_info": {
   "codemirror_mode": {
    "name": "ipython",
    "version": 3
   },
   "file_extension": ".py",
   "mimetype": "text/x-python",
   "name": "python",
   "nbconvert_exporter": "python",
   "pygments_lexer": "ipython3",
   "version": "3.8.3"
  }
 },
 "nbformat": 4,
 "nbformat_minor": 4
}
